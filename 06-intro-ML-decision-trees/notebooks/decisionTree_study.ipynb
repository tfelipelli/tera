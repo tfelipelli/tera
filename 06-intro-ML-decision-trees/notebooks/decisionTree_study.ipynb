{
 "cells": [
  {
   "cell_type": "markdown",
   "metadata": {},
   "source": [
    "# Decision Trees Study\n",
    "\n",
    "> Este notebook tem o objetivo de guiar a aula 06 do bootcamp Tera dsc-fev2018.\n",
    "\n",
    "> Trata-se de uma introdução a Machine Learning através de Decision Trees."
   ]
  },
  {
   "cell_type": "markdown",
   "metadata": {},
   "source": [
    "## Hello world!\n",
    ">Esse é um caso facil e didatico. Vamos resolver o problema de ponta a ponta, porem de forma superficial. No proximo problema, nosso problema oficial, vamos entender como uma decision tree é criada.\n",
    "![oranges_apples_ilustracao.png](../data/oranges_apples_ilustracao.png) [2]\n",
    "\n",
    "### scikit-learn\n",
    "![scikit-learn_fig](http://scikit-learn.org/stable/_static/scikit-learn-logo-small.png) [3]\n",
    "\n",
    "[scikit-learn doc](http://scikit-learn.org/stable/modules/generated/sklearn.tree.DecisionTreeClassifier.html)"
   ]
  },
  {
   "cell_type": "code",
   "execution_count": 3,
   "metadata": {},
   "outputs": [
    {
     "name": "stdout",
     "output_type": "stream",
     "text": [
      "[0]\n"
     ]
    }
   ],
   "source": [
    "#--Google Developers example\n",
    "# from sklearn import tree\n",
    "# features = [[140, 1], [130,1], [150,0], [170,0]]\n",
    "# labels = [0, 0, 1, 1]\n",
    "# clas_tree = tree.DecisionTreeClassifier()\n",
    "# clas_tree = clas_tree.fit(features, labels)\n",
    "# print(clas_tree.predict([[160,0]]))\n",
    "# clas_tree.score(features,labels)"
   ]
  },
  {
   "cell_type": "code",
   "execution_count": 2,
   "metadata": {},
   "outputs": [],
   "source": [
    "#--Import method decision tree from scikit-learn\n",
    "from sklearn import tree"
   ]
  },
  {
   "cell_type": "code",
   "execution_count": 3,
   "metadata": {},
   "outputs": [
    {
     "name": "stdout",
     "output_type": "stream",
     "text": [
      "label do elemento 2: 1\n"
     ]
    }
   ],
   "source": [
    "#--Define feautres weight, texture\n",
    "features = [[140, 1], [130,1], [150,0], [170,0]]\n",
    "labels = [0, 0, 1, 1]\n",
    "# print(\"features do elemento 0: \"+str((features[0])))\n",
    "print(\"label do elemento 2: \"+str((labels[2])))"
   ]
  },
  {
   "cell_type": "code",
   "execution_count": 4,
   "metadata": {},
   "outputs": [],
   "source": [
    "#--Instancia o classificador por Decision Tree\n",
    "clas_tree = tree.DecisionTreeClassifier()\n",
    "#--Treina o classificador com o dataset disponivel\n",
    "clas_tree = clas_tree.fit(features, labels)"
   ]
  },
  {
   "cell_type": "code",
   "execution_count": 5,
   "metadata": {},
   "outputs": [
    {
     "name": "stdout",
     "output_type": "stream",
     "text": [
      "[0]\n"
     ]
    }
   ],
   "source": [
    "#--Estima uma fruta baseado em seu peso e textura, atraves do classificador Decision Tree\n",
    "print(clas_tree.predict([[120,1]])) #Observe que esse elemento nao existe no nosso dataset\n",
    "#print(clas_tree.predict([[160,0]])) #Observe que esse elemento nao existe no nosso dataset"
   ]
  },
  {
   "cell_type": "markdown",
   "metadata": {},
   "source": [
    "---\n",
    "## Iris case\n",
    ">The Iris flower data set or Fisher's Iris data set is a multivariate data set introduced by the British statistician and biologist Ronald Fisher in his 1936 paper The use of multiple measurements in taxonomic problems as an example of linear discriminant analysis. [4]\n",
    "\n",
    "\n",
    "\n",
    "\n",
    "| Elements | Taxonomy   |\n",
    "|------|------|\n",
    "|![Taxonomy hierarchy](../data/taxonomyHierarchy.png) [5]|![Iris elements](https://evolution.berkeley.edu/evolibrary/images/interviews/flower_diagram.gif \"Iris elements\") [1]|"
   ]
  },
  {
   "cell_type": "code",
   "execution_count": 6,
   "metadata": {},
   "outputs": [],
   "source": [
    "#--Library\n",
    "from sklearn.tree import DecisionTreeClassifier, export_graphviz\n",
    "import pandas as pd\n",
    "import numpy as np\n",
    "from sklearn import datasets"
   ]
  },
  {
   "cell_type": "code",
   "execution_count": 10,
   "metadata": {},
   "outputs": [
    {
     "name": "stdout",
     "output_type": "stream",
     "text": [
      "Iris Plants Database\n",
      "====================\n",
      "\n",
      "Notes\n",
      "-----\n",
      "Data Set Characteristics:\n",
      "    :Number of Instances: 150 (50 in each of three classes)\n",
      "    :Number of Attributes: 4 numeric, predictive attributes and the class\n",
      "    :Attribute Information:\n",
      "        - sepal length in cm\n",
      "        - sepal width in cm\n",
      "        - petal length in cm\n",
      "        - petal width in cm\n",
      "        - class:\n",
      "                - Iris-Setosa\n",
      "                - Iris-Versicolour\n",
      "                - Iris-Virginica\n",
      "    :Summary Statistics:\n",
      "\n",
      "    ============== ==== ==== ======= ===== ====================\n",
      "                    Min  Max   Mean    SD   Class Correlation\n",
      "    ============== ==== ==== ======= ===== ====================\n",
      "    sepal length:   4.3  7.9   5.84   0.83    0.7826\n",
      "    sepal width:    2.0  4.4   3.05   0.43   -0.4194\n",
      "    petal length:   1.0  6.9   3.76   1.76    0.9490  (high!)\n",
      "    petal width:    0.1  2.5   1.20  0.76     0.9565  (high!)\n",
      "    ============== ==== ==== ======= ===== ====================\n",
      "\n",
      "    :Missing Attribute Values: None\n",
      "    :Class Distribution: 33.3% for each of 3 classes.\n",
      "    :Creator: R.A. Fisher\n",
      "    :Donor: Michael Marshall (MARSHALL%PLU@io.arc.nasa.gov)\n",
      "    :Date: July, 1988\n",
      "\n",
      "This is a copy of UCI ML iris datasets.\n",
      "http://archive.ics.uci.edu/ml/datasets/Iris\n",
      "\n",
      "The famous Iris database, first used by Sir R.A Fisher\n",
      "\n",
      "This is perhaps the best known database to be found in the\n",
      "pattern recognition literature.  Fisher's paper is a classic in the field and\n",
      "is referenced frequently to this day.  (See Duda & Hart, for example.)  The\n",
      "data set contains 3 classes of 50 instances each, where each class refers to a\n",
      "type of iris plant.  One class is linearly separable from the other 2; the\n",
      "latter are NOT linearly separable from each other.\n",
      "\n",
      "References\n",
      "----------\n",
      "   - Fisher,R.A. \"The use of multiple measurements in taxonomic problems\"\n",
      "     Annual Eugenics, 7, Part II, 179-188 (1936); also in \"Contributions to\n",
      "     Mathematical Statistics\" (John Wiley, NY, 1950).\n",
      "   - Duda,R.O., & Hart,P.E. (1973) Pattern Classification and Scene Analysis.\n",
      "     (Q327.D83) John Wiley & Sons.  ISBN 0-471-22361-1.  See page 218.\n",
      "   - Dasarathy, B.V. (1980) \"Nosing Around the Neighborhood: A New System\n",
      "     Structure and Classification Rule for Recognition in Partially Exposed\n",
      "     Environments\".  IEEE Transactions on Pattern Analysis and Machine\n",
      "     Intelligence, Vol. PAMI-2, No. 1, 67-71.\n",
      "   - Gates, G.W. (1972) \"The Reduced Nearest Neighbor Rule\".  IEEE Transactions\n",
      "     on Information Theory, May 1972, 431-433.\n",
      "   - See also: 1988 MLC Proceedings, 54-64.  Cheeseman et al\"s AUTOCLASS II\n",
      "     conceptual clustering system finds 3 classes in the data.\n",
      "   - Many, many more ...\n",
      "\n"
     ]
    }
   ],
   "source": [
    "#--Load iris dataset\n",
    "iris = datasets.load_iris()\n",
    "print(iris.DESCR)"
   ]
  },
  {
   "cell_type": "code",
   "execution_count": 11,
   "metadata": {},
   "outputs": [
    {
     "name": "stdout",
     "output_type": "stream",
     "text": [
      "    SepalLength  SepalWidth  PetalLength  PetalWidth  Name  Target\n",
      "40          5.0         3.5          1.3         0.3   0.0       0\n",
      "41          4.5         2.3          1.3         0.3   0.0       0\n",
      "42          4.4         3.2          1.3         0.2   0.0       0\n",
      "43          5.0         3.5          1.6         0.6   0.0       0\n",
      "44          5.1         3.8          1.9         0.4   0.0       0\n",
      "45          4.8         3.0          1.4         0.3   0.0       0\n",
      "46          5.1         3.8          1.6         0.2   0.0       0\n",
      "47          4.6         3.2          1.4         0.2   0.0       0\n",
      "48          5.3         3.7          1.5         0.2   0.0       0\n",
      "50          7.0         3.2          4.7         1.4   1.0       1\n",
      "51          6.4         3.2          4.5         1.5   1.0       1\n",
      "52          6.9         3.1          4.9         1.5   1.0       1\n",
      "53          5.5         2.3          4.0         1.3   1.0       1\n",
      "54          6.5         2.8          4.6         1.5   1.0       1\n",
      "55          5.7         2.8          4.5         1.3   1.0       1\n",
      "56          6.3         3.3          4.7         1.6   1.0       1\n",
      "57          4.9         2.4          3.3         1.0   1.0       1\n",
      "58          6.6         2.9          4.6         1.3   1.0       1\n",
      "59          5.2         2.7          3.9         1.4   1.0       1\n",
      "60          5.0         2.0          3.5         1.0   1.0       1\n"
     ]
    }
   ],
   "source": [
    "#--Prepare dataset in a dataframe\n",
    "features = ['SepalLength', 'SepalWidth', 'PetalLength', 'PetalWidth']\n",
    "df = pd.DataFrame(data= np.c_[iris['data'], iris['target']], columns=features+['Name'])\n",
    "df2 = df\n",
    "df2['Target'] = df2['Name'].astype(int) #Parse target to integer\n",
    "\n",
    "#Train split\n",
    "dfTrain = df2.drop(df.index[[49,99,149]])\n",
    "\n",
    "# Test split\n",
    "dfTest = df2.iloc[[49,99,149]]\n",
    "\n",
    "#dfTrain.head()\n",
    "print(dfTrain[40:60]) #print specific lines"
   ]
  },
  {
   "cell_type": "code",
   "execution_count": 12,
   "metadata": {},
   "outputs": [],
   "source": [
    "#--Define features and target\n",
    "y = dfTrain['Target']\n",
    "X = dfTrain[features]"
   ]
  },
  {
   "cell_type": "code",
   "execution_count": 13,
   "metadata": {},
   "outputs": [
    {
     "data": {
      "text/plain": [
       "0    0\n",
       "1    0\n",
       "2    0\n",
       "3    0\n",
       "4    0\n",
       "Name: Target, dtype: int64"
      ]
     },
     "execution_count": 13,
     "metadata": {},
     "output_type": "execute_result"
    }
   ],
   "source": [
    "#--Take a look at X (features) and y (target)\n",
    "#X.head()\n",
    "y.head()"
   ]
  },
  {
   "cell_type": "code",
   "execution_count": 14,
   "metadata": {},
   "outputs": [
    {
     "data": {
      "text/plain": [
       "DecisionTreeClassifier(class_weight=None, criterion='gini', max_depth=None,\n",
       "            max_features=None, max_leaf_nodes=None,\n",
       "            min_impurity_decrease=0.0, min_impurity_split=None,\n",
       "            min_samples_leaf=1, min_samples_split=20,\n",
       "            min_weight_fraction_leaf=0.0, presort=False, random_state=99,\n",
       "            splitter='best')"
      ]
     },
     "execution_count": 14,
     "metadata": {},
     "output_type": "execute_result"
    }
   ],
   "source": [
    "#--Model data\n",
    "dt = DecisionTreeClassifier(min_samples_split=20, random_state=99) #parameters to understand and modify\n",
    "dt.fit(X, y) #Train model"
   ]
  },
  {
   "cell_type": "code",
   "execution_count": 22,
   "metadata": {},
   "outputs": [
    {
     "data": {
      "text/html": [
       "<div>\n",
       "<style scoped>\n",
       "    .dataframe tbody tr th:only-of-type {\n",
       "        vertical-align: middle;\n",
       "    }\n",
       "\n",
       "    .dataframe tbody tr th {\n",
       "        vertical-align: top;\n",
       "    }\n",
       "\n",
       "    .dataframe thead th {\n",
       "        text-align: right;\n",
       "    }\n",
       "</style>\n",
       "<table border=\"1\" class=\"dataframe\">\n",
       "  <thead>\n",
       "    <tr style=\"text-align: right;\">\n",
       "      <th></th>\n",
       "      <th>SepalLength</th>\n",
       "      <th>SepalWidth</th>\n",
       "      <th>PetalLength</th>\n",
       "      <th>PetalWidth</th>\n",
       "      <th>Name</th>\n",
       "      <th>Target</th>\n",
       "    </tr>\n",
       "  </thead>\n",
       "  <tbody>\n",
       "    <tr>\n",
       "      <th>49</th>\n",
       "      <td>5.0</td>\n",
       "      <td>3.3</td>\n",
       "      <td>1.4</td>\n",
       "      <td>0.2</td>\n",
       "      <td>0.0</td>\n",
       "      <td>0</td>\n",
       "    </tr>\n",
       "    <tr>\n",
       "      <th>99</th>\n",
       "      <td>5.7</td>\n",
       "      <td>2.8</td>\n",
       "      <td>4.1</td>\n",
       "      <td>1.3</td>\n",
       "      <td>1.0</td>\n",
       "      <td>1</td>\n",
       "    </tr>\n",
       "    <tr>\n",
       "      <th>149</th>\n",
       "      <td>5.9</td>\n",
       "      <td>3.0</td>\n",
       "      <td>5.1</td>\n",
       "      <td>1.8</td>\n",
       "      <td>2.0</td>\n",
       "      <td>2</td>\n",
       "    </tr>\n",
       "  </tbody>\n",
       "</table>\n",
       "</div>"
      ],
      "text/plain": [
       "     SepalLength  SepalWidth  PetalLength  PetalWidth  Name  Target\n",
       "49           5.0         3.3          1.4         0.2   0.0       0\n",
       "99           5.7         2.8          4.1         1.3   1.0       1\n",
       "149          5.9         3.0          5.1         1.8   2.0       2"
      ]
     },
     "execution_count": 22,
     "metadata": {},
     "output_type": "execute_result"
    }
   ],
   "source": [
    "#--Predict target\n",
    "#dt.predict([[3,5,3,0]])\n",
    "#dt.predict([[3,5,1,0]])\n",
    "#dt.predict([[3,5,5,2]])\n",
    "\n",
    "#Predict with Test split\n",
    "#dt.predict(dfTest[dfTest.Target == 0][features])\n",
    "dfTest.head()\n",
    "#dfTest[dfTest.Target == 2]"
   ]
  },
  {
   "cell_type": "code",
   "execution_count": 23,
   "metadata": {},
   "outputs": [
    {
     "data": {
      "text/plain": [
       "0.97959183673469385"
      ]
     },
     "execution_count": 23,
     "metadata": {},
     "output_type": "execute_result"
    }
   ],
   "source": [
    "#--Check tree accuracy\n",
    "dt.score(X,y)\n",
    "\n",
    "# yTest = dfTest['Target']\n",
    "# XTest = dfTest[features]\n",
    "# dt.score(XTest,yTest)"
   ]
  },
  {
   "cell_type": "markdown",
   "metadata": {},
   "source": [
    "## References\n",
    "1. https://evolution.berkeley.edu/evolibrary/home.php \n",
    "2. https://www.youtube.com/watch?v=cKxRvEZd3Mw&list=PLOU2XLYxmsIIuiBfYad6rFYQU_jL2ryal\n",
    "3. http://scikit-learn.org/stable/index.html#\n",
    "4. https://en.wikipedia.org/wiki/Iris_flower_data_set\n",
    "5. http://bioweb.uwlax.edu/bio203/s2012/zepke_pete/classification.htm\n",
    "6. http://chrisstrelioff.ws/sandbox/2015/06/08/decision_trees_in_python_with_scikit_learn_and_pandas.html"
   ]
  },
  {
   "cell_type": "markdown",
   "metadata": {},
   "source": [
    "---\n",
    "## Supplementary material\n",
    "### Original code from [6]"
   ]
  },
  {
   "cell_type": "code",
   "execution_count": 64,
   "metadata": {},
   "outputs": [
    {
     "name": "stdout",
     "output_type": "stream",
     "text": [
      "-- iris.csv found locally\n"
     ]
    },
    {
     "data": {
      "text/html": [
       "<div>\n",
       "<style>\n",
       "    .dataframe thead tr:only-child th {\n",
       "        text-align: right;\n",
       "    }\n",
       "\n",
       "    .dataframe thead th {\n",
       "        text-align: left;\n",
       "    }\n",
       "\n",
       "    .dataframe tbody tr th {\n",
       "        vertical-align: top;\n",
       "    }\n",
       "</style>\n",
       "<table border=\"1\" class=\"dataframe\">\n",
       "  <thead>\n",
       "    <tr style=\"text-align: right;\">\n",
       "      <th></th>\n",
       "      <th>SepalLength</th>\n",
       "      <th>SepalWidth</th>\n",
       "      <th>PetalLength</th>\n",
       "      <th>PetalWidth</th>\n",
       "      <th>Name</th>\n",
       "    </tr>\n",
       "  </thead>\n",
       "  <tbody>\n",
       "    <tr>\n",
       "      <th>0</th>\n",
       "      <td>5.1</td>\n",
       "      <td>3.5</td>\n",
       "      <td>1.4</td>\n",
       "      <td>0.2</td>\n",
       "      <td>Iris-setosa</td>\n",
       "    </tr>\n",
       "    <tr>\n",
       "      <th>1</th>\n",
       "      <td>4.9</td>\n",
       "      <td>3.0</td>\n",
       "      <td>1.4</td>\n",
       "      <td>0.2</td>\n",
       "      <td>Iris-setosa</td>\n",
       "    </tr>\n",
       "    <tr>\n",
       "      <th>2</th>\n",
       "      <td>4.7</td>\n",
       "      <td>3.2</td>\n",
       "      <td>1.3</td>\n",
       "      <td>0.2</td>\n",
       "      <td>Iris-setosa</td>\n",
       "    </tr>\n",
       "    <tr>\n",
       "      <th>3</th>\n",
       "      <td>4.6</td>\n",
       "      <td>3.1</td>\n",
       "      <td>1.5</td>\n",
       "      <td>0.2</td>\n",
       "      <td>Iris-setosa</td>\n",
       "    </tr>\n",
       "    <tr>\n",
       "      <th>4</th>\n",
       "      <td>5.0</td>\n",
       "      <td>3.6</td>\n",
       "      <td>1.4</td>\n",
       "      <td>0.2</td>\n",
       "      <td>Iris-setosa</td>\n",
       "    </tr>\n",
       "  </tbody>\n",
       "</table>\n",
       "</div>"
      ],
      "text/plain": [
       "   SepalLength  SepalWidth  PetalLength  PetalWidth         Name\n",
       "0          5.1         3.5          1.4         0.2  Iris-setosa\n",
       "1          4.9         3.0          1.4         0.2  Iris-setosa\n",
       "2          4.7         3.2          1.3         0.2  Iris-setosa\n",
       "3          4.6         3.1          1.5         0.2  Iris-setosa\n",
       "4          5.0         3.6          1.4         0.2  Iris-setosa"
      ]
     },
     "execution_count": 64,
     "metadata": {},
     "output_type": "execute_result"
    }
   ],
   "source": [
    "#--Library\n",
    "# import os\n",
    "# import subprocess\n",
    "# from sklearn.tree import DecisionTreeClassifier, export_graphviz\n",
    "# import pandas as pd\n",
    "# import numpy as np\n",
    "# from sklearn import datasets\n",
    "\n",
    "# #--Abordagem alternativa, source: [6]\n",
    "# ##Get Data\n",
    "\n",
    "# #iris = datasets.load_iris() #option to read form scikit_learn datasets\n",
    "\n",
    "# #Function to get the data local or remote\n",
    "# def get_iris_data():\n",
    "#     \"\"\"Get the iris data, from local csv or pandas repo.\"\"\"\n",
    "#     if os.path.exists(\"iris.csv\"):\n",
    "#         print(\"-- iris.csv found locally\")\n",
    "#         df = pd.read_csv(\"iris.csv\", index_col=0)\n",
    "#     else:\n",
    "#         print(\"-- trying to download from github\")\n",
    "#         fn = \"https://raw.githubusercontent.com/pydata/pandas/\" + \\\n",
    "#              \"master/pandas/tests/data/iris.csv\"\n",
    "#         try:\n",
    "#             df = pd.read_csv(fn)\n",
    "#         except:\n",
    "#             exit(\"-- Unable to download iris.csv\")\n",
    "\n",
    "#         with open(\"iris.csv\", 'w') as f:\n",
    "#             print(\"-- writing to local iris.csv file\")\n",
    "#             df.to_csv(f)\n",
    "\n",
    "#     return df\n",
    "\n",
    "# #Build the dataframe\n",
    "# df = get_iris_data()\n",
    "\n",
    "# df.head()"
   ]
  },
  {
   "cell_type": "code",
   "execution_count": 90,
   "metadata": {},
   "outputs": [
    {
     "data": {
      "text/html": [
       "<div>\n",
       "<style>\n",
       "    .dataframe thead tr:only-child th {\n",
       "        text-align: right;\n",
       "    }\n",
       "\n",
       "    .dataframe thead th {\n",
       "        text-align: left;\n",
       "    }\n",
       "\n",
       "    .dataframe tbody tr th {\n",
       "        vertical-align: top;\n",
       "    }\n",
       "</style>\n",
       "<table border=\"1\" class=\"dataframe\">\n",
       "  <thead>\n",
       "    <tr style=\"text-align: right;\">\n",
       "      <th></th>\n",
       "      <th>SepalLength</th>\n",
       "      <th>SepalWidth</th>\n",
       "      <th>PetalLength</th>\n",
       "      <th>PetalWidth</th>\n",
       "      <th>Name</th>\n",
       "      <th>Target</th>\n",
       "    </tr>\n",
       "  </thead>\n",
       "  <tbody>\n",
       "    <tr>\n",
       "      <th>0</th>\n",
       "      <td>5.1</td>\n",
       "      <td>3.5</td>\n",
       "      <td>1.4</td>\n",
       "      <td>0.2</td>\n",
       "      <td>0.0</td>\n",
       "      <td>0.0</td>\n",
       "    </tr>\n",
       "    <tr>\n",
       "      <th>1</th>\n",
       "      <td>4.9</td>\n",
       "      <td>3.0</td>\n",
       "      <td>1.4</td>\n",
       "      <td>0.2</td>\n",
       "      <td>0.0</td>\n",
       "      <td>0.0</td>\n",
       "    </tr>\n",
       "    <tr>\n",
       "      <th>2</th>\n",
       "      <td>4.7</td>\n",
       "      <td>3.2</td>\n",
       "      <td>1.3</td>\n",
       "      <td>0.2</td>\n",
       "      <td>0.0</td>\n",
       "      <td>0.0</td>\n",
       "    </tr>\n",
       "    <tr>\n",
       "      <th>3</th>\n",
       "      <td>4.6</td>\n",
       "      <td>3.1</td>\n",
       "      <td>1.5</td>\n",
       "      <td>0.2</td>\n",
       "      <td>0.0</td>\n",
       "      <td>0.0</td>\n",
       "    </tr>\n",
       "    <tr>\n",
       "      <th>4</th>\n",
       "      <td>5.0</td>\n",
       "      <td>3.6</td>\n",
       "      <td>1.4</td>\n",
       "      <td>0.2</td>\n",
       "      <td>0.0</td>\n",
       "      <td>0.0</td>\n",
       "    </tr>\n",
       "  </tbody>\n",
       "</table>\n",
       "</div>"
      ],
      "text/plain": [
       "   SepalLength  SepalWidth  PetalLength  PetalWidth  Name  Target\n",
       "0          5.1         3.5          1.4         0.2   0.0     0.0\n",
       "1          4.9         3.0          1.4         0.2   0.0     0.0\n",
       "2          4.7         3.2          1.3         0.2   0.0     0.0\n",
       "3          4.6         3.1          1.5         0.2   0.0     0.0\n",
       "4          5.0         3.6          1.4         0.2   0.0     0.0"
      ]
     },
     "execution_count": 90,
     "metadata": {},
     "output_type": "execute_result"
    }
   ],
   "source": [
    "##Prepare data\n",
    "\n",
    "# def encode_target(df, target_column):\n",
    "#     \"\"\"Add column to df with integers for the target.\n",
    "\n",
    "#     Args\n",
    "#     ----\n",
    "#     df -- pandas DataFrame.\n",
    "#     target_column -- column to map to int, producing\n",
    "#                      new Target column.\n",
    "\n",
    "#     Returns\n",
    "#     -------\n",
    "#     df_mod -- modified DataFrame.\n",
    "#     targets -- list of target names.\n",
    "#     \"\"\"\n",
    "#     df_mod = df.copy()\n",
    "#     targets = df_mod[target_column].unique()\n",
    "#     map_to_int = {name: n for n, name in enumerate(targets)}\n",
    "#     df_mod[\"Target\"] = df_mod[target_column].replace(map_to_int)\n",
    "\n",
    "#     return (df_mod, targets)\n",
    "\n",
    "# df2, targets = encode_target(df, \"Name\")\n",
    "# df2[[\"Target\", \"Name\"]].head()\n",
    "# #Target variable is named as 'Target'\n",
    "\n",
    "# #List features variables\n",
    "# features = list(df2.columns[:4])\n",
    "# #features\n",
    "# df2.head()"
   ]
  },
  {
   "cell_type": "code",
   "execution_count": null,
   "metadata": {
    "collapsed": true
   },
   "outputs": [],
   "source": [
    "##Model data\n",
    "\n",
    "# y = df2[\"Target\"]\n",
    "# X = df2[features]\n",
    "# dt = DecisionTreeClassifier(min_samples_split=20, random_state=99) #parameters to understand and modify\n",
    "# dt.fit(X, y)"
   ]
  },
  {
   "cell_type": "code",
   "execution_count": 9,
   "metadata": {
    "collapsed": true
   },
   "outputs": [],
   "source": [
    "##Visualizing the tree\n",
    "\n",
    "# def visualize_tree(tree, feature_names):\n",
    "#     \"\"\"Create tree png using graphviz.\n",
    "\n",
    "#     Args\n",
    "#     ----\n",
    "#     tree -- scikit-learn DecsisionTree.\n",
    "#     feature_names -- list of feature names.\n",
    "#     \"\"\"\n",
    "#     with open(\"dt.dot\", 'w') as f:\n",
    "#         export_graphviz(tree, out_file=f,\n",
    "#                         feature_names=feature_names)\n",
    "\n",
    "#     command = [\"dot\", \"-Tpng\", \"dt.dot\", \"-o\", \"dt.png\"]\n",
    "#     try:\n",
    "#         subprocess.check_call(command)\n",
    "#     except:\n",
    "#         exit(\"Could not run dot, ie graphviz, to \"\n",
    "#              \"produce visualization\")\n",
    "        \n",
    "# visualize_tree(dt, features)\n"
   ]
  },
  {
   "cell_type": "code",
   "execution_count": null,
   "metadata": {
    "collapsed": true
   },
   "outputs": [],
   "source": [
    "##Predict target\n",
    "\n",
    "# dt.predict([[3,5,3,0]])"
   ]
  },
  {
   "cell_type": "code",
   "execution_count": null,
   "metadata": {
    "collapsed": true
   },
   "outputs": [],
   "source": [
    "##Check tree accuracy\n",
    "\n",
    "# dt.score(X,y)"
   ]
  },
  {
   "cell_type": "markdown",
   "metadata": {},
   "source": [
    "---\n",
    "### Functions to check version"
   ]
  },
  {
   "cell_type": "code",
   "execution_count": 1,
   "metadata": {},
   "outputs": [
    {
     "name": "stdout",
     "output_type": "stream",
     "text": [
      "3.6.4 |Anaconda, Inc.| (default, Jan 16 2018, 12:04:33) \n",
      "[GCC 4.2.1 Compatible Clang 4.0.1 (tags/RELEASE_401/final)]\n"
     ]
    }
   ],
   "source": [
    "import sys\n",
    "print(sys.version)"
   ]
  },
  {
   "cell_type": "code",
   "execution_count": null,
   "metadata": {},
   "outputs": [],
   "source": []
  }
 ],
 "metadata": {
  "kernelspec": {
   "display_name": "Python 3",
   "language": "python",
   "name": "python3"
  },
  "language_info": {
   "codemirror_mode": {
    "name": "ipython",
    "version": 3
   },
   "file_extension": ".py",
   "mimetype": "text/x-python",
   "name": "python",
   "nbconvert_exporter": "python",
   "pygments_lexer": "ipython3",
   "version": "3.6.4"
  }
 },
 "nbformat": 4,
 "nbformat_minor": 2
}
