{
 "cells": [
  {
   "cell_type": "markdown",
   "metadata": {},
   "source": [
    "# Seção 1: Orientação a Objetos"
   ]
  },
  {
   "cell_type": "markdown",
   "metadata": {},
   "source": [
    "___"
   ]
  },
  {
   "cell_type": "markdown",
   "metadata": {},
   "source": [
    "# Tutorial"
   ]
  },
  {
   "cell_type": "markdown",
   "metadata": {},
   "source": [
    "## Tudo é Objeto em Python"
   ]
  },
  {
   "cell_type": "markdown",
   "metadata": {},
   "source": [
    "### Tipo (type) == Classe (class)"
   ]
  },
  {
   "cell_type": "code",
   "execution_count": 1,
   "metadata": {},
   "outputs": [
    {
     "data": {
      "text/plain": [
       "str"
      ]
     },
     "execution_count": 1,
     "metadata": {},
     "output_type": "execute_result"
    }
   ],
   "source": [
    "type(\"tudo é objeto em python\")"
   ]
  },
  {
   "cell_type": "code",
   "execution_count": 2,
   "metadata": {},
   "outputs": [
    {
     "data": {
      "text/plain": [
       "str"
      ]
     },
     "execution_count": 2,
     "metadata": {},
     "output_type": "execute_result"
    }
   ],
   "source": [
    "\"tudo é objeto em python\".__class__"
   ]
  },
  {
   "cell_type": "markdown",
   "metadata": {},
   "source": [
    "### Alguns tipos precisam ser mais especificados"
   ]
  },
  {
   "cell_type": "code",
   "execution_count": 3,
   "metadata": {},
   "outputs": [
    {
     "data": {
      "text/plain": [
       "int"
      ]
     },
     "execution_count": 3,
     "metadata": {},
     "output_type": "execute_result"
    }
   ],
   "source": [
    "type(123456)"
   ]
  },
  {
   "cell_type": "code",
   "execution_count": 4,
   "metadata": {},
   "outputs": [
    {
     "data": {
      "text/plain": [
       "float"
      ]
     },
     "execution_count": 4,
     "metadata": {},
     "output_type": "execute_result"
    }
   ],
   "source": [
    "type(123456.)"
   ]
  },
  {
   "cell_type": "code",
   "execution_count": 5,
   "metadata": {},
   "outputs": [
    {
     "ename": "SyntaxError",
     "evalue": "invalid syntax (<ipython-input-5-dc30173ff056>, line 4)",
     "output_type": "error",
     "traceback": [
      "\u001b[1;36m  File \u001b[1;32m\"<ipython-input-5-dc30173ff056>\"\u001b[1;36m, line \u001b[1;32m4\u001b[0m\n\u001b[1;33m    123456.__class__\u001b[0m\n\u001b[1;37m                   ^\u001b[0m\n\u001b[1;31mSyntaxError\u001b[0m\u001b[1;31m:\u001b[0m invalid syntax\n"
     ]
    }
   ],
   "source": [
    "\"\"\" vai falhar por estar associado a um tipo numperico genérico,\n",
    "    que pode indicar tanto um 'float' quanto um 'int'\n",
    "\"\"\"\n",
    "123456.__class__"
   ]
  },
  {
   "cell_type": "code",
   "execution_count": 6,
   "metadata": {},
   "outputs": [
    {
     "data": {
      "text/plain": [
       "int"
      ]
     },
     "execution_count": 6,
     "metadata": {},
     "output_type": "execute_result"
    }
   ],
   "source": [
    "\"\"\" vai funcionar porque é um tipo inteiro\n",
    "\"\"\"\n",
    "123456 .__class__"
   ]
  },
  {
   "cell_type": "code",
   "execution_count": 7,
   "metadata": {},
   "outputs": [
    {
     "data": {
      "text/plain": [
       "float"
      ]
     },
     "execution_count": 7,
     "metadata": {},
     "output_type": "execute_result"
    }
   ],
   "source": [
    "\"\"\" vai funcionar porque é um tipo float\n",
    "\"\"\"\n",
    "123456. .__class__"
   ]
  },
  {
   "cell_type": "markdown",
   "metadata": {},
   "source": [
    "### _type_ de um tipo também é classe"
   ]
  },
  {
   "cell_type": "code",
   "execution_count": 8,
   "metadata": {},
   "outputs": [
    {
     "data": {
      "text/plain": [
       "type"
      ]
     },
     "execution_count": 8,
     "metadata": {},
     "output_type": "execute_result"
    }
   ],
   "source": [
    "type(type(123456))"
   ]
  },
  {
   "cell_type": "code",
   "execution_count": 9,
   "metadata": {},
   "outputs": [
    {
     "data": {
      "text/plain": [
       "type"
      ]
     },
     "execution_count": 9,
     "metadata": {},
     "output_type": "execute_result"
    }
   ],
   "source": [
    "type(123456).__class__"
   ]
  },
  {
   "cell_type": "markdown",
   "metadata": {},
   "source": [
    "### Alguns Objetos Comuns em Python"
   ]
  },
  {
   "cell_type": "code",
   "execution_count": 10,
   "metadata": {},
   "outputs": [
    {
     "data": {
      "text/plain": [
       "NoneType"
      ]
     },
     "execution_count": 10,
     "metadata": {},
     "output_type": "execute_result"
    }
   ],
   "source": [
    "None.__class__"
   ]
  },
  {
   "cell_type": "code",
   "execution_count": 11,
   "metadata": {},
   "outputs": [
    {
     "data": {
      "text/plain": [
       "Exception"
      ]
     },
     "execution_count": 11,
     "metadata": {},
     "output_type": "execute_result"
    }
   ],
   "source": [
    "Exception().__class__"
   ]
  },
  {
   "cell_type": "code",
   "execution_count": 12,
   "metadata": {},
   "outputs": [
    {
     "data": {
      "text/plain": [
       "dict"
      ]
     },
     "execution_count": 12,
     "metadata": {},
     "output_type": "execute_result"
    }
   ],
   "source": [
    "{}.__class__"
   ]
  },
  {
   "cell_type": "code",
   "execution_count": 13,
   "metadata": {},
   "outputs": [
    {
     "data": {
      "text/plain": [
       "list"
      ]
     },
     "execution_count": 13,
     "metadata": {},
     "output_type": "execute_result"
    }
   ],
   "source": [
    "[].__class__"
   ]
  },
  {
   "cell_type": "code",
   "execution_count": 14,
   "metadata": {},
   "outputs": [
    {
     "data": {
      "text/plain": [
       "tuple"
      ]
     },
     "execution_count": 14,
     "metadata": {},
     "output_type": "execute_result"
    }
   ],
   "source": [
    "().__class__"
   ]
  },
  {
   "cell_type": "code",
   "execution_count": 15,
   "metadata": {},
   "outputs": [
    {
     "data": {
      "text/plain": [
       "builtin_function_or_method"
      ]
     },
     "execution_count": 15,
     "metadata": {},
     "output_type": "execute_result"
    }
   ],
   "source": [
    "print.__class__"
   ]
  },
  {
   "cell_type": "code",
   "execution_count": 16,
   "metadata": {},
   "outputs": [
    {
     "data": {
      "text/plain": [
       "builtin_function_or_method"
      ]
     },
     "execution_count": 16,
     "metadata": {},
     "output_type": "execute_result"
    }
   ],
   "source": [
    "max.__class__"
   ]
  },
  {
   "cell_type": "markdown",
   "metadata": {},
   "source": [
    "## Classes "
   ]
  },
  {
   "cell_type": "markdown",
   "metadata": {},
   "source": [
    "### Uma Classe de Números Complexos"
   ]
  },
  {
   "cell_type": "code",
   "execution_count": 17,
   "metadata": {
    "collapsed": true
   },
   "outputs": [],
   "source": [
    "class ComplexNumber:\n",
    "    \n",
    "    real = None\n",
    "    imag = None\n",
    "    \n",
    "    def __init__(self, real=0, imaginary=0):\n",
    "        \"\"\" Construtor \"\"\"\n",
    "        self.real = float(real)\n",
    "        self.imag = float(imaginary)\n",
    "        \n",
    "    def add(self, other):\n",
    "        \"\"\" Método para adicionar dois objetos da classe ComplexNumber \"\"\"\n",
    "        return self.__class__(\n",
    "            self.real + other.real, \n",
    "            self.imag + other.imag\n",
    "        )\n",
    "    \n",
    "    def multiply(self, other):        \n",
    "        \"\"\" Método para multiplicar dois objetos da classe ComplexNumber \"\"\"\n",
    "        real = self.real * other.real - self.imag * other.imag\n",
    "        imag = self.imag * other.real + self.real * other.imag\n",
    "        return self.__class__(real, imag)\n",
    "    \n",
    "    def __repr__(self):\n",
    "        \"\"\" Método que padroniza a representação de string do objeto \"\"\"\n",
    "        return \"{:+f}{:+f}j\".format(self.real, self.imag)\n",
    "    "
   ]
  },
  {
   "cell_type": "code",
   "execution_count": 18,
   "metadata": {},
   "outputs": [
    {
     "data": {
      "text/plain": [
       "-8.000000+6.000000j"
      ]
     },
     "execution_count": 18,
     "metadata": {},
     "output_type": "execute_result"
    }
   ],
   "source": [
    "a = ComplexNumber(1, 3)\n",
    "b = ComplexNumber(1, 3)\n",
    "a.multiply(b)"
   ]
  },
  {
   "cell_type": "code",
   "execution_count": 19,
   "metadata": {},
   "outputs": [
    {
     "data": {
      "text/plain": [
       "__main__.ComplexNumber"
      ]
     },
     "execution_count": 19,
     "metadata": {},
     "output_type": "execute_result"
    }
   ],
   "source": [
    "a.__class__"
   ]
  },
  {
   "cell_type": "markdown",
   "metadata": {},
   "source": [
    "#### Atributos\n",
    "\n",
    "Variáveis internas do objeto, acessíveis através do comando `objeto.atributo`;\n",
    "Podem ser lidas e escritas sem restrição (não há `private` em Python por convenção).\n",
    "\n",
    "No exemplo: \n",
    "- `real`\n",
    "- `imag`"
   ]
  },
  {
   "cell_type": "markdown",
   "metadata": {},
   "source": [
    "#### Métodos \n",
    "Funções internas acessíveis através do comando `objeto.método(argumentos)`;\n",
    "\n",
    "- `__init__`\n",
    "- `add`\n",
    "- `multiply`\n",
    "- `__refr__`"
   ]
  },
  {
   "cell_type": "markdown",
   "metadata": {},
   "source": [
    "####   Parâmetro _self_\n",
    "É um parâmetro obrigatório em todos os métodos padrão; serve para referenciar o objeto (já instanciado em memória) em tempo de execução. \n",
    "\n",
    "Na definição da classe, o objeto ainda não está instanciado, sendo essa a motivação (sim, é super feio...). Em outras linguagens orientadas a objeto como C++/Java, equivale à palavra reservada `this`.\n"
   ]
  },
  {
   "cell_type": "markdown",
   "metadata": {},
   "source": [
    "### Objetos de classe ComplexNumber"
   ]
  },
  {
   "cell_type": "markdown",
   "metadata": {},
   "source": [
    "#### Instanciando"
   ]
  },
  {
   "cell_type": "code",
   "execution_count": 20,
   "metadata": {
    "collapsed": true
   },
   "outputs": [],
   "source": [
    "c1 = ComplexNumber(10, -3)\n",
    "c2 = ComplexNumber(-10)\n",
    "c3 = ComplexNumber(imaginary=3, real=12)\n",
    "c4 = ComplexNumber(real=7)\n",
    "c5 = ComplexNumber(real=7, imaginary=45)"
   ]
  },
  {
   "cell_type": "markdown",
   "metadata": {},
   "source": [
    "#### Visualizando"
   ]
  },
  {
   "cell_type": "code",
   "execution_count": 21,
   "metadata": {},
   "outputs": [
    {
     "name": "stdout",
     "output_type": "stream",
     "text": [
      "+10.000000-3.000000j\n"
     ]
    }
   ],
   "source": [
    "print(c1)"
   ]
  },
  {
   "cell_type": "code",
   "execution_count": 22,
   "metadata": {},
   "outputs": [
    {
     "data": {
      "text/plain": [
       "[-10.000000+0.000000j,\n",
       " +12.000000+3.000000j,\n",
       " +7.000000+0.000000j,\n",
       " +7.000000+45.000000j]"
      ]
     },
     "execution_count": 22,
     "metadata": {},
     "output_type": "execute_result"
    }
   ],
   "source": [
    "[c2, c3, c4, c5]"
   ]
  },
  {
   "cell_type": "code",
   "execution_count": 23,
   "metadata": {},
   "outputs": [
    {
     "data": {
      "text/plain": [
       "10.0"
      ]
     },
     "execution_count": 23,
     "metadata": {},
     "output_type": "execute_result"
    }
   ],
   "source": [
    "c1.real"
   ]
  },
  {
   "cell_type": "code",
   "execution_count": 24,
   "metadata": {},
   "outputs": [
    {
     "data": {
      "text/plain": [
       "3.0"
      ]
     },
     "execution_count": 24,
     "metadata": {},
     "output_type": "execute_result"
    }
   ],
   "source": [
    "c3.imag"
   ]
  },
  {
   "cell_type": "markdown",
   "metadata": {},
   "source": [
    "#### Operações com Métodos"
   ]
  },
  {
   "cell_type": "code",
   "execution_count": 25,
   "metadata": {},
   "outputs": [
    {
     "data": {
      "text/plain": [
       "+17.000000+42.000000j"
      ]
     },
     "execution_count": 25,
     "metadata": {},
     "output_type": "execute_result"
    }
   ],
   "source": [
    "c1.add(c5)"
   ]
  },
  {
   "cell_type": "code",
   "execution_count": 26,
   "metadata": {},
   "outputs": [
    {
     "data": {
      "text/plain": [
       "+205.000000+429.000000j"
      ]
     },
     "execution_count": 26,
     "metadata": {},
     "output_type": "execute_result"
    }
   ],
   "source": [
    "c1.multiply(c5)"
   ]
  },
  {
   "cell_type": "markdown",
   "metadata": {},
   "source": [
    "### Extendendo a Classe por Herança\n",
    "\n",
    "Uma classe **derivada** de uma classe **base** irá **herdar** todos os métodos e atributos da classe base.\n",
    "\n",
    "A idéia é poder extender as funcionalidades da classe base sem precisar re-implementar todas as funções."
   ]
  },
  {
   "cell_type": "markdown",
   "metadata": {},
   "source": [
    "#### Classe Verbosa"
   ]
  },
  {
   "cell_type": "code",
   "execution_count": 27,
   "metadata": {
    "collapsed": true
   },
   "outputs": [],
   "source": [
    "class VerboseComplexNumber(ComplexNumber):\n",
    "    \n",
    "    def __init__(self, *args, **kwargs):\n",
    "        # chama o __init__ da classe base\n",
    "        super(VerboseComplexNumber, self).__init__(*args, **kwargs)\n",
    "        print(\"Instanciando o objeto '{}'\".format(self))\n",
    "        print(\"*args: \", args)\n",
    "        print(\"**kwargs: \", kwargs)\n",
    "        \n",
    "    def add(self, other):\n",
    "        print(\"Somando os números...\")        \n",
    "        return super(VerboseComplexNumber, self).add(other)\n",
    "    \n",
    "    def __repr__(self):\n",
    "        return \"{:+.2f}{:+.2f}j\".format(self.real, self.imag)\n",
    "        "
   ]
  },
  {
   "cell_type": "code",
   "execution_count": 28,
   "metadata": {},
   "outputs": [
    {
     "name": "stdout",
     "output_type": "stream",
     "text": [
      "Instanciando o objeto '+10.00-3.00j'\n",
      "*args:  (10,)\n",
      "**kwargs:  {'imaginary': -3}\n",
      "Instanciando o objeto '+10.00-3.00j'\n",
      "*args:  (10,)\n",
      "**kwargs:  {'imaginary': -3}\n"
     ]
    }
   ],
   "source": [
    "c1 = VerboseComplexNumber(10, imaginary=-3)\n",
    "c2 = VerboseComplexNumber(10, imaginary=-3)"
   ]
  },
  {
   "cell_type": "code",
   "execution_count": 29,
   "metadata": {},
   "outputs": [
    {
     "name": "stdout",
     "output_type": "stream",
     "text": [
      "Somando os números...\n",
      "Instanciando o objeto '+20.00-6.00j'\n",
      "*args:  (20.0, -6.0)\n",
      "**kwargs:  {}\n"
     ]
    },
    {
     "data": {
      "text/plain": [
       "__main__.VerboseComplexNumber"
      ]
     },
     "execution_count": 29,
     "metadata": {},
     "output_type": "execute_result"
    }
   ],
   "source": [
    "type(c1.add(c2))"
   ]
  },
  {
   "cell_type": "code",
   "execution_count": 30,
   "metadata": {},
   "outputs": [
    {
     "data": {
      "text/plain": [
       "+10.00-3.00j"
      ]
     },
     "execution_count": 30,
     "metadata": {},
     "output_type": "execute_result"
    }
   ],
   "source": [
    "c1"
   ]
  },
  {
   "cell_type": "code",
   "execution_count": 31,
   "metadata": {},
   "outputs": [
    {
     "name": "stdout",
     "output_type": "stream",
     "text": [
      "Somando os números...\n",
      "Instanciando o objeto '+17.00+42.00j'\n",
      "*args:  (17.0, 42.0)\n",
      "**kwargs:  {}\n"
     ]
    },
    {
     "data": {
      "text/plain": [
       "+17.00+42.00j"
      ]
     },
     "execution_count": 31,
     "metadata": {},
     "output_type": "execute_result"
    }
   ],
   "source": [
    "c1.add(c5)"
   ]
  },
  {
   "cell_type": "code",
   "execution_count": 32,
   "metadata": {},
   "outputs": [
    {
     "name": "stdout",
     "output_type": "stream",
     "text": [
      "Somando os números...\n",
      "Instanciando o objeto '+20.00-6.00j'\n",
      "*args:  (20.0, -6.0)\n",
      "**kwargs:  {}\n"
     ]
    },
    {
     "data": {
      "text/plain": [
       "__main__.VerboseComplexNumber"
      ]
     },
     "execution_count": 32,
     "metadata": {},
     "output_type": "execute_result"
    }
   ],
   "source": [
    "type(c1.add(c1))"
   ]
  },
  {
   "cell_type": "code",
   "execution_count": 33,
   "metadata": {},
   "outputs": [
    {
     "name": "stdout",
     "output_type": "stream",
     "text": [
      "Instanciando o objeto '+205.00+429.00j'\n",
      "*args:  (205.0, 429.0)\n",
      "**kwargs:  {}\n"
     ]
    },
    {
     "data": {
      "text/plain": [
       "+205.00+429.00j"
      ]
     },
     "execution_count": 33,
     "metadata": {},
     "output_type": "execute_result"
    }
   ],
   "source": [
    "c1.multiply(c5)"
   ]
  },
  {
   "cell_type": "markdown",
   "metadata": {},
   "source": [
    "#### Classe Verbosa com Operações Aritméticas Simplificadas"
   ]
  },
  {
   "cell_type": "code",
   "execution_count": 34,
   "metadata": {
    "collapsed": true
   },
   "outputs": [],
   "source": [
    "class EasyVerboseComplexNumber(VerboseComplexNumber):\n",
    "    \n",
    "    def __init__(self, *args, **kwargs):\n",
    "        super(EasyVerboseComplexNumber, self).__init__(*args, **kwargs)\n",
    "        print(\"Mensagem apenas para verificar que está chamando o método da classe Base\")\n",
    "    \n",
    "    def __add__(self, other):\n",
    "        return self.add(other)\n",
    "    \n",
    "    def __mul__(self, other):\n",
    "        return self.multiply(other)\n",
    "        "
   ]
  },
  {
   "cell_type": "code",
   "execution_count": 35,
   "metadata": {},
   "outputs": [
    {
     "name": "stdout",
     "output_type": "stream",
     "text": [
      "Instanciando o objeto '+10.00-3.00j'\n",
      "*args:  (10, -3)\n",
      "**kwargs:  {}\n",
      "Mensagem apenas para verificar que está chamando o método da classe Base\n"
     ]
    }
   ],
   "source": [
    "c1 = EasyVerboseComplexNumber(10, -3)"
   ]
  },
  {
   "cell_type": "code",
   "execution_count": 36,
   "metadata": {},
   "outputs": [
    {
     "data": {
      "text/plain": [
       "+10.00-3.00j"
      ]
     },
     "execution_count": 36,
     "metadata": {},
     "output_type": "execute_result"
    }
   ],
   "source": [
    "c1"
   ]
  },
  {
   "cell_type": "code",
   "execution_count": 37,
   "metadata": {},
   "outputs": [
    {
     "name": "stdout",
     "output_type": "stream",
     "text": [
      "Somando os números...\n",
      "Instanciando o objeto '+17.00+42.00j'\n",
      "*args:  (17.0, 42.0)\n",
      "**kwargs:  {}\n",
      "Mensagem apenas para verificar que está chamando o método da classe Base\n"
     ]
    },
    {
     "data": {
      "text/plain": [
       "+17.00+42.00j"
      ]
     },
     "execution_count": 37,
     "metadata": {},
     "output_type": "execute_result"
    }
   ],
   "source": [
    "c1.add(c5)"
   ]
  },
  {
   "cell_type": "code",
   "execution_count": 38,
   "metadata": {},
   "outputs": [
    {
     "name": "stdout",
     "output_type": "stream",
     "text": [
      "Somando os números...\n",
      "Instanciando o objeto '+20.00-6.00j'\n",
      "*args:  (20.0, -6.0)\n",
      "**kwargs:  {}\n",
      "Mensagem apenas para verificar que está chamando o método da classe Base\n"
     ]
    },
    {
     "data": {
      "text/plain": [
       "+20.00-6.00j"
      ]
     },
     "execution_count": 38,
     "metadata": {},
     "output_type": "execute_result"
    }
   ],
   "source": [
    "c1 + c1"
   ]
  },
  {
   "cell_type": "code",
   "execution_count": 39,
   "metadata": {},
   "outputs": [
    {
     "name": "stdout",
     "output_type": "stream",
     "text": [
      "Instanciando o objeto '+205.00+429.00j'\n",
      "*args:  (205.0, 429.0)\n",
      "**kwargs:  {}\n",
      "Mensagem apenas para verificar que está chamando o método da classe Base\n"
     ]
    },
    {
     "data": {
      "text/plain": [
       "+205.00+429.00j"
      ]
     },
     "execution_count": 39,
     "metadata": {},
     "output_type": "execute_result"
    }
   ],
   "source": [
    "c1 * c5"
   ]
  },
  {
   "cell_type": "code",
   "execution_count": 40,
   "metadata": {},
   "outputs": [
    {
     "ename": "TypeError",
     "evalue": "unsupported operand type(s) for *: 'ComplexNumber' and 'EasyVerboseComplexNumber'",
     "output_type": "error",
     "traceback": [
      "\u001b[1;31m---------------------------------------------------------------------------\u001b[0m",
      "\u001b[1;31mTypeError\u001b[0m                                 Traceback (most recent call last)",
      "\u001b[1;32m<ipython-input-40-c903afeb0249>\u001b[0m in \u001b[0;36m<module>\u001b[1;34m()\u001b[0m\n\u001b[0;32m      2\u001b[0m     \u001b[0mimplementação\u001b[0m \u001b[0mdo\u001b[0m \u001b[0mmétodo\u001b[0m \u001b[0mfácil\u001b[0m \u001b[0mnão\u001b[0m \u001b[0mexiste\u001b[0m\u001b[1;33m.\u001b[0m\u001b[1;33m\u001b[0m\u001b[0m\n\u001b[0;32m      3\u001b[0m \"\"\"\n\u001b[1;32m----> 4\u001b[1;33m \u001b[0mc5\u001b[0m \u001b[1;33m*\u001b[0m \u001b[0mc1\u001b[0m\u001b[1;33m\u001b[0m\u001b[0m\n\u001b[0m",
      "\u001b[1;31mTypeError\u001b[0m: unsupported operand type(s) for *: 'ComplexNumber' and 'EasyVerboseComplexNumber'"
     ]
    }
   ],
   "source": [
    "\"\"\" Vai falhar porque 'c5' é da classe ComplexNumber, onde a \n",
    "    implementação do método fácil não existe.\n",
    "\"\"\"\n",
    "c5 * c1"
   ]
  },
  {
   "cell_type": "markdown",
   "metadata": {},
   "source": [
    "___"
   ]
  },
  {
   "cell_type": "markdown",
   "metadata": {},
   "source": [
    "# Desafio"
   ]
  },
  {
   "cell_type": "markdown",
   "metadata": {},
   "source": [
    "## Objetivo:\n",
    "\n",
    "Construir a classe **Array**, que implementa um vetor matemático de **uma dimensão**. \n",
    "\n",
    "Essa classe ter as seguintes funcionalidades:\n",
    "\n",
    "1. Receber na **construção do objeto** os elementos de uma lista;\n",
    "2. Ter um atributo `shape` que retorna o tamanho;\n",
    "3. Ter um método `add` que retorna:\n",
    "  - None se o número de elementos não for compatível\n",
    "  - um Array com a soma escalar dos elementos um a um se as dimensões forem compatíveis\n",
    "4. Ter um método `mul` que retorna:\n",
    "  - None se o número de elementos não for compatível\n",
    "  - um Array com o produto escalar dos elementos um a um se as dimensões forem compatíveis\n",
    "5. Ter um método `dot` que retorna:\n",
    "  - None se o número de elementos não for compatível\n",
    "  - o Produto Vetorial dos dois vetores se as dimensões forem compatíveis"
   ]
  },
  {
   "cell_type": "markdown",
   "metadata": {},
   "source": [
    "## Solução:"
   ]
  },
  {
   "cell_type": "code",
   "execution_count": 41,
   "metadata": {
    "collapsed": true
   },
   "outputs": [],
   "source": [
    "class Array:\n",
    "    \n",
    "    # Método de Comparação entre dois objetos; Não editar\n",
    "    def __eq__(self, other): \n",
    "        return self.__dict__ == other.__dict__\n",
    "    \n",
    "    ### Comece AQUI a implementar ###\n",
    "    def __init__(self, lista):\n",
    "        self.data = lista\n",
    "        self.shape = (len(lista), )\n",
    "        \n",
    "    def add(self, other):\n",
    "        if self.shape != other.shape:\n",
    "            return None\n",
    "        lista = []\n",
    "        for i in range(self.shape[0]):\n",
    "            lista.append(self.data[i] + other.data[i])\n",
    "        return Array(lista)\n",
    "        \n",
    "    def mul(self, other):\n",
    "        if self.shape != other.shape:\n",
    "            return None\n",
    "        lista = []\n",
    "        for i in range(self.shape[0]):\n",
    "            lista.append(self.data[i] * other.data[i])\n",
    "        return Array(lista)\n",
    "        \n",
    "    def dot(self, other):\n",
    "        lista = self.mul(other)\n",
    "        if lista is None:\n",
    "            return None        \n",
    "        return sum(lista.data)\n",
    "    \n",
    "    ### Termine AQUI de implementar ###"
   ]
  },
  {
   "cell_type": "markdown",
   "metadata": {},
   "source": [
    "## Avaliação da Solução"
   ]
  },
  {
   "cell_type": "code",
   "execution_count": 42,
   "metadata": {
    "collapsed": true
   },
   "outputs": [],
   "source": [
    "a1 = Array([1, 0, -1])\n",
    "a2 = Array([-1, 5, 1])\n",
    "a3 = Array([0, 1])"
   ]
  },
  {
   "cell_type": "code",
   "execution_count": 43,
   "metadata": {
    "collapsed": true
   },
   "outputs": [],
   "source": [
    "assert a1.shape == a2.shape == (3,)"
   ]
  },
  {
   "cell_type": "code",
   "execution_count": 44,
   "metadata": {
    "collapsed": true
   },
   "outputs": [],
   "source": [
    "assert a3.shape == (2,), \"Erro de shape\""
   ]
  },
  {
   "cell_type": "code",
   "execution_count": 45,
   "metadata": {
    "collapsed": true
   },
   "outputs": [],
   "source": [
    "assert a1.add(a2) == Array([0, 5, 0])"
   ]
  },
  {
   "cell_type": "code",
   "execution_count": 46,
   "metadata": {
    "collapsed": true
   },
   "outputs": [],
   "source": [
    "assert a1.add(a3) == None"
   ]
  },
  {
   "cell_type": "code",
   "execution_count": 47,
   "metadata": {
    "collapsed": true
   },
   "outputs": [],
   "source": [
    "assert a1.mul(a2) == Array([-1, 0, -1])"
   ]
  },
  {
   "cell_type": "code",
   "execution_count": 48,
   "metadata": {
    "collapsed": true
   },
   "outputs": [],
   "source": [
    "assert a2.mul(a3) == None"
   ]
  },
  {
   "cell_type": "code",
   "execution_count": 49,
   "metadata": {
    "collapsed": true
   },
   "outputs": [],
   "source": [
    "assert a2.dot(a1) == -2"
   ]
  },
  {
   "cell_type": "code",
   "execution_count": 50,
   "metadata": {
    "collapsed": true
   },
   "outputs": [],
   "source": [
    "assert a2.dot(a3) == None"
   ]
  }
 ],
 "metadata": {
  "kernelspec": {
   "display_name": "Python 3",
   "language": "python",
   "name": "python3"
  },
  "language_info": {
   "codemirror_mode": {
    "name": "ipython",
    "version": 3
   },
   "file_extension": ".py",
   "mimetype": "text/x-python",
   "name": "python",
   "nbconvert_exporter": "python",
   "pygments_lexer": "ipython3",
   "version": "3.6.2"
  },
  "toc": {
   "nav_menu": {},
   "number_sections": true,
   "sideBar": true,
   "skip_h1_title": false,
   "toc_cell": false,
   "toc_position": {},
   "toc_section_display": "block",
   "toc_window_display": false
  }
 },
 "nbformat": 4,
 "nbformat_minor": 2
}
