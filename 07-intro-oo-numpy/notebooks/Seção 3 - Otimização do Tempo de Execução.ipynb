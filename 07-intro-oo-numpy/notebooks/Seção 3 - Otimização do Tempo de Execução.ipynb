{
 "cells": [
  {
   "cell_type": "markdown",
   "metadata": {},
   "source": [
    "# Seção 3: Otimização do Tempo de Execução"
   ]
  },
  {
   "cell_type": "markdown",
   "metadata": {},
   "source": [
    "___"
   ]
  },
  {
   "cell_type": "markdown",
   "metadata": {},
   "source": [
    "# Imports  Para a Aula"
   ]
  },
  {
   "cell_type": "code",
   "execution_count": 1,
   "metadata": {
    "collapsed": true
   },
   "outputs": [],
   "source": [
    "import numpy as np"
   ]
  },
  {
   "cell_type": "code",
   "execution_count": 2,
   "metadata": {
    "collapsed": true
   },
   "outputs": [],
   "source": [
    "from sklearn.datasets import load_iris\n",
    "from sklearn.tree import DecisionTreeClassifier"
   ]
  },
  {
   "cell_type": "code",
   "execution_count": 3,
   "metadata": {
    "collapsed": true
   },
   "outputs": [],
   "source": [
    "from tree import BinaryTree, extract_tree_from_model, print_tree"
   ]
  },
  {
   "cell_type": "markdown",
   "metadata": {},
   "source": [
    "___"
   ]
  },
  {
   "cell_type": "markdown",
   "metadata": {},
   "source": [
    "# Tutorial"
   ]
  },
  {
   "cell_type": "markdown",
   "metadata": {},
   "source": [
    "## Motivação: Contagem Simples"
   ]
  },
  {
   "cell_type": "markdown",
   "metadata": {},
   "source": [
    "### Criando dados aleatórios"
   ]
  },
  {
   "cell_type": "code",
   "execution_count": 4,
   "metadata": {},
   "outputs": [
    {
     "data": {
      "text/plain": [
       "((10000000,), array([34, 28, 22, 17, 14, 25, 29, 23, 30, 10]))"
      ]
     },
     "execution_count": 4,
     "metadata": {},
     "output_type": "execute_result"
    }
   ],
   "source": [
    "np.random.seed(123456789)\n",
    "X = np.random.randint(10, 35, int(1e7))\n",
    "X.shape, X[:10]"
   ]
  },
  {
   "cell_type": "markdown",
   "metadata": {},
   "source": [
    "### Função \"Mágica\" _%time_"
   ]
  },
  {
   "cell_type": "code",
   "execution_count": 5,
   "metadata": {},
   "outputs": [
    {
     "name": "stdout",
     "output_type": "stream",
     "text": [
      "Wall time: 3.23 s\n"
     ]
    }
   ],
   "source": [
    "%%time\n",
    "count1 = 0\n",
    "for x in X:\n",
    "    if x > 20:\n",
    "        count1 += 1"
   ]
  },
  {
   "cell_type": "code",
   "execution_count": 6,
   "metadata": {},
   "outputs": [
    {
     "name": "stdout",
     "output_type": "stream",
     "text": [
      "Wall time: 29.1 ms\n"
     ]
    }
   ],
   "source": [
    "%%time\n",
    "count2 = (X > 20).sum()"
   ]
  },
  {
   "cell_type": "code",
   "execution_count": 7,
   "metadata": {
    "collapsed": true
   },
   "outputs": [],
   "source": [
    "assert count1 == count2"
   ]
  },
  {
   "cell_type": "markdown",
   "metadata": {},
   "source": [
    "### Função \"Mágica\" _%timeit_"
   ]
  },
  {
   "cell_type": "code",
   "execution_count": 8,
   "metadata": {},
   "outputs": [
    {
     "name": "stdout",
     "output_type": "stream",
     "text": [
      "2.03 s ± 199 ms per loop (mean ± std. dev. of 7 runs, 1 loop each)\n"
     ]
    }
   ],
   "source": [
    "%%timeit\n",
    "count1 = 0\n",
    "for x in X:\n",
    "    if x > 20:\n",
    "        count1 += 1"
   ]
  },
  {
   "cell_type": "code",
   "execution_count": 9,
   "metadata": {},
   "outputs": [
    {
     "name": "stdout",
     "output_type": "stream",
     "text": [
      "42 ms ± 5.47 ms per loop (mean ± std. dev. of 7 runs, 10 loops each)\n"
     ]
    }
   ],
   "source": [
    "%%timeit\n",
    "count2 = (X > 20).sum()"
   ]
  },
  {
   "cell_type": "code",
   "execution_count": 10,
   "metadata": {
    "collapsed": true
   },
   "outputs": [],
   "source": [
    "assert count1 == count2"
   ]
  },
  {
   "cell_type": "markdown",
   "metadata": {},
   "source": [
    "## Motivação: Transformação Linear"
   ]
  },
  {
   "cell_type": "markdown",
   "metadata": {},
   "source": [
    "### Funções Auxiliares"
   ]
  },
  {
   "cell_type": "code",
   "execution_count": 11,
   "metadata": {
    "collapsed": true
   },
   "outputs": [],
   "source": [
    "def matrix_dot_product(m1, m2):    \n",
    "    assert (m1.shape[1] == m2.shape[0])\n",
    "    P, Q = m1.shape\n",
    "    Q, R = m2.shape\n",
    "    ans = np.zeros((P, R))\n",
    "    for p in range(P):\n",
    "        for r in range(R):\n",
    "            for q in range(Q):\n",
    "                ans[p, r] += m1[p, q] * m2[q, r]\n",
    "    return ans"
   ]
  },
  {
   "cell_type": "code",
   "execution_count": 12,
   "metadata": {
    "collapsed": true
   },
   "outputs": [],
   "source": [
    "def matrix_add(m1, m2):\n",
    "    assert (m1.shape == m2.shape)\n",
    "    P, Q = m1.shape\n",
    "    ans = np.zeros((P, Q))\n",
    "    for p in range(P):\n",
    "        for q in range(Q):\n",
    "            ans[p, q] += m1[p, q] + m2[p, q]\n",
    "    return ans"
   ]
  },
  {
   "cell_type": "markdown",
   "metadata": {},
   "source": [
    "### Criando dados aleatórios"
   ]
  },
  {
   "cell_type": "code",
   "execution_count": 13,
   "metadata": {},
   "outputs": [
    {
     "data": {
      "text/plain": [
       "((500, 50), (50, 1), (500, 1))"
      ]
     },
     "execution_count": 13,
     "metadata": {},
     "output_type": "execute_result"
    }
   ],
   "source": [
    "np.random.seed(123456789)\n",
    "P = 500\n",
    "Q = 50\n",
    "R = 1\n",
    "A = np.random.randint(-10, 35, (P, Q))\n",
    "X = np.random.randn(Q, R) * 10 + 3\n",
    "B = np.random.randn(P, R) * 3 + 10\n",
    "A.shape, X.shape, B.shape"
   ]
  },
  {
   "cell_type": "markdown",
   "metadata": {},
   "source": [
    "### Função \"Mágica\" _%time_"
   ]
  },
  {
   "cell_type": "code",
   "execution_count": 14,
   "metadata": {},
   "outputs": [
    {
     "name": "stdout",
     "output_type": "stream",
     "text": [
      "Wall time: 143 ms\n"
     ]
    }
   ],
   "source": [
    "%%time\n",
    "Y1 = matrix_add(matrix_dot_product(A, X), B)"
   ]
  },
  {
   "cell_type": "code",
   "execution_count": 15,
   "metadata": {},
   "outputs": [
    {
     "name": "stdout",
     "output_type": "stream",
     "text": [
      "Wall time: 67.2 ms\n"
     ]
    }
   ],
   "source": [
    "%%time\n",
    "Y2 = np.add(np.dot(A, X), B)"
   ]
  },
  {
   "cell_type": "code",
   "execution_count": 16,
   "metadata": {
    "collapsed": true
   },
   "outputs": [],
   "source": [
    "assert sum((Y1 - Y2) ** 2) ** .5 < 1e-10"
   ]
  },
  {
   "cell_type": "markdown",
   "metadata": {},
   "source": [
    "### Função \"Mágica\" _%timeit_"
   ]
  },
  {
   "cell_type": "code",
   "execution_count": 17,
   "metadata": {},
   "outputs": [
    {
     "name": "stdout",
     "output_type": "stream",
     "text": [
      "69.2 ms ± 3.21 ms per loop (mean ± std. dev. of 7 runs, 10 loops each)\n"
     ]
    }
   ],
   "source": [
    "%%timeit\n",
    "Y1 = matrix_add(matrix_dot_product(A, X), B)"
   ]
  },
  {
   "cell_type": "code",
   "execution_count": 18,
   "metadata": {},
   "outputs": [
    {
     "name": "stdout",
     "output_type": "stream",
     "text": [
      "28.7 µs ± 803 ns per loop (mean ± std. dev. of 7 runs, 10000 loops each)\n"
     ]
    }
   ],
   "source": [
    "%%timeit\n",
    "Y2 = np.add(np.dot(A, X), B)"
   ]
  },
  {
   "cell_type": "code",
   "execution_count": 19,
   "metadata": {
    "collapsed": true
   },
   "outputs": [],
   "source": [
    "assert sum((Y1 - Y2) ** 2) ** .5 < 1e-10"
   ]
  },
  {
   "cell_type": "markdown",
   "metadata": {},
   "source": [
    "___"
   ]
  },
  {
   "cell_type": "markdown",
   "metadata": {},
   "source": [
    "# Desafio"
   ]
  },
  {
   "cell_type": "markdown",
   "metadata": {},
   "source": [
    "## Objetivo:\n",
    "\n",
    "Construir uma classe de Árvore de Decisão derivada de uma classe de Árvore Binária, disponibilizada aos alunos no arquivo ``tree.py`` deste módulo. \n",
    "\n",
    "Não é necessário implementar o **treinamento** (ou métoro **fit**) da Árvode de Decisão; tampouco o método de predição de probabilidade (**predict_proba**). Todos os parâmetros da Árvore de Decisão serão extraídos de um modelo de `DecisionTreeClassifier` treinado com o dataset `Iris`.\n",
    "\n",
    "Essa classe deve extender a classe disponibilizada `BinaryTree`. Cada instância dessa classe representa **apenas um nó** de uma árvore binária; este nó está conectado aos outros nós através dos seguintes atributos:\n",
    "- `parent`\n",
    "- `left_child`\n",
    "- `right_child`\n",
    "\n",
    "A classe `BinaryTree` não possui um método `predict`; este deve ser implementado para funcionar da seguinte forma:\n",
    "1. Se for um **nó folha**, retorna a predição para o **nó pai**;\n",
    "2. Se for um **nó de decisão**, deve processar a entrada `X` e chamar o método `predict` do próximo nó filho.\n",
    "\n",
    "O método `predict` deve receber um array `X` contendo uma massa de dados sobre os quais serão feitas as predições, que serão retornadas no array `y_pred`."
   ]
  },
  {
   "cell_type": "markdown",
   "metadata": {},
   "source": [
    "## Árvore de Decisão"
   ]
  },
  {
   "cell_type": "markdown",
   "metadata": {},
   "source": [
    "### Treinando uma Árvore de Decisão para o Problema de Classificação Iris\n",
    "\n",
    "Referências:\n",
    "- [Problema de Classificação: Iris](https://en.wikipedia.org/wiki/Iris_flower_data_set)\n",
    "- [Árvore de Decisão para Classificação](http://scikit-learn.org/stable/modules/generated/sklearn.tree.DecisionTreeClassifier.html)"
   ]
  },
  {
   "cell_type": "code",
   "execution_count": 20,
   "metadata": {
    "collapsed": true
   },
   "outputs": [],
   "source": [
    "iris = load_iris()"
   ]
  },
  {
   "cell_type": "code",
   "execution_count": 21,
   "metadata": {
    "collapsed": true
   },
   "outputs": [],
   "source": [
    "model = DecisionTreeClassifier(max_depth=3, random_state=123456789)"
   ]
  },
  {
   "cell_type": "code",
   "execution_count": 22,
   "metadata": {},
   "outputs": [
    {
     "data": {
      "text/plain": [
       "DecisionTreeClassifier(class_weight=None, criterion='gini', max_depth=3,\n",
       "            max_features=None, max_leaf_nodes=None,\n",
       "            min_impurity_decrease=0.0, min_impurity_split=None,\n",
       "            min_samples_leaf=1, min_samples_split=2,\n",
       "            min_weight_fraction_leaf=0.0, presort=False,\n",
       "            random_state=123456789, splitter='best')"
      ]
     },
     "execution_count": 22,
     "metadata": {},
     "output_type": "execute_result"
    }
   ],
   "source": [
    "model.fit(X=iris['data'], y=iris['target'])"
   ]
  },
  {
   "cell_type": "markdown",
   "metadata": {},
   "source": [
    "### Testando a Predição da Árvore de Decisão Treinada"
   ]
  },
  {
   "cell_type": "code",
   "execution_count": 23,
   "metadata": {
    "collapsed": true
   },
   "outputs": [],
   "source": [
    "\"\"\" predições \"\"\"\n",
    "y_pred = model.predict(iris['data'])"
   ]
  },
  {
   "cell_type": "code",
   "execution_count": 24,
   "metadata": {
    "collapsed": true
   },
   "outputs": [],
   "source": [
    "\"\"\" targets / tabela verdade \"\"\"\n",
    "y_true = iris['target']"
   ]
  },
  {
   "cell_type": "code",
   "execution_count": 25,
   "metadata": {},
   "outputs": [
    {
     "data": {
      "text/plain": [
       "0.97333333333333338"
      ]
     },
     "execution_count": 25,
     "metadata": {},
     "output_type": "execute_result"
    }
   ],
   "source": [
    "\"\"\" Acurácia do Modelo \"\"\"\n",
    "(y_pred == y_true).mean()"
   ]
  },
  {
   "cell_type": "markdown",
   "metadata": {},
   "source": [
    "### Parâmetros da Árvore de Decisão Treinada:"
   ]
  },
  {
   "cell_type": "code",
   "execution_count": 26,
   "metadata": {},
   "outputs": [
    {
     "name": "stdout",
     "output_type": "stream",
     "text": [
      "ID: 0 - Value: {'feature': 3, 'threshold': 0.80000001192092896} - Root Node - Children (2): {'L': 1, 'R': 2}\n",
      "\tID: 1 - Value: {'probability': 1.0, 'decision': 0} - Parent: 0 - Leaf Node\n",
      "\tID: 2 - Value: {'feature': 3, 'threshold': 1.75} - Parent: 0 - Children (2): {'L': 3, 'R': 6}\n",
      "\t\tID: 3 - Value: {'feature': 2, 'threshold': 4.9499998092651367} - Parent: 2 - Children (2): {'L': 4, 'R': 5}\n",
      "\t\t\tID: 4 - Value: {'probability': 0.97916666666666663, 'decision': 1} - Parent: 3 - Leaf Node\n",
      "\t\t\tID: 5 - Value: {'probability': 0.66666666666666663, 'decision': 2} - Parent: 3 - Leaf Node\n",
      "\t\tID: 6 - Value: {'feature': 2, 'threshold': 4.8500003814697266} - Parent: 2 - Children (2): {'L': 7, 'R': 8}\n",
      "\t\t\tID: 7 - Value: {'probability': 0.66666666666666663, 'decision': 2} - Parent: 6 - Leaf Node\n",
      "\t\t\tID: 8 - Value: {'probability': 1.0, 'decision': 2} - Parent: 6 - Leaf Node\n"
     ]
    }
   ],
   "source": [
    "tree = extract_tree_from_model(model, BinaryTree)\n",
    "print_tree(tree)"
   ]
  },
  {
   "cell_type": "markdown",
   "metadata": {},
   "source": [
    "#### Nota Importante:\n",
    "\n",
    "Algumas definições deveriam ter sido dadas para melhor compreensão de como fazer a solução. São elas:\n",
    "\n",
    "1. Um nó é um **nó folha** caso `self.value` seja um dicionário contendo o campo `decision`; o valor contido é a decisão de a qual classe pertence X.\n",
    "2. O outro tipo de nó, que decide para onde X deve ir, contém 2 valores em `self.value`:\n",
    "    - `feature`: qual coluna de X deve ser testada;\n",
    "    - `threshold`: valor para o qual:\n",
    "        - 1) `X[feature] <= threshold`, então deve-se seguir para a sub-àrvore da esquerda\n",
    "        - 2) `X[feature] > threshold`, então deve-se seguir para a sub-àrvore da direita\n",
    "        \n",
    "Em um nó, se este for **folha**, deve-se retornar `y`, um `np.array` de mesma dimensão que `X.shape[0]` contendo como valor a `decisão`.\n",
    "\n",
    "Se o nó for do outro tipo, deve-se testar cada elemento de `X` para enviar para a sub-árvore esquerda ou direita; o valor retornado por cada `X` deve ser colocado em `y` na ordem correta."
   ]
  },
  {
   "cell_type": "markdown",
   "metadata": {},
   "source": [
    "## Parte 1: Implementar a solução usando apenas loops"
   ]
  },
  {
   "cell_type": "markdown",
   "metadata": {},
   "source": [
    "### Solução:"
   ]
  },
  {
   "cell_type": "code",
   "execution_count": 27,
   "metadata": {
    "collapsed": true
   },
   "outputs": [],
   "source": [
    "class LoopDecisionTree(BinaryTree):\n",
    "    \n",
    "    def __init__(self, threshold=None, feature=None, decision=None, *args, **kwargs):\n",
    "        super(LoopDecisionTree, self).__init__(*args, **kwargs)\n",
    "        if decision is None:\n",
    "            if None in [threshold, feature]:\n",
    "                raise Exception(\"Decision Tree (init): missing 'threshold' or 'feature' in non-leaf node.\")    \n",
    "            self.value = \"X[{}] <= {}\".format(feature, threshold)\n",
    "        else:\n",
    "            self.value = \"Decision: {}\".format(decision)\n",
    "        self.decision = decision\n",
    "        self.threshold = threshold\n",
    "        self.feature = feature\n",
    "        \n",
    "    \n",
    "    def predict(self, X):   \n",
    "        if self.is_leaf():\n",
    "            return np.array([self.decision] * len(X))\n",
    "        y = []\n",
    "        for x in X:\n",
    "            if x[self.feature] <= self.threshold:\n",
    "                y.append(self.left_child.predict([x])[0])\n",
    "            else:\n",
    "                y.append(self.right_child.predict([x])[0])\n",
    "        return np.array(y)\n",
    "            "
   ]
  },
  {
   "cell_type": "markdown",
   "metadata": {},
   "source": [
    "### Avaliação da Solução"
   ]
  },
  {
   "cell_type": "code",
   "execution_count": 28,
   "metadata": {},
   "outputs": [
    {
     "name": "stdout",
     "output_type": "stream",
     "text": [
      "ID: 0 - Value: X[3] <= 0.800000011920929 - Root Node - Children (2): {'L': 1, 'R': 2}\n",
      "\tID: 1 - Value: Decision: 0 - Parent: 0 - Leaf Node\n",
      "\tID: 2 - Value: X[3] <= 1.75 - Parent: 0 - Children (2): {'L': 3, 'R': 6}\n",
      "\t\tID: 3 - Value: X[2] <= 4.949999809265137 - Parent: 2 - Children (2): {'L': 4, 'R': 5}\n",
      "\t\t\tID: 4 - Value: Decision: 1 - Parent: 3 - Leaf Node\n",
      "\t\t\tID: 5 - Value: Decision: 2 - Parent: 3 - Leaf Node\n",
      "\t\tID: 6 - Value: X[2] <= 4.850000381469727 - Parent: 2 - Children (2): {'L': 7, 'R': 8}\n",
      "\t\t\tID: 7 - Value: Decision: 2 - Parent: 6 - Leaf Node\n",
      "\t\t\tID: 8 - Value: Decision: 2 - Parent: 6 - Leaf Node\n"
     ]
    }
   ],
   "source": [
    "\"\"\" Construindo a árvore de decisão \"\"\"\n",
    "# classe de Árvore de Decisão\n",
    "DTClass = LoopDecisionTree\n",
    "\n",
    "# Criando os Nós da Árvore\n",
    "n0 = DTClass(id=0, feature=3, threshold=0.80000001192092896)\n",
    "n1 = DTClass(id=1, decision=0)\n",
    "n2 = DTClass(id=2, feature=3, threshold=1.75)\n",
    "n3 = DTClass(id=3, feature=2, threshold=4.9499998092651367)\n",
    "n4 = DTClass(id=4, decision=1)\n",
    "n5 = DTClass(id=5, decision=2)\n",
    "n6 = DTClass(id=6, feature=2, threshold=4.8500003814697266)\n",
    "n7 = DTClass(id=7, decision=2)\n",
    "n8 = DTClass(id=8, decision=2)\n",
    "\n",
    "# Construindo a Árvore\n",
    "n0.append_left_child(n1)\n",
    "n0.append_right_child(n2)\n",
    "n2.append_left_child(n3)\n",
    "n2.append_right_child(n6)\n",
    "n3.append_left_child(n4)\n",
    "n3.append_right_child(n5)\n",
    "n6.append_left_child(n7)\n",
    "n6.append_right_child(n8)\n",
    "\n",
    "loop_decision_tree = n0\n",
    "\n",
    "print_tree(loop_decision_tree)"
   ]
  },
  {
   "cell_type": "code",
   "execution_count": 29,
   "metadata": {},
   "outputs": [],
   "source": [
    "assert (model.predict(iris['data']) == loop_decision_tree.predict(iris['data'])).all()"
   ]
  },
  {
   "cell_type": "markdown",
   "metadata": {},
   "source": [
    "## Parte 2: Implementar a solução usando _numpy_"
   ]
  },
  {
   "cell_type": "markdown",
   "metadata": {},
   "source": [
    "### Solução:"
   ]
  },
  {
   "cell_type": "code",
   "execution_count": 30,
   "metadata": {
    "collapsed": true
   },
   "outputs": [],
   "source": [
    "\"\"\" Escreva a a Solução Aqui \"\"\"\n",
    "class VectorDecisionTree(BinaryTree):    \n",
    "        \n",
    "    def __init__(self, threshold=None, feature=None, decision=None, *args, **kwargs):\n",
    "        super(VectorDecisionTree, self).__init__(*args, **kwargs)\n",
    "        if decision is None:\n",
    "            if None in [threshold, feature]:\n",
    "                raise Exception(\"Decision Tree (init): missing 'threshold' or 'feature' in non-leaf node.\")    \n",
    "            self.value = \"X[{}] <= {}\".format(feature, threshold)\n",
    "        else:\n",
    "            self.value = \"Decision: {}\".format(decision)\n",
    "        self.decision = decision\n",
    "        self.threshold = threshold\n",
    "        self.feature = feature\n",
    "        \n",
    "    \n",
    "    def predict(self, X):   \n",
    "        if self.is_leaf():\n",
    "            return np.ones(X.shape[0]) * self.decision\n",
    "        y = np.zeros(X.shape[0])\n",
    "        index = X[:, self.feature] <= self.threshold\n",
    "        y[index] = self.left_child.predict(X[index])\n",
    "        y[~index] = self.right_child.predict(X[~index])\n",
    "        return y"
   ]
  },
  {
   "cell_type": "markdown",
   "metadata": {},
   "source": [
    "### Avaliação da Solução"
   ]
  },
  {
   "cell_type": "code",
   "execution_count": 31,
   "metadata": {},
   "outputs": [
    {
     "name": "stdout",
     "output_type": "stream",
     "text": [
      "ID: 0 - Value: X[3] <= 0.800000011920929 - Root Node - Children (2): {'L': 1, 'R': 2}\n",
      "\tID: 1 - Value: Decision: 0 - Parent: 0 - Leaf Node\n",
      "\tID: 2 - Value: X[3] <= 1.75 - Parent: 0 - Children (2): {'L': 3, 'R': 6}\n",
      "\t\tID: 3 - Value: X[2] <= 4.949999809265137 - Parent: 2 - Children (2): {'L': 4, 'R': 5}\n",
      "\t\t\tID: 4 - Value: Decision: 1 - Parent: 3 - Leaf Node\n",
      "\t\t\tID: 5 - Value: Decision: 2 - Parent: 3 - Leaf Node\n",
      "\t\tID: 6 - Value: X[2] <= 4.850000381469727 - Parent: 2 - Children (2): {'L': 7, 'R': 8}\n",
      "\t\t\tID: 7 - Value: Decision: 2 - Parent: 6 - Leaf Node\n",
      "\t\t\tID: 8 - Value: Decision: 2 - Parent: 6 - Leaf Node\n"
     ]
    }
   ],
   "source": [
    "\"\"\" Construindo a árvore de decisão \"\"\"\n",
    "# classe de Árvore de Decisão\n",
    "DTClass = VectorDecisionTree\n",
    "\n",
    "# Criando os Nós da Árvore\n",
    "n0 = DTClass(id=0, feature=3, threshold=0.80000001192092896)\n",
    "n1 = DTClass(id=1, decision=0)\n",
    "n2 = DTClass(id=2, feature=3, threshold=1.75)\n",
    "n3 = DTClass(id=3, feature=2, threshold=4.9499998092651367)\n",
    "n4 = DTClass(id=4, decision=1)\n",
    "n5 = DTClass(id=5, decision=2)\n",
    "n6 = DTClass(id=6, feature=2, threshold=4.8500003814697266)\n",
    "n7 = DTClass(id=7, decision=2)\n",
    "n8 = DTClass(id=8, decision=2)\n",
    "\n",
    "# Construindo a Árvore\n",
    "n0.append_left_child(n1)\n",
    "n0.append_right_child(n2)\n",
    "n2.append_left_child(n3)\n",
    "n2.append_right_child(n6)\n",
    "n3.append_left_child(n4)\n",
    "n3.append_right_child(n5)\n",
    "n6.append_left_child(n7)\n",
    "n6.append_right_child(n8)\n",
    "\n",
    "vector_decision_tree = n0\n",
    "\n",
    "print_tree(vector_decision_tree)"
   ]
  },
  {
   "cell_type": "code",
   "execution_count": 32,
   "metadata": {
    "collapsed": true
   },
   "outputs": [],
   "source": [
    "assert (model.predict(iris['data']) == vector_decision_tree.predict(iris['data'])).all()"
   ]
  },
  {
   "cell_type": "markdown",
   "metadata": {},
   "source": [
    "## Parte 3: Avaliar a diferença de velocidade"
   ]
  },
  {
   "cell_type": "markdown",
   "metadata": {},
   "source": [
    "### Solução:"
   ]
  },
  {
   "cell_type": "code",
   "execution_count": 33,
   "metadata": {},
   "outputs": [
    {
     "name": "stdout",
     "output_type": "stream",
     "text": [
      "859 µs ± 111 µs per loop (mean ± std. dev. of 7 runs, 1000 loops each)\n"
     ]
    }
   ],
   "source": [
    "%%timeit\n",
    "loop_decision_tree.predict(iris['data'])"
   ]
  },
  {
   "cell_type": "code",
   "execution_count": 34,
   "metadata": {},
   "outputs": [
    {
     "name": "stdout",
     "output_type": "stream",
     "text": [
      "72.7 µs ± 1.18 µs per loop (mean ± std. dev. of 7 runs, 10000 loops each)\n"
     ]
    }
   ],
   "source": [
    "%%timeit\n",
    "vector_decision_tree.predict(iris['data'])"
   ]
  }
 ],
 "metadata": {
  "kernelspec": {
   "display_name": "Python 3",
   "language": "python",
   "name": "python3"
  },
  "language_info": {
   "codemirror_mode": {
    "name": "ipython",
    "version": 3
   },
   "file_extension": ".py",
   "mimetype": "text/x-python",
   "name": "python",
   "nbconvert_exporter": "python",
   "pygments_lexer": "ipython3",
   "version": "3.6.2"
  },
  "toc": {
   "nav_menu": {},
   "number_sections": true,
   "sideBar": true,
   "skip_h1_title": false,
   "toc_cell": false,
   "toc_position": {},
   "toc_section_display": "block",
   "toc_window_display": false
  }
 },
 "nbformat": 4,
 "nbformat_minor": 2
}
