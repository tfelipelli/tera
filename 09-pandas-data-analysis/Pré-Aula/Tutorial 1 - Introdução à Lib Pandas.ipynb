{
 "cells": [
  {
   "cell_type": "markdown",
   "metadata": {},
   "source": [
    "# Tutorial 1 - Introdução à Lib Pandas"
   ]
  },
  {
   "cell_type": "markdown",
   "metadata": {},
   "source": [
    "___"
   ]
  },
  {
   "cell_type": "markdown",
   "metadata": {},
   "source": [
    "# Imports para a Aula"
   ]
  },
  {
   "cell_type": "code",
   "execution_count": null,
   "metadata": {},
   "outputs": [],
   "source": [
    "import numpy as np\n",
    "import pandas as pd"
   ]
  },
  {
   "cell_type": "markdown",
   "metadata": {},
   "source": [
    "# Construção"
   ]
  },
  {
   "cell_type": "markdown",
   "metadata": {},
   "source": [
    "## Series"
   ]
  },
  {
   "cell_type": "code",
   "execution_count": null,
   "metadata": {},
   "outputs": [],
   "source": [
    "\"\"\" Construtor padrão \"\"\"\n",
    "pd.Series(\n",
    "    name=\"Compras\",\n",
    "    index=[\"Leite\", \"Ovos\", \"Carne\", \"Arroz\", \"Feijão\"],  \n",
    "    data=[2, 12, 1, 5, 2]\n",
    ")"
   ]
  },
  {
   "cell_type": "code",
   "execution_count": null,
   "metadata": {},
   "outputs": [],
   "source": [
    "\"\"\" Construtor padrão: dados desconhecidos \"\"\"\n",
    "pd.Series(\n",
    "    name=\"Compras\",\n",
    "    index=[\"Leite\", \"Ovos\", \"Carne\", \"Arroz\", \"Feijão\"]\n",
    ")"
   ]
  },
  {
   "cell_type": "code",
   "execution_count": null,
   "metadata": {},
   "outputs": [],
   "source": [
    "\"\"\" Construtor padrão: valor padrão \"\"\"\n",
    "pd.Series(\n",
    "    name=\"Compras\",\n",
    "    index=[\"Leite\", \"Ovos\", \"Carne\", \"Arroz\", \"Feijão\"],\n",
    "    data=\"fill here\"\n",
    ")"
   ]
  },
  {
   "cell_type": "code",
   "execution_count": null,
   "metadata": {},
   "outputs": [],
   "source": [
    "\"\"\" Recebendo um Dicionário\"\"\"\n",
    "s = pd.Series({\"Leite\": 2, \"Ovos\": 12, \"Carne\": 1, \"Arroz\": 5, \"Feijão\": 2})\n",
    "s.name = \"Compras\"\n",
    "s"
   ]
  },
  {
   "cell_type": "code",
   "execution_count": null,
   "metadata": {},
   "outputs": [],
   "source": [
    "\"\"\" Recebendo uma Lista\"\"\"\n",
    "s = pd.Series([2, 12, 1, 5, 2])\n",
    "s"
   ]
  },
  {
   "cell_type": "code",
   "execution_count": null,
   "metadata": {},
   "outputs": [],
   "source": [
    "\"\"\" editando parâmetros\"\"\"\n",
    "s.name=\"Compras\"\n",
    "s.index=[\"Leite\", \"Ovos\", \"Carne\", \"Arroz\", \"Feijão\"]\n",
    "s"
   ]
  },
  {
   "cell_type": "code",
   "execution_count": null,
   "metadata": {},
   "outputs": [],
   "source": [
    "\"\"\" Ordenação: Índices \"\"\"\n",
    "s.sort_index()"
   ]
  },
  {
   "cell_type": "code",
   "execution_count": null,
   "metadata": {},
   "outputs": [],
   "source": [
    "\"\"\" Ordenação: Dados \"\"\"\n",
    "s.sort_values(ascending=False)"
   ]
  },
  {
   "cell_type": "markdown",
   "metadata": {},
   "source": [
    "## DataFrame"
   ]
  },
  {
   "cell_type": "code",
   "execution_count": null,
   "metadata": {},
   "outputs": [],
   "source": [
    "\"\"\" Construtor padrão \"\"\"\n",
    "pd.DataFrame(\n",
    "    index=[\"Leite\", \"Ovos\", \"Carne\", \"Arroz\", \"Feijão\"],\n",
    "    columns=[\"quantidade\", \"unidade\"],\n",
    "    data=[\n",
    "        [ 2,  \"L\"],\n",
    "        [12, \"Ud\"], \n",
    "        [ 1, \"Kg\"],\n",
    "        [ 5, \"Kg\"], \n",
    "        [ 2, \"Kg\"]\n",
    "    ]\n",
    ")"
   ]
  },
  {
   "cell_type": "code",
   "execution_count": null,
   "metadata": {},
   "outputs": [],
   "source": [
    "\"\"\" Construtor padrão: dados desconhecidos \"\"\"\n",
    "pd.DataFrame(\n",
    "    index=[\"Leite\", \"Ovos\", \"Carne\", \"Arroz\", \"Feijão\"],\n",
    "    columns=[\"quantidade\", \"unidade\"]\n",
    ")"
   ]
  },
  {
   "cell_type": "code",
   "execution_count": null,
   "metadata": {},
   "outputs": [],
   "source": [
    "\"\"\" Construtor padrão: valor padrão \"\"\"\n",
    "pd.DataFrame(\n",
    "    index=[\"Leite\", \"Ovos\", \"Carne\", \"Arroz\", \"Feijão\"],\n",
    "    columns=[\"quantidade\", \"unidade\"],\n",
    "    data=\"?\"\n",
    ")"
   ]
  },
  {
   "cell_type": "code",
   "execution_count": null,
   "metadata": {},
   "outputs": [],
   "source": [
    "\"\"\" Recebendo um Dicionário\"\"\"\n",
    "pd.DataFrame(\n",
    "    {\n",
    "        \"quantidade\": {\n",
    "            \"Leite\": 2, \n",
    "            \"Ovos\": 12, \n",
    "            \"Carne\": 1, \n",
    "            \"Arroz\": 5, \n",
    "            \"Feijão\": 2\n",
    "        },\n",
    "        \"unidade\": {\n",
    "            \"Leite\": \"L\", \n",
    "            \"Ovos\": \"Ud\", \n",
    "            \"Carne\": \"Kg\", \n",
    "            \"Arroz\": \"Kg\", \n",
    "            \"Feijão\": \"Kg\"\n",
    "        }\n",
    "    }\n",
    ")"
   ]
  },
  {
   "cell_type": "code",
   "execution_count": null,
   "metadata": {},
   "outputs": [],
   "source": [
    "\"\"\" Recebendo um Dicionário de Series\"\"\"\n",
    "index = [\"Leite\", \"Ovos\", \"Carne\", \"Arroz\", \"Feijão\"]\n",
    "pd.DataFrame(\n",
    "    {\n",
    "        \"quantidade\": pd.Series(index=index,  data=[2, 12, 1, 5, 2]),\n",
    "        \"unidade\": pd.Series(index=index,  data=[\"L\", \"Ud\", \"Kg\", \"Kg\", \"Kg\"])\n",
    "    }\n",
    ")"
   ]
  },
  {
   "cell_type": "code",
   "execution_count": null,
   "metadata": {},
   "outputs": [],
   "source": [
    "\"\"\" Recebendo um vetor de Series\"\"\"\n",
    "index = [\"Leite\", \"Ovos\", \"Carne\", \"Arroz\", \"Feijão\"]\n",
    "df = pd.DataFrame(\n",
    "    [\n",
    "        pd.Series(name=\"quantidade\", index=index,  data=[2, 12, 1, 5, 2]),\n",
    "        pd.Series(name=\"unidade\", index=index,  data=[\"L\", \"Ud\", \"Kg\", \"Kg\", \"Kg\"])\n",
    "    ]\n",
    ")\n",
    "df"
   ]
  },
  {
   "cell_type": "code",
   "execution_count": null,
   "metadata": {},
   "outputs": [],
   "source": [
    "\"\"\" Transpondo para ajustar a Tabela \"\"\"\n",
    "df = df.T\n",
    "df"
   ]
  },
  {
   "cell_type": "code",
   "execution_count": null,
   "metadata": {},
   "outputs": [],
   "source": [
    "\"\"\" editando parâmetros\"\"\"\n",
    "df.index = [\"Leite tipo A\", \"Ovos Orgânicos\", \"Patinho\", \"Arroz Arbóreo\", \"Feijão Preto\"]\n",
    "df.columns = [\"Quantidade\", \"Unidade\"]\n",
    "df"
   ]
  },
  {
   "cell_type": "code",
   "execution_count": null,
   "metadata": {},
   "outputs": [],
   "source": [
    "\"\"\" Ordenação: Índices \"\"\"\n",
    "df.sort_index()"
   ]
  },
  {
   "cell_type": "code",
   "execution_count": null,
   "metadata": {},
   "outputs": [],
   "source": [
    "\"\"\" Ordenação: Dados \"\"\"\n",
    "df.sort_values(by=\"Unidade\", ascending=False)"
   ]
  },
  {
   "cell_type": "markdown",
   "metadata": {},
   "source": [
    "#  Acessando valores"
   ]
  },
  {
   "cell_type": "markdown",
   "metadata": {},
   "source": [
    "## Definição das Variáveis"
   ]
  },
  {
   "cell_type": "code",
   "execution_count": null,
   "metadata": {},
   "outputs": [],
   "source": [
    "index = pd.Index(data=[\"Leite\", \"Ovos\", \"Carne\", \"Arroz\", \"Feijão\"], name=\"Itens\")\n",
    "index"
   ]
  },
  {
   "cell_type": "code",
   "execution_count": null,
   "metadata": {},
   "outputs": [],
   "source": [
    "sq = pd.Series(index=index,  data=[2, 12, 1, 5, 2]).sort_values()\n",
    "sq"
   ]
  },
  {
   "cell_type": "code",
   "execution_count": null,
   "metadata": {},
   "outputs": [],
   "source": [
    "su = pd.Series(index=index,  data=[\"L\", \"Ud\", \"Kg\", \"Kg\", \"Kg\"]).sort_index()\n",
    "su"
   ]
  },
  {
   "cell_type": "code",
   "execution_count": null,
   "metadata": {},
   "outputs": [],
   "source": [
    "df = pd.DataFrame({\"Quantidade\": sq, \"Unidade\": su}).sort_values(by=\"Unidade\")\n",
    "df"
   ]
  },
  {
   "cell_type": "code",
   "execution_count": null,
   "metadata": {},
   "outputs": [],
   "source": [
    "df[\"Preço p/ Ud\"] = [5.00, 29.99, 6.50, 3.30, 0.50]\n",
    "df[\"Preço Total\"] = [25.00, 29.99, 13.00, 6.60, 6.00]\n",
    "df"
   ]
  },
  {
   "cell_type": "markdown",
   "metadata": {},
   "source": [
    "## Slicing"
   ]
  },
  {
   "cell_type": "markdown",
   "metadata": {},
   "source": [
    "### Series"
   ]
  },
  {
   "cell_type": "code",
   "execution_count": null,
   "metadata": {},
   "outputs": [],
   "source": [
    "sq"
   ]
  },
  {
   "cell_type": "code",
   "execution_count": null,
   "metadata": {},
   "outputs": [],
   "source": [
    "sq[2]"
   ]
  },
  {
   "cell_type": "code",
   "execution_count": null,
   "metadata": {},
   "outputs": [],
   "source": [
    "sq[5:2:-1]"
   ]
  },
  {
   "cell_type": "code",
   "execution_count": null,
   "metadata": {},
   "outputs": [],
   "source": [
    "sq[\"Leite\"]"
   ]
  },
  {
   "cell_type": "code",
   "execution_count": null,
   "metadata": {},
   "outputs": [],
   "source": [
    "sq[\"Leite\":\"Arroz\"]"
   ]
  },
  {
   "cell_type": "markdown",
   "metadata": {},
   "source": [
    "###  DataFrame"
   ]
  },
  {
   "cell_type": "code",
   "execution_count": null,
   "metadata": {},
   "outputs": [],
   "source": [
    "df"
   ]
  },
  {
   "cell_type": "code",
   "execution_count": null,
   "metadata": {},
   "outputs": [],
   "source": [
    "df[\"Unidade\"]"
   ]
  },
  {
   "cell_type": "code",
   "execution_count": null,
   "metadata": {},
   "outputs": [],
   "source": [
    "df.Quantidade"
   ]
  },
  {
   "cell_type": "code",
   "execution_count": null,
   "metadata": {},
   "outputs": [],
   "source": [
    "\"\"\" Uma Coluna do DataFrame é uma Series\"\"\"\n",
    "df[\"Preço Total\"][2]"
   ]
  },
  {
   "cell_type": "code",
   "execution_count": null,
   "metadata": {},
   "outputs": [],
   "source": [
    "\"\"\" Acesso a mais de uma Coluna \"\"\"\n",
    "df[[\"Preço Total\", \"Quantidade\"]]"
   ]
  },
  {
   "cell_type": "code",
   "execution_count": null,
   "metadata": {},
   "outputs": [],
   "source": [
    "\"\"\" acesso às Linhas: método 'loc' \"\"\"\n",
    "df.loc[\"Leite\"]"
   ]
  },
  {
   "cell_type": "code",
   "execution_count": null,
   "metadata": {},
   "outputs": [],
   "source": [
    "\"\"\" acesso ao item: método 'loc' \"\"\"\n",
    "df.loc[\"Ovos\", \"Preço Total\"]"
   ]
  },
  {
   "cell_type": "code",
   "execution_count": null,
   "metadata": {},
   "outputs": [],
   "source": [
    "\"\"\" acesso ao item: método 'iloc' \"\"\"\n",
    "df.iloc[4, 3]"
   ]
  },
  {
   "cell_type": "code",
   "execution_count": null,
   "metadata": {},
   "outputs": [],
   "source": [
    "\"\"\" acesso por slice: método 'loc' \"\"\"\n",
    "df.loc[\"Leite\":, \"Preço p/ Ud\":]"
   ]
  },
  {
   "cell_type": "code",
   "execution_count": null,
   "metadata": {},
   "outputs": [],
   "source": [
    "\"\"\" acesso por slice: método 'iloc' \"\"\"\n",
    "df.iloc[3:, 2:]"
   ]
  },
  {
   "cell_type": "markdown",
   "metadata": {},
   "source": [
    "#### * Atribuição de Valores em DataFrames"
   ]
  },
  {
   "cell_type": "code",
   "execution_count": null,
   "metadata": {},
   "outputs": [],
   "source": [
    "\"\"\" Atribuir Valores em 'slices' levanta warnings \"\"\"\n",
    "df[\"Unidade\"][[0, 2]] = \"Pacote\"\n",
    "df"
   ]
  },
  {
   "cell_type": "code",
   "execution_count": null,
   "metadata": {},
   "outputs": [],
   "source": [
    "\"\"\" Deve-se usar 'loc' ou 'iloc' \"\"\"\n",
    "df.loc[\"Carne\", \"Unidade\"] = \"Kilograma\"\n",
    "df.iloc[3, 1] = \"Litro\"\n",
    "df"
   ]
  },
  {
   "cell_type": "markdown",
   "metadata": {},
   "source": [
    "## Masks"
   ]
  },
  {
   "cell_type": "markdown",
   "metadata": {},
   "source": [
    "### Conceito"
   ]
  },
  {
   "cell_type": "code",
   "execution_count": null,
   "metadata": {},
   "outputs": [],
   "source": [
    "\"\"\" mask => array de bool \"\"\"\n",
    "sq > 2"
   ]
  },
  {
   "cell_type": "code",
   "execution_count": null,
   "metadata": {},
   "outputs": [],
   "source": [
    "\"\"\" mask => array de bool \"\"\"\n",
    "df > 2"
   ]
  },
  {
   "cell_type": "markdown",
   "metadata": {},
   "source": [
    "### Aplicação"
   ]
  },
  {
   "cell_type": "markdown",
   "metadata": {},
   "source": [
    "#### * Series"
   ]
  },
  {
   "cell_type": "code",
   "execution_count": null,
   "metadata": {},
   "outputs": [],
   "source": [
    "\"\"\" atribuição de valores em uma cópia \"\"\"\n",
    "s_tmp = sq.copy()\n",
    "s_tmp"
   ]
  },
  {
   "cell_type": "code",
   "execution_count": null,
   "metadata": {},
   "outputs": [],
   "source": [
    "s_tmp[s_tmp == 2]"
   ]
  },
  {
   "cell_type": "code",
   "execution_count": null,
   "metadata": {},
   "outputs": [],
   "source": [
    "s_tmp[s_tmp == 2] = 3\n",
    "s_tmp"
   ]
  },
  {
   "cell_type": "markdown",
   "metadata": {},
   "source": [
    "#### * DataFame"
   ]
  },
  {
   "cell_type": "code",
   "execution_count": null,
   "metadata": {},
   "outputs": [],
   "source": [
    "\"\"\" atribuição de valores em uma cópia \"\"\"\n",
    "df_tmp = df[[\"Preço p/ Ud\", \"Preço Total\"]].copy()\n",
    "df_tmp"
   ]
  },
  {
   "cell_type": "code",
   "execution_count": null,
   "metadata": {},
   "outputs": [],
   "source": [
    "\"\"\" mask \"\"\"\n",
    "mask = (df_tmp > 5) & (df_tmp < 10)\n",
    "mask"
   ]
  },
  {
   "cell_type": "code",
   "execution_count": null,
   "metadata": {},
   "outputs": [],
   "source": [
    "df_tmp[mask]"
   ]
  },
  {
   "cell_type": "code",
   "execution_count": null,
   "metadata": {},
   "outputs": [],
   "source": [
    "tmp2 = df_tmp.copy()\n",
    "tmp2[mask] = \"?\"\n",
    "tmp2"
   ]
  },
  {
   "cell_type": "code",
   "execution_count": null,
   "metadata": {},
   "outputs": [],
   "source": [
    "s_tmp[s_tmp == 2] = 3\n",
    "s_tmp"
   ]
  }
 ],
 "metadata": {
  "kernelspec": {
   "display_name": "Python 3",
   "language": "python",
   "name": "python3"
  },
  "language_info": {
   "codemirror_mode": {
    "name": "ipython",
    "version": 3
   },
   "file_extension": ".py",
   "mimetype": "text/x-python",
   "name": "python",
   "nbconvert_exporter": "python",
   "pygments_lexer": "ipython3",
   "version": "3.6.4"
  }
 },
 "nbformat": 4,
 "nbformat_minor": 2
}
