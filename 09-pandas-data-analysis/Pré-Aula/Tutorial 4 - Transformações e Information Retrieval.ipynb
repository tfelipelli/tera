{
 "cells": [
  {
   "cell_type": "markdown",
   "metadata": {},
   "source": [
    "# Tutorial 4 - Propagação de Funções & Transformações "
   ]
  },
  {
   "cell_type": "markdown",
   "metadata": {},
   "source": [
    "___"
   ]
  },
  {
   "cell_type": "markdown",
   "metadata": {},
   "source": [
    "# Imports para a Aula"
   ]
  },
  {
   "cell_type": "code",
   "execution_count": null,
   "metadata": {},
   "outputs": [],
   "source": [
    "import numpy as np\n",
    "import os\n",
    "import pandas as pd"
   ]
  },
  {
   "cell_type": "markdown",
   "metadata": {},
   "source": [
    "# Propagação de Funções"
   ]
  },
  {
   "cell_type": "markdown",
   "metadata": {},
   "source": [
    "## Series"
   ]
  },
  {
   "cell_type": "markdown",
   "metadata": {},
   "source": [
    "### Variável de Teste"
   ]
  },
  {
   "cell_type": "code",
   "execution_count": null,
   "metadata": {},
   "outputs": [],
   "source": [
    "\"\"\" Série a ser transformada\"\"\"\n",
    "s = pd.Series(\n",
    "    name=\"Compras\",\n",
    "    index=[\"Leite\", \"Ovos\", \"Carne\", \"Arroz\", \"Feijão\"],  \n",
    "    data=[2, 12, 1, 5, 2]\n",
    ")\n",
    "s"
   ]
  },
  {
   "cell_type": "markdown",
   "metadata": {},
   "source": [
    "### Elemento a elemento"
   ]
  },
  {
   "cell_type": "code",
   "execution_count": null,
   "metadata": {},
   "outputs": [],
   "source": [
    "\"\"\" Função de Transformação \"\"\"\n",
    "def fn(x):\n",
    "    return x ** 2 + x - 100"
   ]
  },
  {
   "cell_type": "code",
   "execution_count": null,
   "metadata": {},
   "outputs": [],
   "source": [
    "\"\"\" Transformação elemento a elemento \"\"\"\n",
    "s.map(fn)"
   ]
  },
  {
   "cell_type": "markdown",
   "metadata": {},
   "source": [
    "## DataFrame"
   ]
  },
  {
   "cell_type": "markdown",
   "metadata": {},
   "source": [
    "### Variável de Teste"
   ]
  },
  {
   "cell_type": "code",
   "execution_count": null,
   "metadata": {},
   "outputs": [],
   "source": [
    "\"\"\" DataFrame a ser transformado\"\"\"\n",
    "df = pd.DataFrame(\n",
    "    index=pd.Index(data=[\"Leite\", \"Ovos\", \"Carne\", \"Arroz\", \"Feijão\"], name=\"Itens\"),\n",
    "    columns=[\"Quantidade\",  \"Preço Unitário\"],\n",
    "    data=np.array([\n",
    "        [4, 3, 1, 5, 2],\n",
    "        [3.00, 6.50, 25.90, 5.00, 3.80]\n",
    "    ]).T,\n",
    ")\n",
    "df"
   ]
  },
  {
   "cell_type": "markdown",
   "metadata": {},
   "source": [
    "### Elemento a elemento"
   ]
  },
  {
   "cell_type": "code",
   "execution_count": null,
   "metadata": {},
   "outputs": [],
   "source": [
    "\"\"\" Função de Transformação \"\"\"\n",
    "def fn(x):\n",
    "    return x ** 3 / 100"
   ]
  },
  {
   "cell_type": "code",
   "execution_count": null,
   "metadata": {},
   "outputs": [],
   "source": [
    "\"\"\" Transformação elemento a elemento \"\"\"\n",
    "df.applymap(fn)"
   ]
  },
  {
   "cell_type": "markdown",
   "metadata": {},
   "source": [
    "### Linhas e Colunas"
   ]
  },
  {
   "cell_type": "code",
   "execution_count": null,
   "metadata": {},
   "outputs": [],
   "source": [
    "\"\"\" Função de Transformação \"\"\"\n",
    "def fn(x):\n",
    "    return x.product()"
   ]
  },
  {
   "cell_type": "code",
   "execution_count": null,
   "metadata": {},
   "outputs": [],
   "source": [
    "\"\"\" Transformação elemento a elemento \"\"\"\n",
    "df.apply(fn)"
   ]
  },
  {
   "cell_type": "code",
   "execution_count": null,
   "metadata": {},
   "outputs": [],
   "source": [
    "\"\"\" Transformação elemento a elemento \"\"\"\n",
    "df.apply(fn, axis=1)"
   ]
  },
  {
   "cell_type": "markdown",
   "metadata": {},
   "source": [
    "# Transformações "
   ]
  },
  {
   "cell_type": "markdown",
   "metadata": {},
   "source": [
    "## Variável de Teste "
   ]
  },
  {
   "cell_type": "code",
   "execution_count": null,
   "metadata": {},
   "outputs": [],
   "source": [
    "df1 = pd.DataFrame(\n",
    "    columns=[\"user_id\", \"store_id\", \"product_id\"],\n",
    "    data=[\n",
    "        [1, 1, 1],\n",
    "        [1, 2, 6],\n",
    "        [3, 2, 7],\n",
    "        [2, 2, 3],\n",
    "        [3, 2, 3],\n",
    "        [4, 3, 2],\n",
    "        [2, 3, 1],\n",
    "        [1, 1, 3],\n",
    "        [1, 3, 3],\n",
    "        [5, 1, 4],\n",
    "        [5, 1, 1],\n",
    "        [3, 2, 1],\n",
    "        [1, 2, 1],\n",
    "        [2, 2, 2],\n",
    "        [3, 2, 2],\n",
    "        [4, 2, 3],\n",
    "        [4, 1, 5],\n",
    "        [5, 1, 6],\n",
    "        [3, 1, 6],\n",
    "        [2, 3, 7],\n",
    "    ]\n",
    ")\n",
    "df2 = pd.DataFrame(\n",
    "    columns=[\"store_id\", \"store_name\"],\n",
    "    data=[\n",
    "        [1, \"Pão de Açúcar\"],\n",
    "        [2, \"Dia\"],\n",
    "        [3, \"Extra\"],\n",
    "    ]\n",
    ")\n",
    "df3 = pd.DataFrame(\n",
    "    columns=[\"product_id\", \"product_name\"],\n",
    "    data=[\n",
    "        [1, \"Leite\"],\n",
    "        [2, \"Ovos\"],\n",
    "        [3, \"Arroz\"],\n",
    "        [4, \"Feijão\"],\n",
    "        [5, \"Carne\"],\n",
    "        [6, \"Frango\"],\n",
    "        [7, \"Peixe\"]\n",
    "    ]\n",
    ")\n",
    "\n",
    "df = pd.merge(pd.merge(df1, df2, on=\"store_id\"), df3, on=\"product_id\")[[\"user_id\", \"store_name\", \"product_name\"]]\n",
    "df"
   ]
  },
  {
   "cell_type": "markdown",
   "metadata": {},
   "source": [
    "## Manipulações "
   ]
  },
  {
   "cell_type": "markdown",
   "metadata": {},
   "source": [
    "### `pivot` & `pivot_table`"
   ]
  },
  {
   "cell_type": "code",
   "execution_count": null,
   "metadata": {},
   "outputs": [],
   "source": [
    "df.pivot?"
   ]
  },
  {
   "cell_type": "code",
   "execution_count": null,
   "metadata": {},
   "outputs": [],
   "source": [
    "df.pivot_table?"
   ]
  },
  {
   "cell_type": "code",
   "execution_count": null,
   "metadata": {},
   "outputs": [],
   "source": [
    "df.pivot(columns=\"store_name\", values=\"product_name\")"
   ]
  },
  {
   "cell_type": "code",
   "execution_count": null,
   "metadata": {},
   "outputs": [],
   "source": [
    "df.pivot_table(columns=\"store_name\", values=\"product_name\", aggfunc=\"count\")"
   ]
  },
  {
   "cell_type": "markdown",
   "metadata": {},
   "source": [
    "### `crosstab`"
   ]
  },
  {
   "cell_type": "code",
   "execution_count": null,
   "metadata": {},
   "outputs": [],
   "source": [
    "pd.crosstab?"
   ]
  },
  {
   "cell_type": "code",
   "execution_count": null,
   "metadata": {},
   "outputs": [],
   "source": [
    "pd.crosstab(df.store_name, df.product_name)"
   ]
  },
  {
   "cell_type": "markdown",
   "metadata": {},
   "source": [
    "###  Agrupamento e Agregação"
   ]
  },
  {
   "cell_type": "code",
   "execution_count": null,
   "metadata": {},
   "outputs": [],
   "source": [
    "pd.DataFrame.groupby?"
   ]
  },
  {
   "cell_type": "code",
   "execution_count": null,
   "metadata": {},
   "outputs": [],
   "source": [
    "pd.core.groupby.DataFrameGroupBy.aggregate?"
   ]
  },
  {
   "cell_type": "code",
   "execution_count": null,
   "metadata": {},
   "outputs": [],
   "source": [
    "g = df.groupby(\"product_name\")\n",
    "g"
   ]
  },
  {
   "cell_type": "code",
   "execution_count": null,
   "metadata": {},
   "outputs": [],
   "source": [
    "g.describe()"
   ]
  },
  {
   "cell_type": "code",
   "execution_count": null,
   "metadata": {},
   "outputs": [],
   "source": [
    "g.aggregate([\"min\", \"mean\", \"median\", \"max\", \"sum\"])"
   ]
  },
  {
   "cell_type": "code",
   "execution_count": null,
   "metadata": {},
   "outputs": [],
   "source": [
    "g.max()"
   ]
  }
 ],
 "metadata": {
  "kernelspec": {
   "display_name": "Python 3",
   "language": "python",
   "name": "python3"
  },
  "language_info": {
   "codemirror_mode": {
    "name": "ipython",
    "version": 3
   },
   "file_extension": ".py",
   "mimetype": "text/x-python",
   "name": "python",
   "nbconvert_exporter": "python",
   "pygments_lexer": "ipython3",
   "version": "3.6.4"
  }
 },
 "nbformat": 4,
 "nbformat_minor": 2
}
