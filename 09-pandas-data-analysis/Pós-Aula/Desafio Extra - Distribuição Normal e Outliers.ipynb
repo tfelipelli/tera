{
 "cells": [
  {
   "cell_type": "markdown",
   "metadata": {},
   "source": [
    "# Desafio Extra - Distribuição Normal e Outliers"
   ]
  },
  {
   "cell_type": "markdown",
   "metadata": {},
   "source": [
    "___"
   ]
  },
  {
   "cell_type": "markdown",
   "metadata": {},
   "source": [
    "# Imports"
   ]
  },
  {
   "cell_type": "code",
   "execution_count": 1,
   "metadata": {
    "collapsed": true
   },
   "outputs": [],
   "source": [
    "import numpy as np\n",
    "import pandas as pd"
   ]
  },
  {
   "cell_type": "markdown",
   "metadata": {},
   "source": [
    "# Objetivo:\n",
    "\n",
    "Analisar como a adição de _outliers_ deforma um conjunto de dados cuja distribuição é normal.\n"
   ]
  },
  {
   "cell_type": "markdown",
   "metadata": {},
   "source": [
    "# Configurações"
   ]
  },
  {
   "cell_type": "code",
   "execution_count": 2,
   "metadata": {
    "collapsed": true
   },
   "outputs": [],
   "source": [
    "\"\"\" Não altere esse valor, pois ele permite que toda a geração aleatória seja igual para todos \"\"\"\n",
    "np.random.seed(123456789)"
   ]
  },
  {
   "cell_type": "markdown",
   "metadata": {},
   "source": [
    "## Dataset Original\n",
    "\n",
    "O dataset original é uma **Series** com 1000 elementos cujos dados pertençam a uma **distribuição normal** de média igual a **150** e desvio padrão **10**.\n",
    "\n",
    "Construção: a função **`np.random.randn`** é usada para gerar a distribuição normal, para depois transformá-la com a `média` e o `sigma` dados."
   ]
  },
  {
   "cell_type": "code",
   "execution_count": 3,
   "metadata": {
    "collapsed": true
   },
   "outputs": [],
   "source": [
    "\"\"\" Dataset Original, já criado para a solução \"\"\"\n",
    "media = 150\n",
    "sigma = 10\n",
    "serie = pd.Series(np.random.randn(1000)) * sigma + media"
   ]
  },
  {
   "cell_type": "markdown",
   "metadata": {},
   "source": [
    "## O Acumulador\n",
    "\n",
    "O acumulador é um **DataFrame** usado para acumular as transformações feitas em cima do dataset original. Cada transformação será armazenada em uma **coluna** cujo nome descreve a transformação feita sobre os dados. \n",
    "\n",
    "Insira o dataset criado na coluna de nome **original**."
   ]
  },
  {
   "cell_type": "code",
   "execution_count": 4,
   "metadata": {},
   "outputs": [
    {
     "data": {
      "text/html": [
       "<div>\n",
       "<style>\n",
       "    .dataframe thead tr:only-child th {\n",
       "        text-align: right;\n",
       "    }\n",
       "\n",
       "    .dataframe thead th {\n",
       "        text-align: left;\n",
       "    }\n",
       "\n",
       "    .dataframe tbody tr th {\n",
       "        vertical-align: top;\n",
       "    }\n",
       "</style>\n",
       "<table border=\"1\" class=\"dataframe\">\n",
       "  <thead>\n",
       "    <tr style=\"text-align: right;\">\n",
       "      <th></th>\n",
       "      <th>original</th>\n",
       "    </tr>\n",
       "  </thead>\n",
       "  <tbody>\n",
       "    <tr>\n",
       "      <th>0</th>\n",
       "      <td>172.129020</td>\n",
       "    </tr>\n",
       "    <tr>\n",
       "      <th>1</th>\n",
       "      <td>171.283978</td>\n",
       "    </tr>\n",
       "    <tr>\n",
       "      <th>2</th>\n",
       "      <td>168.417114</td>\n",
       "    </tr>\n",
       "    <tr>\n",
       "      <th>3</th>\n",
       "      <td>150.823825</td>\n",
       "    </tr>\n",
       "    <tr>\n",
       "      <th>4</th>\n",
       "      <td>158.589637</td>\n",
       "    </tr>\n",
       "    <tr>\n",
       "      <th>2595</th>\n",
       "      <td>NaN</td>\n",
       "    </tr>\n",
       "    <tr>\n",
       "      <th>2596</th>\n",
       "      <td>NaN</td>\n",
       "    </tr>\n",
       "    <tr>\n",
       "      <th>2597</th>\n",
       "      <td>NaN</td>\n",
       "    </tr>\n",
       "    <tr>\n",
       "      <th>2598</th>\n",
       "      <td>NaN</td>\n",
       "    </tr>\n",
       "    <tr>\n",
       "      <th>2599</th>\n",
       "      <td>NaN</td>\n",
       "    </tr>\n",
       "  </tbody>\n",
       "</table>\n",
       "</div>"
      ],
      "text/plain": [
       "        original\n",
       "0     172.129020\n",
       "1     171.283978\n",
       "2     168.417114\n",
       "3     150.823825\n",
       "4     158.589637\n",
       "2595         NaN\n",
       "2596         NaN\n",
       "2597         NaN\n",
       "2598         NaN\n",
       "2599         NaN"
      ]
     },
     "execution_count": 4,
     "metadata": {},
     "output_type": "execute_result"
    }
   ],
   "source": [
    "\"\"\" Não mude o código nesta célula \"\"\"\n",
    "accum = pd.DataFrame(\n",
    "    index=range(2600),\n",
    "    columns=[\"original\"],\n",
    "    data=serie\n",
    ")\n",
    "accum.head().append(accum.tail())"
   ]
  },
  {
   "cell_type": "markdown",
   "metadata": {},
   "source": [
    "## Inserção de dados\n",
    "\n",
    "Para cada item a seguir, crie um dataset de distribuição normal contendo **N** elementos, usando a **média** e o **sigma** também fornecidos pelo item. \n",
    "\n",
    "Em seguida, concatene os novos elementos gerados à **Series** original usando o código abaixo:\n",
    "```\n",
    "series_original = series_original.append(nova_series).reset_index(drop=True)\n",
    "```\n",
    "\n",
    "Depois disso, insira a **Series** atualizada no **acumulador** em uma coluna com o **nome de coluna** fornecido em cada item.\n"
   ]
  },
  {
   "cell_type": "markdown",
   "metadata": {},
   "source": [
    "### A)  Elementos da mesma Distribuição\n",
    "* N = 300\n",
    "* média = 150\n",
    "* sigma = 10\n",
    "* coluna = \"mesma_distribuição\""
   ]
  },
  {
   "cell_type": "code",
   "execution_count": 5,
   "metadata": {
    "collapsed": true
   },
   "outputs": [],
   "source": [
    "accum[\"mesma_distribuição\"] = pd.Series(np.random.randn(300)) * 10 + 150"
   ]
  },
  {
   "cell_type": "markdown",
   "metadata": {},
   "source": [
    "### B)  Elementos de outra distribuição\n",
    "* N = 100\n",
    "* média = 400\n",
    "* sigma = 100\n",
    "* coluna = \"outliers_adicionados\""
   ]
  },
  {
   "cell_type": "code",
   "execution_count": 6,
   "metadata": {
    "collapsed": true
   },
   "outputs": [],
   "source": [
    "accum[\"outliers_adicionados\"] = pd.Series(np.random.randn(100)) * 100 + 400"
   ]
  },
  {
   "cell_type": "markdown",
   "metadata": {},
   "source": [
    "### C)  Elementos Próximos à média\n",
    "* N = 1000\n",
    "* média = 150\n",
    "* sigma = 0.1\n",
    "* coluna = \"elementos_prox_a_media\""
   ]
  },
  {
   "cell_type": "code",
   "execution_count": 7,
   "metadata": {
    "collapsed": true
   },
   "outputs": [],
   "source": [
    "accum[\"elementos_prox_a_media\"] = pd.Series(np.random.randn(1000)) * 0.1 + 150"
   ]
  },
  {
   "cell_type": "markdown",
   "metadata": {},
   "source": [
    "## Avaliação das Séries:\n",
    "\n",
    "Avaliar o **acumulador** e verificar o que mudou na distribuição original. "
   ]
  },
  {
   "cell_type": "code",
   "execution_count": 8,
   "metadata": {},
   "outputs": [
    {
     "data": {
      "text/html": [
       "<div>\n",
       "<style>\n",
       "    .dataframe thead tr:only-child th {\n",
       "        text-align: right;\n",
       "    }\n",
       "\n",
       "    .dataframe thead th {\n",
       "        text-align: left;\n",
       "    }\n",
       "\n",
       "    .dataframe tbody tr th {\n",
       "        vertical-align: top;\n",
       "    }\n",
       "</style>\n",
       "<table border=\"1\" class=\"dataframe\">\n",
       "  <thead>\n",
       "    <tr style=\"text-align: right;\">\n",
       "      <th></th>\n",
       "      <th>original</th>\n",
       "      <th>mesma_distribuição</th>\n",
       "      <th>outliers_adicionados</th>\n",
       "      <th>elementos_prox_a_media</th>\n",
       "    </tr>\n",
       "  </thead>\n",
       "  <tbody>\n",
       "    <tr>\n",
       "      <th>count</th>\n",
       "      <td>1000.000000</td>\n",
       "      <td>300.000000</td>\n",
       "      <td>100.000000</td>\n",
       "      <td>1000.000000</td>\n",
       "    </tr>\n",
       "    <tr>\n",
       "      <th>mean</th>\n",
       "      <td>149.843799</td>\n",
       "      <td>149.929486</td>\n",
       "      <td>383.288337</td>\n",
       "      <td>150.001269</td>\n",
       "    </tr>\n",
       "    <tr>\n",
       "      <th>std</th>\n",
       "      <td>9.675664</td>\n",
       "      <td>9.374505</td>\n",
       "      <td>105.763094</td>\n",
       "      <td>0.102188</td>\n",
       "    </tr>\n",
       "    <tr>\n",
       "      <th>min</th>\n",
       "      <td>123.602234</td>\n",
       "      <td>119.457485</td>\n",
       "      <td>127.644305</td>\n",
       "      <td>149.710584</td>\n",
       "    </tr>\n",
       "    <tr>\n",
       "      <th>25%</th>\n",
       "      <td>143.462341</td>\n",
       "      <td>144.425984</td>\n",
       "      <td>300.450204</td>\n",
       "      <td>149.934486</td>\n",
       "    </tr>\n",
       "    <tr>\n",
       "      <th>50%</th>\n",
       "      <td>149.948937</td>\n",
       "      <td>149.818362</td>\n",
       "      <td>382.741166</td>\n",
       "      <td>149.999695</td>\n",
       "    </tr>\n",
       "    <tr>\n",
       "      <th>75%</th>\n",
       "      <td>156.156120</td>\n",
       "      <td>156.181255</td>\n",
       "      <td>470.676818</td>\n",
       "      <td>150.071739</td>\n",
       "    </tr>\n",
       "    <tr>\n",
       "      <th>max</th>\n",
       "      <td>190.067115</td>\n",
       "      <td>177.668567</td>\n",
       "      <td>660.055783</td>\n",
       "      <td>150.376527</td>\n",
       "    </tr>\n",
       "  </tbody>\n",
       "</table>\n",
       "</div>"
      ],
      "text/plain": [
       "          original  mesma_distribuição  outliers_adicionados  \\\n",
       "count  1000.000000          300.000000            100.000000   \n",
       "mean    149.843799          149.929486            383.288337   \n",
       "std       9.675664            9.374505            105.763094   \n",
       "min     123.602234          119.457485            127.644305   \n",
       "25%     143.462341          144.425984            300.450204   \n",
       "50%     149.948937          149.818362            382.741166   \n",
       "75%     156.156120          156.181255            470.676818   \n",
       "max     190.067115          177.668567            660.055783   \n",
       "\n",
       "       elementos_prox_a_media  \n",
       "count             1000.000000  \n",
       "mean               150.001269  \n",
       "std                  0.102188  \n",
       "min                149.710584  \n",
       "25%                149.934486  \n",
       "50%                149.999695  \n",
       "75%                150.071739  \n",
       "max                150.376527  "
      ]
     },
     "execution_count": 8,
     "metadata": {},
     "output_type": "execute_result"
    }
   ],
   "source": [
    "accum.describe()"
   ]
  }
 ],
 "metadata": {
  "kernelspec": {
   "display_name": "Python 3",
   "language": "python",
   "name": "python3"
  },
  "language_info": {
   "codemirror_mode": {
    "name": "ipython",
    "version": 3
   },
   "file_extension": ".py",
   "mimetype": "text/x-python",
   "name": "python",
   "nbconvert_exporter": "python",
   "pygments_lexer": "ipython3",
   "version": "3.6.2"
  }
 },
 "nbformat": 4,
 "nbformat_minor": 2
}
