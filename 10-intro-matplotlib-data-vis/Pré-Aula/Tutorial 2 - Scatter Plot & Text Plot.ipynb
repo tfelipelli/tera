{
 "cells": [
  {
   "cell_type": "markdown",
   "metadata": {},
   "source": [
    "# Tutorial 2 - Scatter Plot & Text Plot"
   ]
  },
  {
   "cell_type": "markdown",
   "metadata": {},
   "source": [
    "___"
   ]
  },
  {
   "cell_type": "markdown",
   "metadata": {},
   "source": [
    "# Imports"
   ]
  },
  {
   "cell_type": "code",
   "execution_count": null,
   "metadata": {
    "collapsed": true
   },
   "outputs": [],
   "source": [
    "import numpy as np\n",
    "import os\n",
    "import pandas as pd"
   ]
  },
  {
   "cell_type": "code",
   "execution_count": null,
   "metadata": {
    "collapsed": true
   },
   "outputs": [],
   "source": [
    "\"\"\" habilitando plots no notebook \"\"\"\n",
    "%matplotlib inline"
   ]
  },
  {
   "cell_type": "code",
   "execution_count": null,
   "metadata": {
    "collapsed": true
   },
   "outputs": [],
   "source": [
    "\"\"\" plot libs \"\"\"\n",
    "import matplotlib.pyplot as plt\n",
    "import seaborn as sns"
   ]
  },
  {
   "cell_type": "code",
   "execution_count": null,
   "metadata": {
    "collapsed": true
   },
   "outputs": [],
   "source": [
    "\"\"\" Configurando o Matplotlib para o modo manual \"\"\"\n",
    "plt.interactive(False)"
   ]
  },
  {
   "cell_type": "markdown",
   "metadata": {},
   "source": [
    "# Scatter Plot"
   ]
  },
  {
   "cell_type": "markdown",
   "metadata": {},
   "source": [
    "## Variáveis"
   ]
  },
  {
   "cell_type": "code",
   "execution_count": null,
   "metadata": {
    "collapsed": true
   },
   "outputs": [],
   "source": [
    "\"\"\" Dataset com Distribuição Normal 2D \"\"\"\n",
    "d1 = pd.DataFrame(\n",
    "    columns=[\"x\", \"y\"],\n",
    "    data=np.random.randn(20, 2) + np.array([5, 5]) \n",
    ")\n",
    "\n",
    "d2 = pd.DataFrame(\n",
    "    columns=[\"x\", \"y\"],\n",
    "    data=np.random.randn(30, 2) + np.array([1, 2]) \n",
    ")"
   ]
  },
  {
   "cell_type": "markdown",
   "metadata": {},
   "source": [
    "## Plot dos datasets"
   ]
  },
  {
   "cell_type": "markdown",
   "metadata": {},
   "source": [
    "### scatter plot simples"
   ]
  },
  {
   "cell_type": "code",
   "execution_count": null,
   "metadata": {
    "collapsed": true
   },
   "outputs": [],
   "source": [
    "plt.figure(figsize=(12, 8))\n",
    "plt.scatter(d1.x, d1.y)\n",
    "plt.show()"
   ]
  },
  {
   "cell_type": "markdown",
   "metadata": {},
   "source": [
    "### Customizando formas, cores e tamanho"
   ]
  },
  {
   "cell_type": "code",
   "execution_count": null,
   "metadata": {
    "collapsed": true
   },
   "outputs": [],
   "source": [
    "plt.figure(figsize=(12, 8))\n",
    "\n",
    "plt.scatter(\n",
    "    d1.x, d1.y,      # pares de coordenadas (x, y)\n",
    "    c=\"darkorange\",  # cor\n",
    "    s=100,           # tamanho em pixels\n",
    "    marker=\"s\"       # simbolo a ser usado\n",
    ")\n",
    "\n",
    "plt.show()"
   ]
  },
  {
   "cell_type": "markdown",
   "metadata": {},
   "source": [
    "### Adicionando mais um dataset"
   ]
  },
  {
   "cell_type": "code",
   "execution_count": null,
   "metadata": {
    "collapsed": true
   },
   "outputs": [],
   "source": [
    "plt.figure(figsize=(12, 8))\n",
    "\n",
    "plt.scatter(d1.x, d1.y, c=\"darkorange\", s=100, marker=\"s\", label=\"golden squares\")\n",
    "plt.scatter(d2.x, d2.y, c=\"purple\", s=200, marker=\"*\", label=\"purple stars\")\n",
    "\n",
    "plt.legend()  # captura os nomes das series em 'label'\n",
    "\n",
    "plt.show()"
   ]
  },
  {
   "cell_type": "markdown",
   "metadata": {},
   "source": [
    "### Facilidades no Pandas"
   ]
  },
  {
   "cell_type": "code",
   "execution_count": null,
   "metadata": {
    "collapsed": true
   },
   "outputs": [],
   "source": [
    "\"\"\" inicialização como antes \"\"\"\n",
    "plt.figure(figsize=(12, 8))"
   ]
  },
  {
   "cell_type": "code",
   "execution_count": null,
   "metadata": {
    "collapsed": true
   },
   "outputs": [],
   "source": [
    "\"\"\" plt.gca() retorna a janela mais recente \"\"\"\n",
    "d1.plot(\n",
    "    ax=plt.gca(),\n",
    "    kind=\"scatter\", \n",
    "    x=\"x\", y=\"y\", \n",
    "    c=\"k\", \n",
    "    s=100, \n",
    "    marker=\"o\", \n",
    "    label=\"black circles\"\n",
    ")\n",
    "\n",
    "\n",
    "d2.plot(\n",
    "    ax=plt.gca(),\n",
    "    kind=\"scatter\", \n",
    "    x=\"x\", y=\"y\", \n",
    "    c=\"cyan\", \n",
    "    s=200, \n",
    "    marker=\"v\", \n",
    "    label=\"cyan triangles\"\n",
    ")"
   ]
  },
  {
   "cell_type": "code",
   "execution_count": null,
   "metadata": {
    "collapsed": true
   },
   "outputs": [],
   "source": [
    "\"\"\" visualizar com legenda \"\"\"\n",
    "plt.legend()\n",
    "plt.show()"
   ]
  },
  {
   "cell_type": "markdown",
   "metadata": {},
   "source": [
    "# Case: Visualização da Correlação"
   ]
  },
  {
   "cell_type": "markdown",
   "metadata": {},
   "source": [
    "## Correlação de Pearson:\n",
    "\n",
    "Medida de quanto duas séries numéricas alinhadas, i.e., o quanto elas variam em relação uma à outra em comparação do quanto elas variam em relação a si mesmas.\n",
    "\n",
    "Mais infos aqui: <a href=\"https://pt.wikipedia.org/wiki/Coeficiente_de_correla%C3%A7%C3%A3o_de_Pearson\" target=_blank> https://pt.wikipedia.org/wiki/Coeficiente_de_correla%C3%A7%C3%A3o_de_Pearson <a/>"
   ]
  },
  {
   "cell_type": "markdown",
   "metadata": {},
   "source": [
    "### Matematicamente...\n",
    "\n",
    "... é a **covariância** dividida pelo produto dos **desvios padrão** de ambas.\n",
    "\n",
    "Também pode ser pensada como o **cosseno do ângulo entre dois vetores multidimensionais**.\n",
    "\n",
    "A fórmula é dada por:\n",
    "\n",
    "![](images/correlacao_pearson_formula.svg)"
   ]
  },
  {
   "cell_type": "markdown",
   "metadata": {},
   "source": [
    "## Na prática:\n",
    "\n",
    "Número (_float_) entre -1 e 1 indicando (fonte: Wikipédia):\n",
    "* 0.9 para mais ou para menos indica uma correlação muito forte.\n",
    "* 0.7 a 0.9 positivo ou negativo indica uma correlação forte.\n",
    "* 0.5 a 0.7 positivo ou negativo indica uma correlação moderada.\n",
    "* 0.3 a 0.5 positivo ou negativo indica uma correlação fraca.\n",
    "* 0 a 0.3 positivo ou negativo indica uma correlação desprezível.\n"
   ]
  },
  {
   "cell_type": "markdown",
   "metadata": {},
   "source": [
    "## Séries e suas Correlações"
   ]
  },
  {
   "cell_type": "code",
   "execution_count": null,
   "metadata": {
    "collapsed": true
   },
   "outputs": [],
   "source": [
    "df = pd.DataFrame(\n",
    "    columns=[\"S1\", \"S2\", \"S3\", \"S4\"],\n",
    "    data=np.random.randn(100, 4)\n",
    ")\n",
    "df[\"S2\"] += 2 * df.S1\n",
    "df[\"S3\"] -= 2 * df.S2\n",
    "\n",
    "df.describe()"
   ]
  },
  {
   "cell_type": "code",
   "execution_count": null,
   "metadata": {
    "collapsed": true
   },
   "outputs": [],
   "source": [
    "\"\"\" Tabela de Correlação \"\"\"\n",
    "df.corr().unstack().drop_duplicates()"
   ]
  },
  {
   "cell_type": "code",
   "execution_count": null,
   "metadata": {
    "collapsed": true
   },
   "outputs": [],
   "source": [
    "\"\"\" Visualização Simples \"\"\"\n",
    "df.corr().unstack().drop_duplicates()"
   ]
  },
  {
   "cell_type": "markdown",
   "metadata": {},
   "source": [
    "## Visualização com Pandas + Matplotlib"
   ]
  },
  {
   "cell_type": "code",
   "execution_count": null,
   "metadata": {
    "collapsed": true
   },
   "outputs": [],
   "source": [
    "\"\"\" Visualização por Scatter Plot \"\"\"\n",
    "pd.plotting.scatter_matrix(df, s=400, color=\"red\", figsize=(13,13))\n",
    "plt.show()"
   ]
  },
  {
   "cell_type": "markdown",
   "metadata": {},
   "source": [
    "## Visualização com Pandas + Seaborn"
   ]
  },
  {
   "cell_type": "code",
   "execution_count": null,
   "metadata": {
    "collapsed": true
   },
   "outputs": [],
   "source": [
    "\"\"\" Visualização por Scatter Plot \"\"\"\n",
    "sns.pairplot(df)\n",
    "plt.show()"
   ]
  },
  {
   "cell_type": "markdown",
   "metadata": {},
   "source": [
    "# Text Plot"
   ]
  },
  {
   "cell_type": "markdown",
   "metadata": {},
   "source": [
    "## Posicionando Texto na Visualização "
   ]
  },
  {
   "cell_type": "code",
   "execution_count": null,
   "metadata": {
    "collapsed": true
   },
   "outputs": [],
   "source": [
    "\"\"\" Plot Simples \"\"\"\n",
    "plt.figure(figsize=(12,8))\n",
    "\n",
    "plt.text(x=0.5, y=0.5, s=\"Texto a ser mostrado\")\n",
    "\n",
    "plt.show()"
   ]
  },
  {
   "cell_type": "code",
   "execution_count": null,
   "metadata": {
    "collapsed": true
   },
   "outputs": [],
   "source": [
    "\"\"\" Plot Simples \"\"\"\n",
    "plt.figure(figsize=(12,8))\n",
    "\n",
    "plt.text(x=1, y=1, s=\"Texto a ser mostrado\")\n",
    "\n",
    "plt.show()"
   ]
  },
  {
   "cell_type": "markdown",
   "metadata": {},
   "source": [
    "## Aumentando a fonte"
   ]
  },
  {
   "cell_type": "code",
   "execution_count": null,
   "metadata": {
    "collapsed": true
   },
   "outputs": [],
   "source": [
    "plt.figure(figsize=(12,8))\n",
    "\n",
    "font = {\n",
    "    'family': 'serif',\n",
    "    'color':  'darkred',\n",
    "    'weight': 'bold',\n",
    "    'size': 26,\n",
    "}\n",
    "\n",
    "plt.text(x=0.5, y=0.5, s=\"Texto a ser mostrado\", fontdict=font)\n",
    "\n",
    "plt.show()"
   ]
  },
  {
   "cell_type": "markdown",
   "metadata": {},
   "source": [
    "## Mudando a Escala"
   ]
  },
  {
   "cell_type": "code",
   "execution_count": null,
   "metadata": {
    "collapsed": true
   },
   "outputs": [],
   "source": [
    "plt.figure(figsize=(12,8))\n",
    "\n",
    "plt.xlim(-10, 10)\n",
    "plt.ylim(-10, 10)\n",
    "\n",
    "font = {\n",
    "    'family': 'serif',\n",
    "    'color':  'darkred',\n",
    "    'weight': 'bold',\n",
    "    'size': 26,\n",
    "}\n",
    "\n",
    "plt.text(x=-5, y=-2, s=\"Texto a ser mostrado\", fontdict=font)\n",
    "\n",
    "plt.show()"
   ]
  },
  {
   "cell_type": "markdown",
   "metadata": {},
   "source": [
    "## Aplicando 'fontdict' em outros textos "
   ]
  },
  {
   "cell_type": "code",
   "execution_count": null,
   "metadata": {
    "collapsed": true
   },
   "outputs": [],
   "source": [
    "plt.figure(figsize=(12,8))\n",
    "\n",
    "plt.xlim(-10, 10)\n",
    "plt.ylim(-10, 10)\n",
    "\n",
    "font = {\n",
    "    'family': 'serif',\n",
    "    'color':  'darkred',\n",
    "    'weight': 'bold',\n",
    "    'size': 26,\n",
    "}\n",
    "\n",
    "plt.text(x=-5, y=-2, s=\"Texto a ser mostrado\", fontdict=font)\n",
    "\n",
    "plt.xlabel(\"X Axis\", fontdict=font)\n",
    "plt.ylabel(\"Y Axis\", fontdict=font)\n",
    "\n",
    "plt.show()"
   ]
  },
  {
   "cell_type": "markdown",
   "metadata": {},
   "source": [
    "## Juntando com Scatter Plot"
   ]
  },
  {
   "cell_type": "code",
   "execution_count": null,
   "metadata": {
    "collapsed": true
   },
   "outputs": [],
   "source": [
    "plt.figure(figsize=(12,8))\n",
    "\n",
    "plt.xlim(-10, 10)\n",
    "plt.ylim(-10, 10)\n",
    "\n",
    "font = {\n",
    "    'family': 'serif',\n",
    "    'color':  'darkred',\n",
    "    'weight': 'bold',\n",
    "    'size': 26,\n",
    "}\n",
    "\n",
    "plt.text(x=-5, y=-2, s=\"Texto a ser mostrado\", fontdict=font)\n",
    "plt.scatter(x=-5, y=-2, s=400, c=\"darkorange\", marker=\"o\")\n",
    "\n",
    "plt.xlabel(\"X Axis\", fontdict=font)\n",
    "plt.ylabel(\"Y Axis\", fontdict=font)\n",
    "\n",
    "plt.show()"
   ]
  }
 ],
 "metadata": {
  "kernelspec": {
   "display_name": "Python 3",
   "language": "python",
   "name": "python3"
  },
  "language_info": {
   "codemirror_mode": {
    "name": "ipython",
    "version": 3
   },
   "file_extension": ".py",
   "mimetype": "text/x-python",
   "name": "python",
   "nbconvert_exporter": "python",
   "pygments_lexer": "ipython3",
   "version": "3.6.4"
  }
 },
 "nbformat": 4,
 "nbformat_minor": 2
}
