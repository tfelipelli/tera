{
 "cells": [
  {
   "cell_type": "markdown",
   "metadata": {},
   "source": [
    "# Tutorial 3 - Histogramas & Box Plot"
   ]
  },
  {
   "cell_type": "markdown",
   "metadata": {},
   "source": [
    "___"
   ]
  },
  {
   "cell_type": "markdown",
   "metadata": {},
   "source": [
    "# Imports"
   ]
  },
  {
   "cell_type": "code",
   "execution_count": null,
   "metadata": {
    "collapsed": true
   },
   "outputs": [],
   "source": [
    "import numpy as np\n",
    "import os\n",
    "import pandas as pd"
   ]
  },
  {
   "cell_type": "code",
   "execution_count": null,
   "metadata": {
    "collapsed": true
   },
   "outputs": [],
   "source": [
    "\"\"\" habilitando plots no notebook \"\"\"\n",
    "%matplotlib inline"
   ]
  },
  {
   "cell_type": "code",
   "execution_count": null,
   "metadata": {
    "collapsed": true
   },
   "outputs": [],
   "source": [
    "\"\"\" plot libs \"\"\"\n",
    "import matplotlib.pyplot as plt\n",
    "import seaborn as sns"
   ]
  },
  {
   "cell_type": "code",
   "execution_count": null,
   "metadata": {
    "collapsed": true
   },
   "outputs": [],
   "source": [
    "\"\"\" Configurando o Matplotlib para o modo manual \"\"\"\n",
    "plt.interactive(False)"
   ]
  },
  {
   "cell_type": "markdown",
   "metadata": {},
   "source": [
    "# Dataset\n",
    "\n",
    "Dataset usado para os exemplos a seguir."
   ]
  },
  {
   "cell_type": "code",
   "execution_count": null,
   "metadata": {
    "collapsed": true
   },
   "outputs": [],
   "source": [
    "\"\"\" DataFrame contendo 5 Séries com Distribuições Normais distintas \"\"\"\n",
    "df = pd.DataFrame(\n",
    "    columns=[\"S1\", \"S2\", \"S3\", \"S4\", \"S5\"],\n",
    "    data=(np.random.randn(100, 5) * np.array([10, 15, 50, 100, 200]) + np.array([0, 5, 30, 30, 50]))\n",
    ")"
   ]
  },
  {
   "cell_type": "markdown",
   "metadata": {},
   "source": [
    "# Histogram Plot"
   ]
  },
  {
   "cell_type": "markdown",
   "metadata": {},
   "source": [
    "## Matplotlib Puro"
   ]
  },
  {
   "cell_type": "code",
   "execution_count": null,
   "metadata": {},
   "outputs": [],
   "source": [
    "\"\"\" Histograma sem Normalização:\n",
    "    Eixo Y é a contagem de elementos dentro de cada `bucket`.\n",
    "\"\"\"\n",
    "plt.figure(figsize=(12,8))\n",
    "\n",
    "plt.hist(df.S1, bins=10)\n",
    "\n",
    "plt.show()"
   ]
  },
  {
   "cell_type": "code",
   "execution_count": null,
   "metadata": {},
   "outputs": [],
   "source": [
    "\"\"\" Histograma com Normalização:\n",
    "    Eixo Y é o percentual de elementos dentro de cada `bucket`.\"\"\"\n",
    "plt.figure(figsize=(12,8))\n",
    "\n",
    "plt.hist(df.S1, bins=10, normed=True)\n",
    "\n",
    "plt.show()\n",
    "df.S1.describe()"
   ]
  },
  {
   "cell_type": "code",
   "execution_count": null,
   "metadata": {},
   "outputs": [],
   "source": [
    "\"\"\" Histograma de duas Séries \"\"\"\n",
    "plt.figure(figsize=(12,8))\n",
    "\n",
    "plt.hist(df[[\"S1\", \"S2\"]], bins=10, normed=True)\n",
    "\n",
    "plt.show()\n",
    "df[[\"S1\", \"S2\"]].describe()"
   ]
  },
  {
   "cell_type": "code",
   "execution_count": null,
   "metadata": {
    "collapsed": true
   },
   "outputs": [],
   "source": [
    "\"\"\" Histograma de mais de duas Séries \"\"\"\n",
    "plt.figure(figsize=(12,8))\n",
    "\n",
    "plt.hist(df, bins=10, normed=True)\n",
    "\n",
    "plt.show()\n",
    "df.describe()"
   ]
  },
  {
   "cell_type": "markdown",
   "metadata": {},
   "source": [
    "### Observação:\n",
    "\n",
    "A visualização do histograma de várias séries é muito confusa usando o matplotlib sozinho. Às vezes é preferível usar uma visualização em uma janela só, como mostrada abaixo. \n",
    "\n",
    "**Importante**: Na visualização abaixo, sempre deve-se configurar o `alpha` (transparência) abaixo de `1.0`; caso contrário, um dos histogramas irá sobrepor o outro."
   ]
  },
  {
   "cell_type": "code",
   "execution_count": null,
   "metadata": {
    "collapsed": true
   },
   "outputs": [],
   "source": [
    "plt.figure(figsize=(15,10))\n",
    "\n",
    "plt.hist(df.S1, bins=10, normed=True, color=\"blue\", alpha=0.5, label=\"S1\")\n",
    "plt.hist(df.S2, bins=10, normed=True, color=\"red\", alpha=0.5, label=\"S2\")\n",
    "plt.legend()\n",
    "plt.show()"
   ]
  },
  {
   "cell_type": "markdown",
   "metadata": {},
   "source": [
    "## Usando Pandas"
   ]
  },
  {
   "cell_type": "code",
   "execution_count": null,
   "metadata": {
    "collapsed": true
   },
   "outputs": [],
   "source": [
    "\"\"\" Uma Série \"\"\"\n",
    "df.S1.hist(bins=10, normed=True, figsize=(12,8))\n",
    "\n",
    "plt.show()"
   ]
  },
  {
   "cell_type": "code",
   "execution_count": null,
   "metadata": {
    "collapsed": true
   },
   "outputs": [],
   "source": [
    "\"\"\" Histograma de duas Séries \"\"\"\n",
    "df[[\"S1\", \"S2\"]].hist(bins=10, normed=True, figsize=(12,8))\n",
    "\n",
    "plt.show()\n",
    "df[[\"S1\", \"S2\"]].describe()"
   ]
  },
  {
   "cell_type": "code",
   "execution_count": null,
   "metadata": {
    "collapsed": true
   },
   "outputs": [],
   "source": [
    "\"\"\" Histograma de mais de duas Séries \"\"\"\n",
    "df.hist(bins=10, figsize=(12,8))\n",
    "\n",
    "plt.show()\n",
    "df.describe()"
   ]
  },
  {
   "cell_type": "markdown",
   "metadata": {},
   "source": [
    "## Usando Seaborn"
   ]
  },
  {
   "cell_type": "code",
   "execution_count": null,
   "metadata": {
    "collapsed": true
   },
   "outputs": [],
   "source": [
    "\"\"\" Uma Série \"\"\"\n",
    "plt.figure( figsize=(12,8))\n",
    "\n",
    "sns.distplot(df.S1)\n",
    "\n",
    "plt.show()"
   ]
  },
  {
   "cell_type": "markdown",
   "metadata": {},
   "source": [
    "### Observação:\n",
    "\n",
    "Seaborn não suporta hist plot de várias colunas de um DataFrame automaticamente"
   ]
  },
  {
   "cell_type": "code",
   "execution_count": null,
   "metadata": {
    "collapsed": true
   },
   "outputs": [],
   "source": [
    "\"\"\" Histograma de duas Séries (1) \"\"\"\n",
    "plt.figure( figsize=(12,8))\n",
    "\n",
    "f, axes = plt.subplots(2, 1, figsize=(15, 8), sharex=True)\n",
    "\n",
    "sns.distplot(df.S1, kde=False, color=\"blue\", ax=axes[0])\n",
    "sns.distplot(df.S2, kde=True, color=\"red\", ax=axes[1])\n",
    "\n",
    "plt.show()\n",
    "df[[\"S1\", \"S2\"]].describe()"
   ]
  },
  {
   "cell_type": "code",
   "execution_count": null,
   "metadata": {
    "collapsed": true
   },
   "outputs": [],
   "source": [
    "\"\"\" Histograma de duas Séries (1) \"\"\"\n",
    "\n",
    "f, axes = plt.subplots(1, 2, figsize=(15, 8), sharex=True)\n",
    "\n",
    "sns.distplot(df.S1, kde=False, color=\"blue\", ax=axes[0])\n",
    "sns.distplot(df.S2, kde=True, color=\"red\", ax=axes[1])\n",
    "\n",
    "plt.show()\n",
    "df[[\"S1\", \"S2\"]].describe()"
   ]
  },
  {
   "cell_type": "code",
   "execution_count": null,
   "metadata": {
    "collapsed": true
   },
   "outputs": [],
   "source": [
    "\"\"\" Histograma de mais de duas Séries \"\"\"\n",
    "\n",
    "plt.figure( figsize=(12,8))\n",
    "\n",
    "f, axes = plt.subplots(3, 2, figsize=(15, 8), sharex=True)\n",
    "\n",
    "sns.distplot(df.S1, kde=False, color=\"blue\", ax=axes[0, 0])\n",
    "sns.distplot(df.S2, kde=True, color=\"red\", ax=axes[0, 1])\n",
    "sns.distplot(df.S3, kde=True, color=\"orange\", ax=axes[1, 0])\n",
    "sns.distplot(df.S4, kde=True, rug=True, color=\"gray\", ax=axes[1, 1])\n",
    "sns.distplot(df.S5, hist=False, kde_kws={\"shade\": True}, color=\"purple\", ax=axes[2, 1])\n",
    "\n",
    "plt.show()\n",
    "df[[\"S1\", \"S2\"]].describe()"
   ]
  },
  {
   "cell_type": "markdown",
   "metadata": {},
   "source": [
    "# Box Plot"
   ]
  },
  {
   "cell_type": "markdown",
   "metadata": {},
   "source": [
    "## Matplotlib Puro"
   ]
  },
  {
   "cell_type": "markdown",
   "metadata": {},
   "source": [
    "### Uma Série"
   ]
  },
  {
   "cell_type": "code",
   "execution_count": null,
   "metadata": {
    "collapsed": true
   },
   "outputs": [],
   "source": [
    "\"\"\" default: vertical \"\"\"\n",
    "plt.figure(figsize=(15,10))\n",
    "\n",
    "plt.boxplot(df.S1)\n",
    "\n",
    "plt.show()"
   ]
  },
  {
   "cell_type": "code",
   "execution_count": null,
   "metadata": {
    "collapsed": true
   },
   "outputs": [],
   "source": [
    "\"\"\" horizontal pra variar \"\"\"\n",
    "\n",
    "plt.figure(figsize=(15,10))\n",
    "\n",
    "plt.boxplot(df.S1, vert=False)\n",
    "\n",
    "plt.show()"
   ]
  },
  {
   "cell_type": "markdown",
   "metadata": {},
   "source": [
    "### Mais Séries"
   ]
  },
  {
   "cell_type": "code",
   "execution_count": null,
   "metadata": {
    "collapsed": true
   },
   "outputs": [],
   "source": [
    "plt.figure(figsize=(15,10))\n",
    "\n",
    "plt.boxplot(df.T)\n",
    "\n",
    "plt.show()"
   ]
  },
  {
   "cell_type": "markdown",
   "metadata": {},
   "source": [
    "### Outliers!!!"
   ]
  },
  {
   "cell_type": "code",
   "execution_count": null,
   "metadata": {
    "collapsed": true
   },
   "outputs": [],
   "source": [
    "tmp1 = df[[\"S1\", \"S2\"]]\n",
    "tmp2 = df[[\"S3\", \"S3\"]]\n",
    "tmp2.columns = tmp1.columns  # append com colunas iguais não cria NaNs \n",
    "\n",
    "tmp = tmp1.append(tmp2)"
   ]
  },
  {
   "cell_type": "code",
   "execution_count": null,
   "metadata": {
    "collapsed": true
   },
   "outputs": [],
   "source": [
    "plt.figure(figsize=(15,10))\n",
    "\n",
    "plt.boxplot(tmp.T)\n",
    "\n",
    "plt.show()\n",
    "tmp.describe(percentiles=[0.1, 0.2, 0.3, 0.4, 0.5, 0.6, 0.7, 0.8, 0.9])"
   ]
  },
  {
   "cell_type": "markdown",
   "metadata": {},
   "source": [
    "## Pandas for the Go!"
   ]
  },
  {
   "cell_type": "markdown",
   "metadata": {},
   "source": [
    "#### Todos Juntos e com Labels!"
   ]
  },
  {
   "cell_type": "code",
   "execution_count": null,
   "metadata": {
    "collapsed": true
   },
   "outputs": [],
   "source": [
    "df.plot(kind=\"box\", figsize=(15,10))\n",
    "plt.show()"
   ]
  },
  {
   "cell_type": "markdown",
   "metadata": {},
   "source": [
    "### Outliers!!!"
   ]
  },
  {
   "cell_type": "code",
   "execution_count": null,
   "metadata": {
    "collapsed": true
   },
   "outputs": [],
   "source": [
    "tmp1 = df.copy()\n",
    "tmp2 = df[[\"S5\", \"S5\", \"S5\", \"S5\", \"S5\"]]\n",
    "tmp2.columns = tmp1.columns  # append com colunas iguais não cria NaNs \n",
    "\n",
    "tmp = tmp1.append(tmp2)"
   ]
  },
  {
   "cell_type": "code",
   "execution_count": null,
   "metadata": {
    "collapsed": true
   },
   "outputs": [],
   "source": [
    "plt.figure(figsize=(15,10))\n",
    "\n",
    "tmp.plot(kind=\"box\", figsize=(15,10))\n",
    "\n",
    "plt.show()\n",
    "tmp.describe(percentiles=[0.1, 0.2, 0.3, 0.4, 0.5, 0.6, 0.7, 0.8, 0.9])"
   ]
  },
  {
   "cell_type": "markdown",
   "metadata": {},
   "source": [
    "## Seaborn"
   ]
  },
  {
   "cell_type": "code",
   "execution_count": null,
   "metadata": {
    "collapsed": true
   },
   "outputs": [],
   "source": [
    "plt.figure(figsize=(15,10))\n",
    "\n",
    "sns.boxplot(data=df)\n",
    "\n",
    "plt.show()"
   ]
  }
 ],
 "metadata": {
  "kernelspec": {
   "display_name": "Python 3",
   "language": "python",
   "name": "python3"
  },
  "language_info": {
   "codemirror_mode": {
    "name": "ipython",
    "version": 3
   },
   "file_extension": ".py",
   "mimetype": "text/x-python",
   "name": "python",
   "nbconvert_exporter": "python",
   "pygments_lexer": "ipython3",
   "version": "3.6.2"
  }
 },
 "nbformat": 4,
 "nbformat_minor": 2
}
