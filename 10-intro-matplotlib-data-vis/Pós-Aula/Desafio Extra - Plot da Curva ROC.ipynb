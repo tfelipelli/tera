{
 "cells": [
  {
   "cell_type": "markdown",
   "metadata": {},
   "source": [
    "# Desafio Extra - Plot da Curva ROC"
   ]
  },
  {
   "cell_type": "markdown",
   "metadata": {},
   "source": [
    "___"
   ]
  },
  {
   "cell_type": "markdown",
   "metadata": {},
   "source": [
    "# Imports Auxiliares para a Aula"
   ]
  },
  {
   "cell_type": "code",
   "execution_count": 1,
   "metadata": {
    "collapsed": true
   },
   "outputs": [],
   "source": [
    "import matplotlib.pyplot as plt\n",
    "import numpy as np\n",
    "import pandas as pd"
   ]
  },
  {
   "cell_type": "code",
   "execution_count": 2,
   "metadata": {
    "collapsed": true
   },
   "outputs": [],
   "source": [
    "%matplotlib inline\n",
    "plt.interactive(False)"
   ]
  },
  {
   "cell_type": "markdown",
   "metadata": {},
   "source": [
    "# Objetivo:\n",
    "\n",
    "Construir o plot da **Curva ROC (Receiver Operating Characteristic)**.\n",
    "\n",
    "A Curva ROC é um gráfico que permite verificar a qualidade de uma solução de classificador binário já treinada.\n",
    "\n",
    "A Linha pontilhada em **azul** mostra o desempenho de um classificador aleatório (i.e. chute aleatório de 1 ou 0); a linha **amarela** mostra o desempenho do classificador treinado em avaliação. Caso a curva amarela esteja abaixo da azul em algum momento, o clasifcador treinado é pior do que a solução aleatória.\n",
    "\n",
    "Para mais detalhes, consulte a [referência externa para a curva ROC](https://en.wikipedia.org/wiki/Receiver_operating_characteristic).\n",
    "\n",
    "O resultado esperado pode ser visto na figura abaixo."
   ]
  },
  {
   "cell_type": "markdown",
   "metadata": {},
   "source": [
    "<img src=\"images/modulo_1-desafio.png\")>"
   ]
  },
  {
   "cell_type": "markdown",
   "metadata": {},
   "source": [
    "# Variáveis\n",
    "\n",
    "As variáveis da Curva ROC já estão dada abaixo, não sendo necessário treinar um classificador para o exercício. \n",
    "\n",
    "Para quem quiser entender como os valores abaixo são calculados, leia a [página de referência no site do Scikit-Learn](http://scikit-learn.org/stable/auto_examples/model_selection/plot_roc.html)."
   ]
  },
  {
   "cell_type": "code",
   "execution_count": 3,
   "metadata": {
    "collapsed": true
   },
   "outputs": [],
   "source": [
    "x = np.array([ 0.        ,  0.        ,  0.01960784,  0.01960784,  0.07843137,\n",
    "               0.07843137,  0.09803922,  0.09803922,  0.11764706,  0.11764706,\n",
    "               0.1372549 ,  0.1372549 ,  0.15686275,  0.15686275,  0.17647059,\n",
    "               0.17647059,  0.31372549,  0.31372549,  0.33333333,  0.33333333,\n",
    "               0.35294118,  0.35294118,  0.41176471,  0.41176471,  0.45098039,\n",
    "               0.45098039,  0.47058824,  0.47058824,  0.50980392,  0.50980392,\n",
    "               0.56862745,  0.56862745,  1.        ])"
   ]
  },
  {
   "cell_type": "code",
   "execution_count": 4,
   "metadata": {
    "collapsed": true
   },
   "outputs": [],
   "source": [
    "y = np.array([ 0.04166667,  0.125     ,  0.125     ,  0.25      ,  0.25      ,\n",
    "               0.29166667,  0.29166667,  0.33333333,  0.33333333,  0.41666667,\n",
    "               0.41666667,  0.5       ,  0.5       ,  0.54166667,  0.54166667,\n",
    "               0.58333333,  0.58333333,  0.66666667,  0.66666667,  0.75      ,\n",
    "               0.75      ,  0.79166667,  0.79166667,  0.83333333,  0.83333333,\n",
    "               0.875     ,  0.875     ,  0.91666667,  0.91666667,  0.95833333,\n",
    "               0.95833333,  1.        ,  1.        ])"
   ]
  },
  {
   "cell_type": "code",
   "execution_count": 5,
   "metadata": {
    "collapsed": true
   },
   "outputs": [],
   "source": [
    "roc_auc = 0.78594771241830075"
   ]
  },
  {
   "cell_type": "markdown",
   "metadata": {},
   "source": [
    "# Solução"
   ]
  },
  {
   "cell_type": "code",
   "execution_count": 6,
   "metadata": {},
   "outputs": [
    {
     "data": {
      "image/png": "[encoded data removed]",
      "text/plain": [
       "<matplotlib.figure.Figure at 0x22738171b38>"
      ]
     },
     "metadata": {},
     "output_type": "display_data"
    }
   ],
   "source": [
    "\"\"\" Escreva a a Solução Aqui \"\"\"\n",
    "plt.figure(figsize=(8, 6))\n",
    "\n",
    "plt.plot(x, y, color=\"darkorange\", linestyle=\"-\", linewidth=3)\n",
    "plt.plot(x, x, color=\"blue\", linestyle=\"--\", linewidth=3)\n",
    "\n",
    "plt.ylim(0, 1.03)\n",
    "plt.xlim(0, 1)\n",
    "\n",
    "plt.title(\"Receiver operating characteristic example\", fontsize=16)\n",
    "plt.ylabel(\"True positive rate\", fontsize=14)\n",
    "plt.xlabel(\"False positive rate\", fontsize=14)\n",
    "\n",
    "plt.legend([\"ROC curve (area = {:.2f})\".format(roc_auc)], fontsize=14, loc=\"lower right\")\n",
    "\n",
    "plt.show()"
   ]
  }
 ],
 "metadata": {
  "kernelspec": {
   "display_name": "Python 3",
   "language": "python",
   "name": "python3"
  },
  "language_info": {
   "codemirror_mode": {
    "name": "ipython",
    "version": 3
   },
   "file_extension": ".py",
   "mimetype": "text/x-python",
   "name": "python",
   "nbconvert_exporter": "python",
   "pygments_lexer": "ipython3",
   "version": "3.6.2"
  }
 },
 "nbformat": 4,
 "nbformat_minor": 2
}
