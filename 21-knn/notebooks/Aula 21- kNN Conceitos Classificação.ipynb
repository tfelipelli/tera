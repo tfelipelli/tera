{
 "cells": [
  {
   "cell_type": "markdown",
   "metadata": {},
   "source": [
    "# Revisando um pouco o curso do Datacamp"
   ]
  },
  {
   "cell_type": "code",
   "execution_count": 34,
   "metadata": {},
   "outputs": [
    {
     "name": "stdout",
     "output_type": "stream",
     "text": [
      "(1797, 8, 8)\n",
      "(1797, 64)\n"
     ]
    },
    {
     "data": {
      "image/png": "[encoded data removed]",
      "text/plain": [
       "<Figure size 432x288 with 1 Axes>"
      ]
     },
     "metadata": {},
     "output_type": "display_data"
    }
   ],
   "source": [
    "# Import necessary modules\n",
    "from sklearn import datasets\n",
    "import matplotlib.pyplot as plt\n",
    "from tqdm import tqdm\n",
    "from scipy.spatial import distance as dst\n",
    "import numpy as np\n",
    "from collections import Counter\n",
    "from sklearn.metrics import accuracy_score\n",
    "from sklearn.model_selection import cross_val_score\n",
    "\n",
    "# Load the digits dataset: digits\n",
    "digits = datasets.load_digits()\n",
    "\n",
    "# Print the keys and DESCR of the dataset\n",
    "#print(digits.keys())\n",
    "#print(digits['DESCR'])\n",
    "\n",
    "# Print the shape of the images and data keys\n",
    "print(digits.images.shape)\n",
    "print(digits.data.shape)\n",
    "\n",
    "# Display digit 1010\n",
    "plt.imshow(digits.images[1010], cmap=plt.cm.gray_r, interpolation='nearest')\n",
    "plt.show()"
   ]
  },
  {
   "cell_type": "code",
   "execution_count": 14,
   "metadata": {},
   "outputs": [
    {
     "name": "stdout",
     "output_type": "stream",
     "text": [
      "0.983333333333\n"
     ]
    }
   ],
   "source": [
    "# Import necessary modules\n",
    "from sklearn.neighbors import KNeighborsClassifier\n",
    "from sklearn.model_selection import train_test_split\n",
    "\n",
    "# Create feature and target arrays\n",
    "X = digits.data\n",
    "y = digits.target\n",
    "\n",
    "# Split into training and test set\n",
    "X_train, X_test, y_train, y_test = train_test_split(\n",
    "    X, y, test_size = 0.2, random_state=42, stratify=y)\n",
    "\n",
    "# Create a k-NN classifier with 7 neighbors: knn\n",
    "knn = ___________()\n",
    "\n",
    "# Fit the classifier to the training data\n",
    "knn.fit(______, ______)\n",
    "\n",
    "# Print the accuracy\n",
    "print(knn._____(X_test, y_test))"
   ]
  },
  {
   "cell_type": "markdown",
   "metadata": {},
   "source": [
    "Revisando um pouco com um pouco mais de detalhe o `kNN`, pode-se dizer que é um algoritmo `não paramétrico` . Ou seja, ele não faz nenhuma suposição sobre a forma da função que estamos prever. No caso, estamos trabalhando com imagens e não há nenhuma hipótese inicial sobre a forma dos nossos dados. Isso impede erros de modelagem. Por exemplo, suponha que nosso dado tem uma forma altamente `não Gaussiana`, mas o modelo de aprendizagemque escolhemos assume que nossos dados tenham uma distribuição `Gaussiana`. Isso seria meio bizarro, certo?"
   ]
  },
  {
   "cell_type": "markdown",
   "metadata": {},
   "source": [
    "Além disso, é um algortimo \"Instance-Based learning\". Isto é, nosso algoritmo não faz nenhuma ação explícita quando aprende um modelo. Ou seja, o algoritmo faz uma \"escolha\" de \"memorizar\" os dados de treino e fazer a computação das distâncias no caso de teste.\n",
    "\n",
    "Em outras palavras, o kNN é conhecido por ter um treino mínimo mas ter um teste pesado."
   ]
  },
  {
   "cell_type": "markdown",
   "metadata": {},
   "source": [
    "Dito isso, será que conseguimos _reproduzir_ o _kNN_ na unha?"
   ]
  },
  {
   "cell_type": "code",
   "execution_count": 21,
   "metadata": {
    "collapsed": true
   },
   "outputs": [],
   "source": [
    "def train(X_train, y_train):\n",
    "    #TODO"
   ]
  },
  {
   "cell_type": "code",
   "execution_count": 29,
   "metadata": {
    "collapsed": true
   },
   "outputs": [],
   "source": [
    "def predict(X_train, y_train, x_test, k, distance_metric=dst.euclidean):\n",
    "    #TODO"
   ]
  },
  {
   "cell_type": "code",
   "execution_count": null,
   "metadata": {
    "collapsed": true
   },
   "outputs": [],
   "source": [
    "def kNearestNeighbor(X_train, y_train, X_test, predictions, k):\n",
    "    # check if k larger than n\n",
    "    if k > len(X_train):\n",
    "        raise ValueError\n",
    "\n",
    "    # train on the input data\n",
    "    train(X_train, y_train)\n",
    "\n",
    "    # predict for each testing observation\n",
    "    for i in tqdm(range(len(X_test))):\n",
    "        predictions.append(predict(X_train, y_train, X_test[i, :], k))\n",
    "\n",
    "# making our predictions \n",
    "predictions = []\n",
    "try:\n",
    "    kNearestNeighbor(X_train, y_train, X_test, predictions, 7)\n",
    "    predictions = np.asarray(predictions)\n",
    "\n",
    "    # evaluating accuracy\n",
    "    accuracy = accuracy_score(y_test, predictions) * 100\n",
    "    print('\\nThe accuracy of OUR classifier is %d%%' % accuracy)\n",
    "\n",
    "except ValueError:\n",
    "    print('Can\\'t have more neighbors than training samples!!')"
   ]
  },
  {
   "cell_type": "markdown",
   "metadata": {},
   "source": [
    "Duas coisas a se pensar: As métricas de distância e o porquê do k's"
   ]
  },
  {
   "cell_type": "markdown",
   "metadata": {},
   "source": [
    "- Sobre o número de k's\n",
    "\n",
    "Quando o número de K é pequeno, nós estamos restringindo a região para uma região específica e forçando o nosso classificador a ser mais \"cego\" em comparação com a distribuição total. É normal a formação de chamadas \"ilhas\". Um valor pequeno do K pode promover um fit mais flexível, mais complexo. Em outras palavras, nosso modelo consegue aprender bem para o caso de treino, mas falha em generalizar para casos não vistos. Assim, com um K baixo nós temos um bias baixo, mais uma variância alta. Isso pode causar o problema de overfitting\n",
    "\n",
    "![](../data/imgs/knn2.png)\n",
    "\n",
    "Como foi visto no curso do DataCamp, sob o pretesto de classificação, o K-NN basicamente forma um 'majoroty voting' entre os K pontos mais similares de acordo com uma métrica de distância, dado um ponto não visto. Em outras palavras, se eu tenho um ponto novo e os 5 caras mais próximos deles são azuis e 3 são vermelhos, então ele é azul.\n",
    "\n",
    "Contudo, um valor alto de K faz com que as `decision boundary` dos nossos dados seja mais \"suave\" de forma que nosso modelo generalize melhor (aumentando o seu bias e reduzindo a variância), mas talvez a decision boundary fique tão \"simples\" que nosso modelo falhe para classificações dos dados de treino (underfitting).\n",
    "\n",
    "![](../data/imgs/knn3.png)\n",
    "\n",
    "![](../data/imgs/knn8.png)"
   ]
  },
  {
   "cell_type": "markdown",
   "metadata": {},
   "source": [
    "- Sobre as métricas de distância"
   ]
  },
  {
   "cell_type": "markdown",
   "metadata": {},
   "source": [
    "Como estamos considerando essa questão de \"proximidade\", há várias formas de pensarmos como a distância entre dois pontos pode ser computada já que elas podem representar diferentes formas de mostrar a similaridade entre dois pontos.\n",
    "\n",
    "Dependendo do problema que estamos tratando, o uso de diferentes métricas de distância pode impactar até a performance do desempenho do modelo.\n",
    "\n",
    "A mais comum é a distância L1, ou a Euclideana que nada mais é do que a ditância em uma linha reta entre dois pontos:\n",
    "\n",
    "`scipy.spatial.distance.euclidean()`. Contudo, existem várias outras: a Hamming , que serve para diferenças categóricas; Manhattan..\n",
    "\n",
    "\n",
    "O ponto é que existem várias métricas de distâncias e várias opções dependendo do seu problema.\n",
    "Vocês podem ver alguns exemplos aqui:\n",
    "https://docs.scipy.org/doc/scipy/reference/spatial.distance.html#module-scipy.spatial.distance\n"
   ]
  },
  {
   "cell_type": "markdown",
   "metadata": {},
   "source": [
    "## Cross Validation\n",
    "\n",
    "Vimos dois exemplos de parâmetros que não são aprendidos pelo modelo: o uso de uma métrica de distiancia específica entre várias opções e o número ideal de K's. Ambos os casos são exemplos de **hiperparâmetros**. Na prática, sabemos que o melhor K é aquele que corresponde à menor taxa de erro para os nossos dados de teste.\n",
    "\n",
    "Então uma forma da gente testar isso seria testar diferentes K's para os nossos casos de teste, certo? **Errado** !\n",
    "\n"
   ]
  },
  {
   "cell_type": "markdown",
   "metadata": {},
   "source": [
    "A ideia aqui é a gente usar o nosso caso de teste para simularmos dados que nunca foram vistos. Ora, se a gente treina em cima dos dados de teste, nós estamos viciando nossos dados (e o pior, estamos treinando **usando dados de teste**) e isso é um caso claro de **overfitting**\n",
    "![](../data/imgs/knn4.png)"
   ]
  },
  {
   "cell_type": "markdown",
   "metadata": {},
   "source": [
    "**Usar os dados de teste é algo que só deve ser feito ao final do pipeline de treinamento, quando já escolhemos, inclusive os hiperparâmetros**."
   ]
  },
  {
   "cell_type": "markdown",
   "metadata": {},
   "source": [
    "Uma alternativa e aposta mais inteligente é fazer uma divisão a mais nos nossos dados. Nós passamos a dividir nosso conjunto de dados em três: treino, **validação** e teste. Esse conjunto de **validação** será usado para a escolha de hiperparâmetros do nosso algoritmo. Há diversas abordagens para atacar esse problema e uma das mais famosas é o _k-fold cross validation_.\n",
    "\n",
    "![](../data/imgs/knn5.png)"
   ]
  },
  {
   "cell_type": "markdown",
   "metadata": {},
   "source": [
    "Como a imagem apresentada, o k-fold cross validation divide o dataset de treinamento em k grupos ou \"folds\" de aproximadamente mesmo tamanho. O primeiro grupo  é tratado como dataset de validação e os outros k-1 grupos são usados para treinar. Computa-se o erro e repete-se o processo K vezes, modificando o grupo que é tratado como dataset de validação. Esse processo resulta em k resultados, cuja média é o resultado final do desempenho do modelo.\n",
    "\n",
    "O scikit-learn já conta com esse tipo de método para fazer cross-validation, o `cross_val_score`. Nós especificamos o número de folds e nossa métrica é a acurácia já que estamos falando de classificação."
   ]
  },
  {
   "cell_type": "code",
   "execution_count": 37,
   "metadata": {},
   "outputs": [
    {
     "name": "stderr",
     "output_type": "stream",
     "text": [
      "100%|██████████| 25/25 [00:06<00:00,  3.56it/s]\n"
     ]
    }
   ],
   "source": [
    "# creating odd list of K for KNN\n",
    "myList = list(range(1,50))\n",
    "\n",
    "# subsetting just the odd ones\n",
    "neighbors = filter(lambda x: x % 2 != 0, myList)\n",
    "neighbors = list(neighbors)\n",
    "\n",
    "# empty list that will hold cv scores\n",
    "cv_scores = []\n",
    "\n",
    "# perform 10-fold cross validation\n",
    "for k in tqdm(neighbors):\n",
    "    knn = KNeighborsClassifier(n_neighbors=k)\n",
    "    scores = cross_val_score(knn, X_train, y_train, cv=10, scoring='accuracy')\n",
    "    cv_scores.append(scores.mean())"
   ]
  },
  {
   "cell_type": "markdown",
   "metadata": {},
   "source": [
    "E agora nós podemos plotar o erro para cada caso"
   ]
  },
  {
   "cell_type": "code",
   "execution_count": 40,
   "metadata": {},
   "outputs": [
    {
     "name": "stdout",
     "output_type": "stream",
     "text": [
      "The optimal number of neighbors is 3\n"
     ]
    },
    {
     "data": {
      "image/png": "[encoded data removed]",
      "text/plain": [
       "<Figure size 432x288 with 1 Axes>"
      ]
     },
     "metadata": {},
     "output_type": "display_data"
    }
   ],
   "source": [
    "# changing to misclassification error\n",
    "MSE = [1 - x for x in cv_scores]\n",
    "\n",
    "# determining best k\n",
    "optimal_k = neighbors[MSE.index(min(MSE))]\n",
    "print (\"The optimal number of neighbors is {}\".format(optimal_k))\n",
    "\n",
    "# plot misclassification error vs k\n",
    "plt.plot(neighbors, MSE)\n",
    "plt.xlabel('Number of Neighbors K')\n",
    "plt.ylabel('Misclassification Error')\n",
    "plt.show()"
   ]
  },
  {
   "cell_type": "markdown",
   "metadata": {},
   "source": [
    "Contudo, também tem outra estratégia muito melhor de fazermos a seleção dos hiperparâmetros ideias: o `grid search cv`, que basicamente além de fazer o cross validation, faz todas as combinações de hiperparâmetros desejada."
   ]
  },
  {
   "cell_type": "code",
   "execution_count": 44,
   "metadata": {
    "collapsed": true
   },
   "outputs": [],
   "source": [
    "from sklearn.model_selection import GridSearchCV\n",
    "\n",
    "# Set the parameters by cross-validation\n",
    "tuned_parameters = [{'metric': ['euclidean', 'hamming'], 'n_neighbors': [1,2,3,4,5,6,7,8,9]}]"
   ]
  },
  {
   "cell_type": "code",
   "execution_count": 54,
   "metadata": {},
   "outputs": [
    {
     "name": "stdout",
     "output_type": "stream",
     "text": [
      "Best parameters set found on development set:\n",
      "\n",
      "{'metric': 'euclidean', 'n_neighbors': 1}\n",
      "\n",
      "Grid scores on development set:\n",
      "\n",
      "0.990 (+/-0.019) for {'metric': 'euclidean', 'n_neighbors': 1}\n",
      "0.985 (+/-0.018) for {'metric': 'euclidean', 'n_neighbors': 2}\n",
      "0.990 (+/-0.018) for {'metric': 'euclidean', 'n_neighbors': 3}\n",
      "0.986 (+/-0.022) for {'metric': 'euclidean', 'n_neighbors': 4}\n",
      "0.986 (+/-0.025) for {'metric': 'euclidean', 'n_neighbors': 5}\n",
      "0.987 (+/-0.021) for {'metric': 'euclidean', 'n_neighbors': 6}\n",
      "0.985 (+/-0.032) for {'metric': 'euclidean', 'n_neighbors': 7}\n",
      "0.984 (+/-0.031) for {'metric': 'euclidean', 'n_neighbors': 8}\n",
      "0.981 (+/-0.026) for {'metric': 'euclidean', 'n_neighbors': 9}\n",
      "0.857 (+/-0.051) for {'metric': 'hamming', 'n_neighbors': 1}\n",
      "0.809 (+/-0.044) for {'metric': 'hamming', 'n_neighbors': 2}\n",
      "0.857 (+/-0.035) for {'metric': 'hamming', 'n_neighbors': 3}\n",
      "0.849 (+/-0.039) for {'metric': 'hamming', 'n_neighbors': 4}\n",
      "0.857 (+/-0.046) for {'metric': 'hamming', 'n_neighbors': 5}\n",
      "0.842 (+/-0.057) for {'metric': 'hamming', 'n_neighbors': 6}\n",
      "0.857 (+/-0.048) for {'metric': 'hamming', 'n_neighbors': 7}\n",
      "0.848 (+/-0.048) for {'metric': 'hamming', 'n_neighbors': 8}\n",
      "0.854 (+/-0.047) for {'metric': 'hamming', 'n_neighbors': 9}\n",
      "CPU times: user 25.6 s, sys: 60 ms, total: 25.7 s\n",
      "Wall time: 25.7 s\n"
     ]
    }
   ],
   "source": [
    "%%time\n",
    "clf = GridSearchCV(KNeighborsClassifier(), tuned_parameters, cv=10)\n",
    "clf.fit(X_train, y_train)\n",
    "\n",
    "print(\"Best parameters set found on development set:\")\n",
    "print()\n",
    "print(clf.best_params_)\n",
    "print()\n",
    "print(\"Grid scores on development set:\")\n",
    "print()\n",
    "means = clf.cv_results_['mean_test_score']\n",
    "stds = clf.cv_results_['std_test_score']\n",
    "for mean, std, params in zip(means, stds, clf.cv_results_['params']):\n",
    "    print(\"%0.3f (+/-%0.03f) for %r\"\n",
    "          % (mean, std * 2, params))"
   ]
  }
 ],
 "metadata": {
  "kernelspec": {
   "display_name": "Python (somostera)",
   "language": "python",
   "name": "somostera"
  },
  "language_info": {
   "codemirror_mode": {
    "name": "ipython",
    "version": 3
   },
   "file_extension": ".py",
   "mimetype": "text/x-python",
   "name": "python",
   "nbconvert_exporter": "python",
   "pygments_lexer": "ipython3",
   "version": "3.6.2"
  }
 },
 "nbformat": 4,
 "nbformat_minor": 2
}
