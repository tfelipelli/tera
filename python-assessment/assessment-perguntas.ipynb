{
 "cells": [
  {
   "cell_type": "markdown",
   "metadata": {},
   "source": [
    "# 1. Merge Strings"
   ]
  },
  {
   "cell_type": "markdown",
   "metadata": {},
   "source": [
    "You must merge strings a and b, and then return a single merged string. A merge operation on two strings is described as follows:\n",
    "\n",
    "Append alternating characters from a and b, respectively, to some new string, mergedString.\n",
    "Once all of the characters in one of the strings have been merged, append the remaining characters in the other string to mergedString.\n",
    "\n",
    "----\n",
    "\n",
    "### Test Case 1\n",
    "\n",
    "**Sample Input For Custom Testing**\n",
    "\n",
    "`abc\n",
    "def`\n",
    "\n",
    "**Sample Output**\n",
    "\n",
    "`adbecf`\n",
    "\n",
    "----\n",
    "\n",
    "### Test Case 2\n",
    "\n",
    "**Sample Input For Custom Testing**\n",
    "\n",
    "`ab\n",
    "zsd`\n",
    "\n",
    "**Sample Output**\n",
    "\n",
    "`azbsd`\n"
   ]
  },
  {
   "cell_type": "code",
   "execution_count": null,
   "metadata": {
    "collapsed": true
   },
   "outputs": [],
   "source": [
    "def mergeStrings(a, b):\n",
    "    pass"
   ]
  },
  {
   "cell_type": "code",
   "execution_count": null,
   "metadata": {
    "collapsed": true
   },
   "outputs": [],
   "source": [
    "result = mergeStrings('abc', 'def')\n",
    "assert result == 'adbecf', f'Erro: retornou {result}'"
   ]
  },
  {
   "cell_type": "code",
   "execution_count": null,
   "metadata": {
    "collapsed": true
   },
   "outputs": [],
   "source": [
    "result = mergeStrings('ab', 'zsd')\n",
    "assert result == 'azbsd', f'Erro: retornou {result}'"
   ]
  },
  {
   "cell_type": "markdown",
   "metadata": {},
   "source": [
    "# 2. Modify Prices"
   ]
  },
  {
   "cell_type": "markdown",
   "metadata": {},
   "source": [
    "Michael is a shop owner who keeps a list of the name and sale price for each item in the store's inventory. After each sale, his employees record the name and sale price of every item sold. Michael suspects his manager, Alex, of embezzling money and modifying the sale prices of some of the items. Write a program that finds the number of times Alex recorded an incorrect sale price.\n",
    "\n",
    "Complete the verifyItems function in the editor. It has four parameters:\n",
    "\n",
    "origItems: An array of n strings, where each origItemsi is the name of an item in inventory.\n",
    "\n",
    "origPrices: An array of n floating-point numbers, where each origPrices (i) contains the original price of origItems (i).\n",
    "\n",
    "items: An array of m strings containing the name of the items with sales recorded by Alex.\n",
    "\n",
    "prices: An array of m floating-point numbers, where each prices (j) contains the sale price recorded by Alex for items (j).\n",
    "\n",
    "The function must return an integer denoting the number of sale prices incorrectly recorded by Alex.\n",
    "\n",
    "----\n",
    "\n",
    "### Test Case 1\n",
    "\n",
    "**Sample Input For Custom Testing**\n",
    "\n",
    "`4\n",
    "rice\n",
    "sugar\n",
    "wheat\n",
    "cheese\n",
    "4\n",
    "16.89\n",
    "56.92\n",
    "20.89\n",
    "345.99\n",
    "2\n",
    "rice\n",
    "cheese\n",
    "2\n",
    "18.99\n",
    "400.89`\n",
    "\n",
    "**Sample Output**\n",
    "\n",
    "`2`\n",
    "\n",
    "----\n",
    "\n",
    "### Test Case 2\n",
    "\n",
    "**Sample Input For Custom Testing**\n",
    "\n",
    "`3\n",
    "chocolate\n",
    "cheese\n",
    "tomato\n",
    "3\n",
    "15.00\n",
    "300.90\n",
    "23.44\n",
    "3\n",
    "chocolate\n",
    "cheese\n",
    "tomato\n",
    "3\n",
    "15.00\n",
    "300.90\n",
    "10.00`\n",
    "\n",
    "**Sample Output**\n",
    "\n",
    "`1`\n"
   ]
  },
  {
   "cell_type": "code",
   "execution_count": null,
   "metadata": {
    "collapsed": true
   },
   "outputs": [],
   "source": [
    "def verifyItems(origItems, origPrices, items, prices):\n",
    "    pass"
   ]
  },
  {
   "cell_type": "code",
   "execution_count": null,
   "metadata": {
    "collapsed": true
   },
   "outputs": [],
   "source": [
    "result = verifyItems(['rice', 'sugar', 'wheat', 'cheese'],\n",
    "                     [16.89, 56.92, 20.89, 345.99],\n",
    "                     ['rice', 'cheese'],\n",
    "                     [18.99, 400.89]) == 2\n",
    "\n",
    "assert result == 2, f'Erro: retornou {result}'"
   ]
  },
  {
   "cell_type": "code",
   "execution_count": null,
   "metadata": {
    "collapsed": true
   },
   "outputs": [],
   "source": [
    "result = verifyItems(['chocolate', 'cheese', 'tomato'],\n",
    "                     [15.00, 300.90, 23.44],\n",
    "                     ['chocolate', 'cheese', 'tomato'],\n",
    "                     [15.00, 300.90, 10.00]) == 1\n",
    "\n",
    "assert result == 2, f'Erro: retornou {result}'"
   ]
  },
  {
   "cell_type": "markdown",
   "metadata": {},
   "source": [
    "# 3. Count Duplicates"
   ]
  },
  {
   "cell_type": "markdown",
   "metadata": {},
   "source": [
    "Given an array of integers, your task is to count the number of duplicate array elements. We define a duplicate (non-unique value) of the array to be an integer that appears at least twice in the array. For example, if given array is [1, 1, 2, 2, 2, 3, 4, 3, 9], then there are a total of 3 non-unique values in the array (i.e., 1, 2, and 3).\n",
    "\n",
    "----\n",
    "\n",
    "### Test Case 1\n",
    "\n",
    "**Sample Input For Custom Testing**\n",
    "\n",
    "`8 \n",
    "1 \n",
    "3\n",
    "1\n",
    "4\n",
    "5\n",
    "6\n",
    "3\n",
    "2`\n",
    "\n",
    "**Sample Output**\n",
    "\n",
    "`2`\n",
    "\n",
    "----\n",
    "\n",
    "### Test Case 2\n",
    "\n",
    "**Sample Input For Custom Testing**\n",
    "\n",
    "`6\n",
    "1\n",
    "1\n",
    "2\n",
    "2\n",
    "2\n",
    "3`\n",
    "\n",
    "**Sample Output**\n",
    "\n",
    "`2`\n"
   ]
  },
  {
   "cell_type": "code",
   "execution_count": null,
   "metadata": {
    "collapsed": true
   },
   "outputs": [],
   "source": [
    "def countDuplicates(numbers):\n",
    "    pass"
   ]
  },
  {
   "cell_type": "code",
   "execution_count": null,
   "metadata": {
    "collapsed": true
   },
   "outputs": [],
   "source": [
    "result = countDuplicates([8, 1, 3, 1, 4, 5, 6, 3, 2]) \n",
    "assert result == 2, f'Erro: retornou {result}'"
   ]
  },
  {
   "cell_type": "code",
   "execution_count": null,
   "metadata": {
    "collapsed": true
   },
   "outputs": [],
   "source": [
    "result = countDuplicates([6, 1, 1, 2, 2, 2, 3])\n",
    "assert result == 2, f'Erro: retornou {result}'"
   ]
  },
  {
   "cell_type": "markdown",
   "metadata": {},
   "source": [
    "# 4. Puzzle"
   ]
  },
  {
   "cell_type": "markdown",
   "metadata": {},
   "source": [
    "You are designing a poster which prints out numbers with a unique style applied to each of them.  The styling is based on the number of closed paths or holes present in a given number.  \n",
    "\n",
    "\n",
    "The number of holes that each of the digits from 0 to 9 have are equal to the number of closed paths in the digit. Their values are:\n",
    "\n",
    "1, 2, 3, 5, and 7 = 0 holes.\n",
    "0, 4, 6, and 9 = 1 hole.\n",
    "8 = 2 holes.\n",
    " \n",
    "\n",
    "Given a number, you must determine the sum of the number of holes for each of its digits.\n",
    "\n",
    "---\n",
    "\n",
    "### Test Case 1\n",
    "\n",
    "**Sample Input For Custom Testing**\n",
    "\n",
    "`630`\n",
    "\n",
    "**Sample Output**\n",
    "\n",
    "`2`\n",
    "\n",
    "----\n",
    "\n",
    "### Test Case 2\n",
    "\n",
    "**Sample Input For Custom Testing**\n",
    "\n",
    "`1288`\n",
    "\n",
    "**Sample Output**\n",
    "\n",
    "`4`"
   ]
  },
  {
   "cell_type": "code",
   "execution_count": null,
   "metadata": {
    "collapsed": true
   },
   "outputs": [],
   "source": [
    "def countHoles(num):\n",
    "    pass"
   ]
  },
  {
   "cell_type": "code",
   "execution_count": null,
   "metadata": {
    "collapsed": true
   },
   "outputs": [],
   "source": [
    "result = countHoles(630)\n",
    "assert result == 2, f'Erro: retornou {result}'"
   ]
  },
  {
   "cell_type": "code",
   "execution_count": null,
   "metadata": {
    "collapsed": true
   },
   "outputs": [],
   "source": [
    "result = countHoles(1288)\n",
    "assert result == 4, f'Erro: retornou {result}'"
   ]
  },
  {
   "cell_type": "markdown",
   "metadata": {},
   "source": [
    "# 5. Chocolates"
   ]
  },
  {
   "cell_type": "markdown",
   "metadata": {},
   "source": [
    "Sam loves chocolates and starts buying them on the 1st day of the year. Each day of the year, x, is numbered from 1 to Y. On days when x is odd, Sam will buy x chocolates; on days when x is even, Sam will not purchase any chocolates.\n",
    "\n",
    "Complete the calculate function in the editor so that for each day Ni (where 1 ≤ x ≤ N ≤ Y) in array arr, the number of chocolates Sam purchased (during days 1 through N) is printed on a new line. This is a function-only challenge, so input is handled for you by the locked stub code in the editor.\n",
    "\n",
    "---\n",
    "\n",
    "### Test Case 1\n",
    "\n",
    "**Sample Input For Custom Testing**\n",
    "\n",
    "`[1, 2, 3]`\n",
    "\n",
    "**Sample Output**\n",
    "\n",
    "`[1, 1, 4]`"
   ]
  },
  {
   "cell_type": "code",
   "execution_count": null,
   "metadata": {
    "collapsed": true
   },
   "outputs": [],
   "source": [
    "def calculate(arr):\n",
    "    pass"
   ]
  },
  {
   "cell_type": "code",
   "execution_count": null,
   "metadata": {
    "collapsed": true
   },
   "outputs": [],
   "source": [
    "result = calculate([1, 2, 3])\n",
    "assert result == [1, 1, 4], f'Erro: retornou {result}'"
   ]
  },
  {
   "cell_type": "markdown",
   "metadata": {},
   "source": [
    "# 6. Cupcake Feast"
   ]
  },
  {
   "cell_type": "markdown",
   "metadata": {},
   "source": [
    "Sarah loves going to her favorite bakery, Zillycakes, with n dollars to buy cupcakes. Each cupcake has a flat cost of c dollars, and the store has a promotion where they give you 1 free cupcake for every m cupcake wrappers you trade in.\n",
    "\n",
    "For example, if m = 2 and Sarah has n = 4 dollars that she uses to buy 4 cupcakes at c = 1 dollar apiece, she can trade in the 4 wrappers to buy 2 more cupcakes. Now she has 2 more wrappers that she can trade in for 1 more cupcake. Because she only has 1 wrapper left at this point and 1 < m, she was only able to eat a total of 7 cupcakes.\n",
    "\n",
    "Complete the maximumCupcakes function in your editor. It has 1 parameter: an array of strings named trips. Each string in trips contains the following three space-separated values:\n",
    "\n",
    "An integer, n, denoting the amount of money (in dollars) Sarah can spend during that trip to Zillycakes.\n",
    "An integer, c, denoting the cost of a cupcake in dollars.\n",
    "An integer, m, denoting the number of wrappers that can be traded in for one new cupcake.\n",
    "For each trip to Zillycakes in trips, your function must print an integer denoting the maximum number of cupcakes Sarah can eat on a new line.\n",
    "\n",
    "---\n",
    "\n",
    "### Test Case 1\n",
    "\n",
    "**Sample Input For Custom Testing**\n",
    "\n",
    "`['10 2 5',\n",
    "'12 4 4',\n",
    "'6 2 2']`\n",
    "\n",
    "**Sample Output**\n",
    "\n",
    "`[6, 3, 5]`\n",
    "\n",
    "---\n",
    "\n",
    "### Test Case 1\n",
    "\n",
    "**Sample Input For Custom Testing**\n",
    "\n",
    "`['8 4 2',\n",
    "'7 2 3']`\n",
    "\n",
    "**Sample Output**\n",
    "\n",
    "`[3, 4]`"
   ]
  },
  {
   "cell_type": "code",
   "execution_count": null,
   "metadata": {
    "collapsed": true
   },
   "outputs": [],
   "source": [
    "def maximumCupcakes(trips):\n",
    "    pass"
   ]
  },
  {
   "cell_type": "code",
   "execution_count": null,
   "metadata": {
    "collapsed": true
   },
   "outputs": [],
   "source": [
    "result = maximumCupcakes(['10 2 5',\n",
    "                          '12 4 4',\n",
    "                          '6 2 2'])\n",
    "\n",
    "assert result == [6, 3, 5], f'Erro: retornou {result}'"
   ]
  },
  {
   "cell_type": "code",
   "execution_count": null,
   "metadata": {
    "collapsed": true
   },
   "outputs": [],
   "source": [
    "result = maximumCupcakes(['8 4 2',\n",
    "                         '7 2 3'])\n",
    "\n",
    "assert result == [3, 4], f'Erro: retornou {result}'"
   ]
  }
 ],
 "metadata": {
  "kernelspec": {
   "display_name": "Python 3",
   "language": "python",
   "name": "python3"
  },
  "language_info": {
   "codemirror_mode": {
    "name": "ipython",
    "version": 3
   },
   "file_extension": ".py",
   "mimetype": "text/x-python",
   "name": "python",
   "nbconvert_exporter": "python",
   "pygments_lexer": "ipython3",
   "version": "3.6.3"
  },
  "toc": {
   "nav_menu": {},
   "number_sections": true,
   "sideBar": false,
   "skip_h1_title": true,
   "toc_cell": false,
   "toc_position": {},
   "toc_section_display": "block",
   "toc_window_display": true
  }
 },
 "nbformat": 4,
 "nbformat_minor": 2
}
