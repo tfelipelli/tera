{
 "cells": [
  {
   "cell_type": "markdown",
   "metadata": {},
   "source": [
    "# 1. Merge Strings"
   ]
  },
  {
   "cell_type": "code",
   "execution_count": 1,
   "metadata": {
    "collapsed": true
   },
   "outputs": [],
   "source": [
    "def mergeStrings(a, b):\n",
    "    result = \"\"\n",
    "    min_len = min(len(a), len(b))\n",
    "    \n",
    "    for index in range(min_len):\n",
    "        result = result + a[index] + b[index]\n",
    "    \n",
    "    return result + a[min_len:] + b[min_len:]"
   ]
  },
  {
   "cell_type": "code",
   "execution_count": 2,
   "metadata": {},
   "outputs": [
    {
     "data": {
      "text/plain": [
       "'adbecf'"
      ]
     },
     "execution_count": 2,
     "metadata": {},
     "output_type": "execute_result"
    }
   ],
   "source": [
    "mergeStrings('abc', 'def')"
   ]
  },
  {
   "cell_type": "code",
   "execution_count": 3,
   "metadata": {},
   "outputs": [
    {
     "data": {
      "text/plain": [
       "'azbsd'"
      ]
     },
     "execution_count": 3,
     "metadata": {},
     "output_type": "execute_result"
    }
   ],
   "source": [
    "mergeStrings('ab', 'zsd')"
   ]
  },
  {
   "cell_type": "markdown",
   "metadata": {},
   "source": [
    "# 2. Modify Prices"
   ]
  },
  {
   "cell_type": "code",
   "execution_count": 4,
   "metadata": {
    "collapsed": true
   },
   "outputs": [],
   "source": [
    "def verifyItems(origItems, origPrices, items, prices):\n",
    "    items_prices = {}\n",
    "    for item, price in zip(origItems, origPrices):\n",
    "        items_prices[item] = price\n",
    "    \n",
    "    incorrect_prices = 0\n",
    "    for item, price in zip(items, prices):\n",
    "        if items_prices[item] != price:\n",
    "            incorrect_prices = incorrect_prices + 1\n",
    "    \n",
    "    return incorrect_prices"
   ]
  },
  {
   "cell_type": "code",
   "execution_count": 5,
   "metadata": {},
   "outputs": [
    {
     "data": {
      "text/plain": [
       "2"
      ]
     },
     "execution_count": 5,
     "metadata": {},
     "output_type": "execute_result"
    }
   ],
   "source": [
    "verifyItems(['rice', 'sugar', 'wheat', 'cheese'],\n",
    "            [16.89, 56.92, 20.89, 345.99],\n",
    "            ['rice', 'cheese'],\n",
    "            [18.99, 400.89])"
   ]
  },
  {
   "cell_type": "code",
   "execution_count": 6,
   "metadata": {},
   "outputs": [
    {
     "data": {
      "text/plain": [
       "1"
      ]
     },
     "execution_count": 6,
     "metadata": {},
     "output_type": "execute_result"
    }
   ],
   "source": [
    "verifyItems(['chocolate', 'cheese', 'tomato'],\n",
    "            [15.00, 300.90, 23.44],\n",
    "            ['chocolate', 'cheese', 'tomato'],\n",
    "            [15.00, 300.90, 10.00])"
   ]
  },
  {
   "cell_type": "markdown",
   "metadata": {},
   "source": [
    "# 3. Count Duplicates"
   ]
  },
  {
   "cell_type": "code",
   "execution_count": 7,
   "metadata": {
    "collapsed": true
   },
   "outputs": [],
   "source": [
    "def countDuplicates(numbers):\n",
    "    counts = {}\n",
    "    for number in numbers:\n",
    "        if number not in counts:\n",
    "            counts[number] = 1\n",
    "        else:\n",
    "            counts[number] = counts[number] + 1\n",
    "    \n",
    "    return sum(1 for count in counts.values() if count > 1)"
   ]
  },
  {
   "cell_type": "code",
   "execution_count": 8,
   "metadata": {},
   "outputs": [
    {
     "data": {
      "text/plain": [
       "2"
      ]
     },
     "execution_count": 8,
     "metadata": {},
     "output_type": "execute_result"
    }
   ],
   "source": [
    "countDuplicates([8, 1, 3, 1, 4, 5, 6, 3, 2])"
   ]
  },
  {
   "cell_type": "code",
   "execution_count": 9,
   "metadata": {},
   "outputs": [
    {
     "data": {
      "text/plain": [
       "2"
      ]
     },
     "execution_count": 9,
     "metadata": {},
     "output_type": "execute_result"
    }
   ],
   "source": [
    "countDuplicates([6, 1, 1, 2, 2, 2, 3])"
   ]
  },
  {
   "cell_type": "markdown",
   "metadata": {},
   "source": [
    "# 4. Puzzle"
   ]
  },
  {
   "cell_type": "code",
   "execution_count": 10,
   "metadata": {
    "collapsed": true
   },
   "outputs": [],
   "source": [
    "holes = {\n",
    "    '1': 0, '2': 0, '3': 0, '5': 0, '7': 0,\n",
    "    '0': 1, '4': 1, '6': 1, '9': 1,\n",
    "    '8': 2\n",
    "}\n",
    "\n",
    "def countHoles(num):\n",
    "    count = 0\n",
    "    for digit in str(num):\n",
    "        count = count + holes[digit]\n",
    "    \n",
    "    return count"
   ]
  },
  {
   "cell_type": "code",
   "execution_count": 11,
   "metadata": {},
   "outputs": [
    {
     "data": {
      "text/plain": [
       "2"
      ]
     },
     "execution_count": 11,
     "metadata": {},
     "output_type": "execute_result"
    }
   ],
   "source": [
    "countHoles(630)"
   ]
  },
  {
   "cell_type": "code",
   "execution_count": 12,
   "metadata": {},
   "outputs": [
    {
     "data": {
      "text/plain": [
       "4"
      ]
     },
     "execution_count": 12,
     "metadata": {},
     "output_type": "execute_result"
    }
   ],
   "source": [
    "countHoles(1288)"
   ]
  },
  {
   "cell_type": "markdown",
   "metadata": {},
   "source": [
    "# 5. Chocolates"
   ]
  },
  {
   "cell_type": "code",
   "execution_count": 6,
   "metadata": {
    "collapsed": true
   },
   "outputs": [],
   "source": [
    "def calculate(arr):\n",
    "    results = []\n",
    "    for days in arr:\n",
    "        chocolates = 0\n",
    "        max_value = days\n",
    "        if days % 2 != 0:\n",
    "            max_value = max_value + 1\n",
    "            \n",
    "        chocolates = max_value / 2\n",
    "        results.append((int(chocolates ** 2)))\n",
    "    return results"
   ]
  },
  {
   "cell_type": "code",
   "execution_count": 7,
   "metadata": {},
   "outputs": [
    {
     "data": {
      "text/plain": [
       "[1, 1, 4]"
      ]
     },
     "execution_count": 7,
     "metadata": {},
     "output_type": "execute_result"
    }
   ],
   "source": [
    "calculate([1, 2, 3])"
   ]
  },
  {
   "cell_type": "markdown",
   "metadata": {},
   "source": [
    "# 6. Cupcake Feast"
   ]
  },
  {
   "cell_type": "code",
   "execution_count": 8,
   "metadata": {
    "collapsed": true
   },
   "outputs": [],
   "source": [
    "def maximumCupcakes(trips):\n",
    "    results = []\n",
    "    for trip in trips:\n",
    "        info = trip.split()\n",
    "        \n",
    "        sarah_money = int(info[0])\n",
    "        cupcake_price = int(info[1])\n",
    "        wrapper_for_trade = int(info[2])\n",
    "        \n",
    "        cupcakes_bought = sarah_money // cupcake_price\n",
    "        wrappers = cupcakes_bought\n",
    "        \n",
    "        total = cupcakes_bought\n",
    "        \n",
    "        while wrappers >= wrapper_for_trade:\n",
    "            promotion_cupcakes = wrappers // wrapper_for_trade\n",
    "            total = total + promotion_cupcakes\n",
    "            wrappers = (wrappers % wrapper_for_trade) + promotion_cupcakes\n",
    "            \n",
    "        results.append(total)\n",
    "    return results"
   ]
  },
  {
   "cell_type": "code",
   "execution_count": 9,
   "metadata": {},
   "outputs": [
    {
     "data": {
      "text/plain": [
       "[6, 3, 5]"
      ]
     },
     "execution_count": 9,
     "metadata": {},
     "output_type": "execute_result"
    }
   ],
   "source": [
    "maximumCupcakes(['10 2 5',\n",
    "                 '12 4 4',\n",
    "                 '6 2 2'])"
   ]
  },
  {
   "cell_type": "code",
   "execution_count": 10,
   "metadata": {},
   "outputs": [
    {
     "data": {
      "text/plain": [
       "[3, 4]"
      ]
     },
     "execution_count": 10,
     "metadata": {},
     "output_type": "execute_result"
    }
   ],
   "source": [
    "maximumCupcakes(['8 4 2',\n",
    "                 '7 2 3'])"
   ]
  }
 ],
 "metadata": {
  "kernelspec": {
   "display_name": "Python 3",
   "language": "python",
   "name": "python3"
  },
  "language_info": {
   "codemirror_mode": {
    "name": "ipython",
    "version": 3
   },
   "file_extension": ".py",
   "mimetype": "text/x-python",
   "name": "python",
   "nbconvert_exporter": "python",
   "pygments_lexer": "ipython3",
   "version": "3.6.3"
  },
  "toc": {
   "nav_menu": {},
   "number_sections": true,
   "sideBar": false,
   "skip_h1_title": true,
   "toc_cell": false,
   "toc_position": {},
   "toc_section_display": "block",
   "toc_window_display": true
  }
 },
 "nbformat": 4,
 "nbformat_minor": 2
}
